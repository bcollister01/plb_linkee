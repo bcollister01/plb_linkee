{
 "cells": [
  {
   "cell_type": "code",
   "execution_count": 1,
   "id": "221c5336",
   "metadata": {},
   "outputs": [],
   "source": [
    "from from_root import from_root, from_here\n",
    "import sys\n",
    "import os\n",
    "\n",
    "def from_root(dirname):\n",
    "    '''Wrapper function for from_root.from_root which, if called will return the root of the dirname asked for'''\n",
    "    return(os.popen(f'python -c \"from from_root import from_root; print(from_root(\\'{dirname}\\'))\"').read().strip())\n",
    "scripts_path = from_root(\"scripts\")\n",
    "\n",
    "sys.path.append(scripts_path)\n",
    "from question_gen import *\n",
    "from keyword_find import *"
   ]
  },
  {
   "cell_type": "markdown",
   "id": "685a39d2",
   "metadata": {},
   "source": [
    "## Decide the final answer we are searching for: e.g. Julia Roberts"
   ]
  },
  {
   "cell_type": "markdown",
   "id": "3d5b0a15",
   "metadata": {},
   "source": [
    "## Step 1: Extract text about the final answer"
   ]
  },
  {
   "cell_type": "markdown",
   "id": "c71e83c8",
   "metadata": {},
   "source": [
    "### Using wikipedia package"
   ]
  },
  {
   "cell_type": "code",
   "execution_count": 4,
   "id": "d497d03c",
   "metadata": {},
   "outputs": [],
   "source": [
    "text = wiki_autosuggest(\"Julia Roberts\", suggest=False)"
   ]
  },
  {
   "cell_type": "code",
   "execution_count": 5,
   "id": "55c68e6f",
   "metadata": {},
   "outputs": [
    {
     "data": {
      "text/plain": [
       "'Julia Fiona Roberts (born October 28, 1967) is an American actress. One of Hollywood\\'s most bankable stars, Roberts is known for her leading roles in films of several genres, from romantic comedies and dramas to thrillers and action films. Many of her films have earned over $100 million at the worldwide box office, and six have ranked among the highest-grossing films of their respective years. Her top-billing films have collectively brought in box office receipts of over $3.8 billion globally. She is the recipient of various accolades, including an Academy Award, a British Academy Film Award, and three Golden Globe Awards. Following an early breakthrough with appearances in Mystic Pizza (1988) and Steel Magnolias (1989), Roberts established herself as a leading actress when she headlined the romantic comedy Pretty Woman (1990), which grossed $464 million worldwide. She went on to star in numerous successful films, including Sleeping with the Enemy (1991), Hook (1991), The Pelican Brief (1993), My Best Friend\\'s Wedding (1997), Notting Hill (1999), Runaway Bride (1999), Erin Brockovich (2000), Ocean\\'s Eleven (2001), Ocean\\'s Twelve (2004), Charlie Wilson\\'s War (2007), Valentine\\'s Day (2010), Eat Pray Love (2010), August: Osage County (2013), and Wonder (2017). For her performance in Erin Brockovich, Roberts won the Academy Award for Best Actress. She received a Primetime Emmy Award nomination for her performance in the HBO television film The Normal Heart (2014) and had her first regular television role in the first season of the Amazon Prime Video psychological thriller series Homecoming (2018). Roberts was the world\\'s highest-paid actress throughout the majority of the 1990s, as well as the first half of the 2000s. Her fee for Pretty Woman (1990) was $300,000, while she was paid an unprecedented $25 million for her role in Mona Lisa Smile (2003). As of 2020, Roberts\\'s net worth was estimated to be $250 million. People magazine has named her the most beautiful woman in the world a record five times. Roberts was born on October 28, 1967, in Smyrna, Georgia, a suburb of Atlanta, to Betty Lou Bredemus and Walter Grady Roberts. She is of English, Scottish, Irish, Welsh, German, and Swedish descent. Her father was a Baptist, her mother a Catholic, and she was raised Catholic. Her older brother Eric Roberts (born 1956), from whom she was estranged for several years until 2004, older sister Lisa Roberts Gillan (born 1965), and niece Emma Roberts, are also actors. She also had a younger half-sister named Nancy Motes. Roberts\\'s parents, one-time actors and playwrights, met while performing in theatrical productions for the armed forces. They later co-founded the Atlanta Actors and Writers Workshop in Atlanta, off Juniper Street in Midtown. They ran a children\\'s acting school in Decatur, Georgia, while they were expecting Julia. The children of Coretta and Martin Luther King Jr. attended the school; Walter Roberts served as acting coach for their daughter, Yolanda. As a thank-you for his service, Mrs. King paid Mrs. Roberts\\'s hospital bill when Julia was born.Her parents married in 1955. Her mother filed for divorce in 1971; the divorce was finalized in early 1972. From 1972, Roberts lived in Smyrna, Georgia, where she attended Fitzhugh Lee Elementary School, Griffin Middle School, and Campbell High School. In 1972, her mother married Michael Motes, who was abusive and often unemployed; Roberts despised him. The couple had a daughter, Nancy, who died at 37 on February 9, 2014, of an apparent drug overdose. The marriage ended in 1983, with Betty Lou divorcing Motes on cruelty grounds; she had stated that marrying him was the biggest mistake of her life. Roberts\\'s own father died of cancer when she was ten.Roberts wanted to be a veterinarian as a child. She also played the clarinet in her school band. After graduating from Smyrna\\'s Campbell High School, she attended Georgia State University but did not graduate. She later headed to New York City to pursue a career in acting. Once there, she signed with the Click Modeling Agency and enrolled in acting classes. Following her first television appearance as a juvenile rape victim in the first season of the series Crime Story, with Dennis Farina, in the episode \"The Survivor\", broadcast on February 13, 1987, Roberts made her big screen debut with an appearance in the dramedy Satisfaction (1988), alongside Liam Neeson and Justine Bateman, as a band member looking for a summer gig. She had previously performed a small role opposite her brother Eric, in Blood Red, though she only had two words of dialogue, filmed in 1987, although it was not released until 1989. In 1988, Roberts had a role in the fourth-season finale of Miami Vice and her first critical success with moviegoers came with the independent romantic comedy Mystic Pizza, in which she played a Portuguese-American teenage girl working as a waitress at a pizza parlor. Roger Ebert found Roberts to be a \"major beauty with a fierce energy\" and observed that the film \"may someday become known for the movie stars it showcased back before they became stars. All of the young actors in this movie have genuine gifts\".In Steel Magnolias (1989), a film adaptation of Robert Harling\\'s 1987 play of the same name, Roberts starred as a young bride with diabetes, alongside Sally Field, Dolly Parton, Shirley MacLaine and Daryl Hannah. The filmmakers were looking at both Laura Dern and Winona Ryder when the casting director insisted they saw Roberts, who was then filming Mystic Pizza. Harling stated: \"She walked into the room and that smile lit everything up and I said \\'that\\'s my sister\\', so she joined the party and she was magnificent\". Director Herbert Ross was notoriously tough on newcomer Roberts, with Sally Field admitting that he \"went after Julia with a vengeance. This was pretty much her first big film\". Nevertheless, the film was a critical and commercial darling when it was released, and Roberts received both her first Academy Award nomination (as Best Supporting Actress) and first Golden Globe Award win (Motion Picture Best Supporting Actress) for her performance. Catapulting on her 1989 Academy Award nomination, Roberts gained further notice from worldwide audiences when she starred with Richard Gere in the Cinderella–Pygmalionesque story, Pretty Woman, in 1990, playing an assertive freelance hooker with a heart of gold. Roberts won the role after Michelle Pfeiffer, Molly Ringwald, Meg Ryan, Jennifer Jason Leigh, Karen Allen, and Daryl Hannah (her co-star in Steel Magnolias) turned it down. The role also earned her a second Oscar nomination, this time as Best Actress, and second Golden Globe Award win, as Motion Picture Best Actress (Musical or Comedy). Pretty Woman saw the highest number of ticket sales in the U.S. ever for a romantic comedy, and made $463.4 million worldwide. The red dress Roberts wore in the film has been considered one of the most famous gowns in cinema. Her next film release following Pretty Woman was Joel Schumacher\\'s supernatural thriller Flatliners (also 1990), in which Roberts starred as one of five students conducting clandestine experiments that produce near-death experiences. The production was met with a polarized critical reception, but became a profit at the box office and has since been considered a cult film. In 1991, Roberts played a battered wife attempting to begin a new life in Iowa in the thriller Sleeping with the Enemy, a winged, six-inch-tall tomboyish Tinkerbell in Steven Spielberg\\'s fantasy film Hook and an outgoing yet cautious nurse in her second collaboration with director Joel Schumacher, the romance drama Dying Young. Although negative reviews greeted her 1991 outings, Sleeping with the Enemy grossed $175 million, Hook $300.9 million and Dying Young $82.3 million globally. Roberts took a two-year hiatus from the screen, during which she made no films other than a cameo appearance in Robert Altman\\'s The Player (1992). In early 1993, she was the subject of a People magazine cover story asking, \"What Happened to Julia Roberts?\". Roberts starred with Denzel Washington in the thriller The Pelican Brief (1993), based on John Grisham\\'s 1992 novel of the same name. In it, she played a young law student who uncovers a conspiracy, putting herself and others in danger. The film was a commercial success, grossing $195.2 million worldwide. None of her next film releases —I Love Trouble (1994), Prêt-à-Porter (1994) and Something to Talk About (1995)— were particularly well received by critics nor big box office draws. In 1996, she guest-starred in the second season of Friends (episode 13, \"The One After the Superbowl\"), and appeared with Liam Neeson in the historical drama Michael Collins, portraying Kitty Kiernan, the fiancée of the assassinated Irish revolutionary leader. Stephen Frears\\' Mary Reilly, her other 1996 film, was a critical and commercial failure.By the late 1990s, Roberts enjoyed renewed success in the romantic comedy genre. In P. J. Hogan\\'s My Best Friend\\'s Wedding (1997), she starred opposite Dermot Mulroney, Cameron Diaz and Rupert Everett, as a food critic who realizes she\\'s in love with her best friend and tries to win him back after he decides to marry someone else. Considered to be one of the best romantic comedies of all time, Rotten Tomatoes gave the film an approval rating of 73% based on 59 reviews, with the critical consensus reading, \"Thanks to a charming performance from Julia Roberts and a subversive spin on the genre, My Best Friend\\'s Wedding is a refreshingly entertaining romantic comedy.\" The film was a global box-office hit, earning $299.3 million. In her next film, Richard Donner\\'s political thriller Conspiracy Theory (1997), Roberts starred with Mel Gibson as a Justice Department attorney. Mick LaSalle of San Francisco Chronicle stated: \"When all else fails, there are still the stars to look at—Roberts, who actually manages to do some fine acting, and Gibson, whose likability must be a sturdy thing indeed.\" The film, nevertheless, grossed a respectable $137 million. In 1998, Roberts appeared on the television series Sesame Street opposite the character Elmo, and starred in the drama Stepmom, alongside Susan Sarandon, revolving around the complicated relationship between a terminally-ill mother and the future stepmother of her children. While reviews were mixed, the film made $159.7 million worldwide.Roberts paired with Hugh Grant for Notting Hill (1999), portraying a famous actress who falls in love with a struggling book store owner. The film displaced Four Weddings and a Funeral as the biggest British hit in the history of cinema, with earnings equalling $363 million worldwide. An exemplar of modern romantic comedies in mainstream culture, the film was also received well by critics. CNN reviewer Paul Clinton called Roberts \"the queen of the romantic comedy [whose] reign continues\", and remarked: \"Notting Hill stands alone as another funny and heartwarming story about love against all odds.\" In 1999, she also reunited with Richard Gere and Garry Marshall for Runaway Bride, in which she played a woman who has left a string of fiancés at the altar. Despite mixed reviews, Runaway Bride was another financial success, grossing $309.4 million around the globe. Roberts was a guest star in \"Empire\", a Season 9 episode of the television series Law & Order, with regular cast member Benjamin Bratt, who at the time, was her boyfriend. Her performance earned her a nomination for Primetime Emmy Award for Outstanding Guest Actress in a Drama Series. Roberts became the first actress to be paid $20 million for a film, when she took on the role of real-life environmental activist Erin Brockovich in her fight against the Pacific Gas and Electric Company (PG&E) of California, in Erin Brockovich (2000). Peter Travers of Rolling Stone wrote, \"Roberts shows the emotional toll on Erin as she tries to stay responsible to her children and to a job that has provided her with a first taste of self-esteem\", while Entertainment Weekly critic Owen Gleiberman felt that it was a \"delight to watch Roberts, with her flirtatious sparkle and undertow of melancholy\". Erin Brockovich made $256.3 million worldwide, and earned Roberts the Academy Award for Best Actress, among numerous other accolades. In 2000, she also became the first actress to make The Hollywood Reporter\\'s list of the 50 most influential women in show business since the list had begun in 1992, and her Shoelace Productions company received a deal with Joe Roth.Her first film following Erin Brockovich was the road gangster comedy The Mexican (2001), giving her a chance to work with long-time friend Brad Pitt. The film\\'s script was originally intended to be filmed as an independent production without major motion picture stars, but Roberts and Pitt, who had for some time been looking for a project they could do together, learned about it and decided to sign on. Though advertised as a typical romantic comedy star vehicle, the film does not focus solely on the actors\\' relationship and the two shared relatively little screen time together. The Mexican earned $66.8 million in North America. In Joe Roth\\'s romantic comedy America\\'s Sweethearts (2001), Roberts starred as the once-overweight sister and assistant of a Hollywood actress, along with Billy Crystal, John Cusack, and Catherine Zeta-Jones. Critics\\' felt that despite its famous cast, the production lacked \"sympathetic characters\" and was \"only funny in spurts.\" A commercial success, it grossed over $138 million worldwide, however. In her last film released in 2001, Roberts teamed with Erin Brockovich director Steven Soderbergh for Ocean\\'s Eleven, a remake of the 1960 film of the same name, featuring an ensemble cast including George Clooney, Brad Pitt, and Matt Damon. Roberts played Tess Ocean, the ex-wife of leader Danny Ocean (Clooney), originally played by Angie Dickinson. A success with critics and at the box office alike, Ocean\\'s Eleven became the fifth highest-grossing film of the year with a total of $450 million worldwide. Roberts received a record $25 million, the highest ever earned by an actress at that time, to portray a forward-thinking art history professor at Wellesley College in 1953, in Mike Newell\\'s drama Mona Lisa Smile. The film garnered largely lukewarm reviews by critics, who found it \"predictable and safe\", but made over $141 million in theaters. In 2004, Roberts replaced Cate Blanchett in the role of an American photographer for Mike Nichols\\'s film Closer, a romantic drama written by Patrick Marber, based on his award-winning 1997 play of the same name, co-starring Jude Law, Natalie Portman and Clive Owen. She next reprised the role of Tess Ocean in Ocean\\'s Twelve, which was deliberately much more unconventional than the first film, epitomized by a sequence in which Roberts\\'s character impersonates the real-life Julia Roberts, due to what the film\\'s characters believe is their strong resemblance. Though less well reviewed than Eleven, the film became another major success at the box office, with a gross of $363 million worldwide. In 2005, she was featured in the music video for the single \"Dreamgirl\" by the Dave Matthews Band. It was her first music video appearance. Roberts appeared in The Hollywood Reporter\\'s list of the 10 highest-paid actresses every year from 2002 (when the magazine began compiling its list) to 2005.In 2006, Roberts voiced a nurse ant in The Ant Bully and a barn spider in Charlotte\\'s Web. She made her Broadway debut on April 19, 2006, as Nan in a revival of Richard Greenberg\\'s 1997 play Three Days of Rain opposite Bradley Cooper and Paul Rudd. Although the play grossed nearly $1 million in ticket sales during its first week and was a commercial success throughout its limited run, her performance drew criticism. Ben Brantley of The New York Times described Roberts as being fraught with \"self-consciousness (especially in the first act) [and] only glancingly acquainted with the two characters she plays.\" Brantley also criticized the overall production, writing that \"it\\'s almost impossible to discern its artistic virtues from this wooden and splintered interpretation, directed by Joe Mantello.\" Writing in the New York Post, Clive Barnes declared, \"Hated the play. To be sadly honest, even hated her. At least I liked the rain—even if three days of it can seem an eternity.\" In Mike Nichols\\' biographical drama Charlie Wilson\\'s War (2007), Roberts starred as socialite Joanne Herring, the love interest of Democratic Texas Congressman Charles Wilson, opposite Tom Hanks and Philip Seymour Hoffman . The film received considerable acclaim, made $119.5 million worldwide, and earned Roberts her sixth Golden Globe nomination. The independent drama Fireflies in the Garden, in which Roberts played a mother whose death sets the story in motion, was screened at the 2008 Berlin International Film Festival before being shown in European cinemas—it did not get a North American release until 2011. Roberts played a CIA agent collaborating with another spy to carry out a complicated con, opposite Clive Owen, in the comic thriller Duplicity (2009). Despite mixed reviews and moderate box office returns, critic A. O. Scott praised her performance: \"Ms. Roberts has almost entirely left behind the coltish, America\\'s-sweetheart mannerisms, except when she uses them strategically, to disarm or confuse. [...] She is, at 41, unmistakably in her prime\". She received her seventh Golden Globe nomination for her role. In 2010, Roberts played an U.S. Army captain on a one-day leave, as part of a large ensemble cast, in the romantic comedy Valentine\\'s Day, and starred as an author finding herself following a divorce in the film adaptation of Eat Pray Love. While she received $3 million up front against 3 percent of the gross for her six-minute role in Valentine\\'s Day, Eat Pray Love had the highest debut at the box office for Roberts in a top-billed role since America\\'s Sweethearts. She appeared as the teacher of a middle-aged man returning to education in the romantic comedy Larry Crowne, opposite Tom Hanks, who also served as the director. The film was poorly received by critics and audiences, although Roberts\\'s comedic performance was praised. In Mirror Mirror (2012), the Tarsem Singh adaptation of Snow White, Roberts portrayed Queen Clementianna, Snow White\\'s evil stepmother, opposite Lily Collins. Peter Travers of Rolling Stone felt that she tried \"way too hard\" in her role, while Katey Rich of Cinema Blend observed that she \"takes relish in her wicked [portrayal] but could have gone even further with it\". Mirror Mirror made $183 million globally. In 2013, Roberts starred alongside Meryl Streep and Ewan McGregor in the black comedy drama August: Osage County, about a dysfunctional family that re-unites into the familial house when their patriarch suddenly disappears. Her performance earned her nominations for the Golden Globe Award, Screen Actors Guild Award, Critics\\' Choice Award, and Academy Award for Best Supporting Actress, amongst other accolades. It was her fourth Academy Award nomination. In 2014, Roberts starred as Dr. Emma Brookner, a character based on Dr. Linda Laubenstein, in the television adaptation of Larry Kramer\\'s AIDS-era play, The Normal Heart, which aired on HBO; the film was critically acclaimed and Vanity Fair, in its review, wrote: \"Roberts, meanwhile, hums with righteous, Erin Brokovich-ian anger. Between this and August: Osage County, she\\'s carving out a nice new niche for herself, playing brittle women who show their love and concern through explosive temper\". Her role garnered her a nomination for the Primetime Emmy Award for Outstanding Supporting Actress in a Miniseries or a Movie.Roberts narrated \"Women in Hollywood\", an episode of the second season of Makers: Women Who Make America, in 2014, and appeared in Givenchy\\'s spring–summer campaign in 2015. She starred as a grieving mother opposite Nicole Kidman and Chiwetel Ejiofor in Secret in Their Eyes (2015), a remake of the 2009 Argentine film of the same name, both based on the novel La pregunta de sus ojos by author Eduardo Sacheri. Unlike the original film, the American version received negative reviews and failed to find an audience. Donald Clarke of Irish Times concluded that a \"sound job\" by the cast \"can\\'t quite shake the whiff of compromise that hangs around the project\". In 2016, Roberts reunited with Garry Marshall and reportedly received a $3 million fee for a four-day shoot, playing an accomplished author who gave her child for adoption, in the romantic comedy Mother\\'s Day, which had a lackluster critical and commercial response. Her next film release was Jodie Foster\\'s thriller Money Monster, in which she starred as a television director, alongside George Clooney and Jack O\\'Connell. Sandra Hall of The Sydney Morning Herald stated: \"It may be Hollywood melodrama but it\\'s top of the range, giving Clooney and Roberts every opportunity to demonstrate the value of star power.\" The film made a respectable $93.3 million worldwide. In Wonder (2017), the film adaptation of the 2012 novel of the same name by R. J. Palacio, Roberts played the mother of a boy with Treacher Collins syndrome. The Times felt that she \"lifts every one of her scenes in Wonder to near-sublime places\". With a worldwide gross of $305.9 million, Wonder emerged as one of Roberts\\'s most widely seen films. In 2017, she also voiced a motherly Smurf leader in the animated film Smurfs: The Lost Village.Roberts portrayed the mother of a troubled young man in Peter Hedges\\'s drama Ben Is Back (2018). Shaun Kitchener of Daily Express remarked: \"Roberts is often the best, or one of the best, things about any film she\\'s in —and Ben Is Back is no different\". The role of a caseworker at a secret government facility, in the first season of the psychological thriller series Homecoming, was Roberts\\' first regular television project. The series, which premiered on Amazon Video in November 2018, garnered acclaim from critics, who concluded it was an \"impressive small-screen debut\" for Roberts that \"balances its haunting mystery with a frenetic sensibility that grips and doesn\\'t let go.\" She received a Golden Globe nomination for Best Actress in a Television Series – Drama.Roberts will reunite with George Clooney for the romantic comedy Ticket to Paradise, which is set to be released by Universal Pictures on October 21, 2022. She also signed on to play Martha Mitchell, a controversial figure throughout the Watergate scandal, in the political thriller television series Gaslit, based on the first season of the podcast Slow Burn by Leon Neyfakh. Roberts has contributed to UNICEF as well as other charitable organizations. Her six-day visit to Port-au-Prince, Haiti in 1995, as she said, \"to educate myself\", was expected to trigger an outburst of donations —$10 million in aid was sought at the time— by UNICEF officials. In 2006, she became a spokeswoman for Earth Biofuels as well as chair of the company\\'s newly formed advisory board promoting the use of renewable fuels. In 2013, she was part of a Gucci campaign, \"Chime for Change\", that aims to spread female empowerment.In 2000, Roberts narrated a documentary about Rett syndrome, a neurodevelopmental disorder, designed to help raise public awareness about the disease, and in 2014, she was the voice of Mother Nature in a short film for Conservation International intended to raise awareness about climate change. Roberts runs the production company Red Om Films (Red Om is \"Moder\" spelled backwards, after her husband\\'s last name) with her sister, Lisa Roberts Gillan, and Marisa Yeres Gill. Through Red Om, Roberts has served as an executive producer for various projects she has starred in such as Eat Pray Love and Homecoming, as well as for the first four films of the American Girl film series (based on the American Girl line of dolls), released between 2004 and 2008. In 2006, Roberts signed an endorsement deal with fashion label Gianfranco Ferre, valued at $6 million. She was photographed by Mario Testino in Los Angeles for the brand\\'s advertising campaign, which was distributed in Europe, Asia and Australia. Since 2009, Roberts has acted as Lancôme\\'s global ambassador, a role in which she has been involved in the development and promotion of the brand\\'s range of cosmetics and beauty products. She initially signed a five-year extension with the company for $50 million in 2010. Roberts had romantic relationships with actors Jason Patric, Liam Neeson, Kiefer Sutherland, Dylan McDermott, and Matthew Perry. She was briefly engaged to Sutherland; they broke up three days before their scheduled wedding on June 11, 1991. On June 25, 1993, she married country singer Lyle Lovett; the wedding took place at St. James Lutheran Church in Marion, Indiana. They separated in March 1995 and subsequently divorced. From 1998 to 2001, Roberts dated actor Benjamin Bratt.Roberts and her husband, cameraman Daniel Moder, met on the set of her film The Mexican in 2000 while she was still dating Bratt. At the time, Moder was married to Vera Steimberg. He filed for divorce a little over a year later, and after it was finalized, he and Roberts wed on July 4, 2002, at her ranch in Taos, New Mexico. Together, they have three children: twins, a daughter and a son, born in November 2004, and another son born in June 2007. In 2010, Roberts said she was Hindu, having converted for \"spiritual satisfaction\". Roberts is a devotee of the guru Neem Karoli Baba (Maharaj-ji), a picture of whom drew Roberts to Hinduism.In September 2009, Swami Daram Dev of Ashram Hari Mandir in Pataudi, where Roberts was shooting Eat Pray Love, gave her children new names after Hindu gods: Laxmi for Hazel, Ganesh for Phinnaeus and Krishna Balram for Henry. Roberts\\' films that have earned the most at the box office, as of 2021, include: Roberts has received four Academy Award nominations, winning for Best Actress at the 73rd Academy Awards, for her titular portrayal in Erin Brockovich, which additionally earned her a Golden Globe, a BAFTA Award and a Screen Actors Guild Award. She won Golden Globe Awards for her performances in Steel Magnolias and Pretty Woman, and as of 2019, has garnered eight nominations. Roberts received two Primetime Emmy Awards nominations, one for Outstanding Guest Actress in a Drama Series, for her guest-role on Law & Order, and the other for Outstanding Supporting Actress in a Limited Series or Television Movie, for her performance in The Normal Heart. Mark Bego. Julia Roberts: America\\'s Sweetheart (New York: AMI Books, 2003). ISBN 1932270094. Paul Donnelley. Julia Roberts Confidential: The Unauthorised Biography (London: Virgin, 2003). ISBN 1852270233. James Spada. Julia: Her Life (New York: St Martin\\'s Press, 2004). ISBN 0312285655 Frank Sanello. Julia Roberts: Pretty Superstar (Edinburgh: Mainstream 2010). ISBN 1845966651. Julia Roberts at IMDb Julia Roberts at the Internet Broadway Database Julia Roberts at AllMovie Julia Roberts at Rotten Tomatoes'"
      ]
     },
     "execution_count": 5,
     "metadata": {},
     "output_type": "execute_result"
    }
   ],
   "source": [
    "text"
   ]
  },
  {
   "cell_type": "code",
   "execution_count": null,
   "id": "c160a4bd",
   "metadata": {},
   "outputs": [],
   "source": []
  },
  {
   "cell_type": "markdown",
   "id": "4e836abd",
   "metadata": {},
   "source": [
    "### using seo blurb functionality"
   ]
  },
  {
   "cell_type": "code",
   "execution_count": 12,
   "id": "20d2e1d4",
   "metadata": {},
   "outputs": [],
   "source": [
    "def find_text_seo(input,pages): #e.g input is Las Vegas locations\n",
    "    '''Take input word adapted for type, \n",
    "    return text that keywords can be extracted from'''\n",
    "\n",
    "    #SEO way\n",
    "    df = seo.get_serps(input, pages=pages)\n",
    "    df['link'] = df['link'].str.lower()\n",
    "    bad_links = ['facebook','twitter','youtube','instagram','linkedin'] #Removing search terms from sites that arnt of interest for keyword extraction\n",
    "    df = df[~df['link'].str.contains('|'.join(bad_links))]\n",
    "    #print(df[['title','link']])\n",
    "\n",
    "    text = str(df['text'].values.tolist())\n",
    "\n",
    "    #Text Cleaning\n",
    "    text = re.sub(r\"\\'\", '', text) #Get rid of \\'\n",
    "    text = re.sub(r\"\\\\xa0...\", '', text) #Get rid of \\\\xa0...\n",
    "    text = re.sub(r\"\\\\n\", ' ', text) #Get rid of \\\\n\n",
    "    text = re.sub(r\"\\\\u200e\", ' ', text) #Get rid of \\\\u200e\n",
    "    text = re.sub(r\"\\\"\", '', text)\n",
    "    text = re.sub(r\"\\'\", '', text)\n",
    "    text = re.sub(r\"\\“\", '', text)\n",
    "    text = re.sub(r\"\\”\", '', text)\n",
    "    text = re.sub(r\"\\[\", '', text)\n",
    "    text = re.sub(r\"\\]\", '', text)\n",
    "    text = re.sub(r\"\\)\", '', text)\n",
    "    text = re.sub(r\"\\(\", '', text)\n",
    "    text = re.sub(r\"\\•\", '', text)\n",
    "    text = re.sub(r\"\\▽\", '', text)\n",
    "    text = re.sub(r\"\\❖\", '', text)\n",
    "    text = re.sub(r\"\\†\", '', text)\n",
    "    text = re.sub(r\"logo\", '', text)\n",
    "    text = re.sub(r\"[Vv]iew \\d+ more rows\", '', text) #Get rid of [Vv]iew \\d+ more rows\n",
    "    text = re.sub(r\"\\d+ hours ago\", '', text)\n",
    "    text = re.sub(r\"[-·—,.;:@#?!$+-]+\", ' ', text) \n",
    "    text = re.sub(r\"U S \", \"US \", text)\n",
    "\n",
    "\n",
    "    text = ' '.join(text.split()) #Single spacing\n",
    "\n",
    "    return text"
   ]
  },
  {
   "cell_type": "code",
   "execution_count": 17,
   "id": "0c7fb852",
   "metadata": {},
   "outputs": [
    {
     "data": {
      "text/plain": [
       "'Julia Roberts, in full Julia Fiona Roberts, (born October 28, 1967, Smyrna, Georgia, U.S.), American actress whose deft performances in varied roles helped\\xa0...'"
      ]
     },
     "execution_count": 17,
     "metadata": {},
     "output_type": "execute_result"
    }
   ],
   "source": [
    "results = seo.get_serps(\"Julia Roberts\")\n",
    "results.iloc[1]['text']"
   ]
  },
  {
   "cell_type": "code",
   "execution_count": 15,
   "id": "72d975b8",
   "metadata": {},
   "outputs": [
    {
     "data": {
      "text/plain": [
       "'Julia Fiona Roberts born October 28 1967 is an American actress One of Hollywoods most bankable stars Roberts is known for her leading roles in films Julia Roberts in full Julia Fiona Roberts born October 28 1967 Smyrna Georgia US American actress whose deft performances in varied roles helped 18 Apr 2022 Julia Roberts is one of those few actors who have achieved a stardom that never really fades Shes always up there in the pop culture Julia Roberts <p>Roberts new film will be nostalgic for those who grew up on Can Meg Ryan Julia Roberts and Sandra Bullock revive the ailing genre Move over Marvel the meet cute is back – and it feels like slipping 25 Apr 2022 The American actress was born in October 1967 in a small town in Georgia Her acting career has seen great success with her winning three Julia Roberts is a highly acclaimed American actress who has a net worth of 250 million Her film Pretty Woman 1990 established her as a leading star Actress and producer Julia Roberts is the face behind the new Chopard Happy Sport campaign and watches Her brilliant smile underscores the brands love of life 24 Apr 2022 Julia Roberts shot to fame following the huge success of Pretty Woman in 1990 with the actress going on to star in dozens of blockbusters Julia Roberts movies from Erin Brockovich to Pretty Woman made her a hot Hollywood star How old is Julia Roberts Youd never know her age from photos The latest Julia Roberts news blogs and videos on Metro Learn more about Julia Roberts movies and shows full bio photos videos and more at TV Guide 27 Apr 2017 Julia Roberts is an Academy Award winning actress and one of Hollywoods top stars known for such films as Steel Magnolias Pretty Biography Born on October 28 1967 Julia Roberts has been one of Americas biggest box office draws Sidestepping the 80s Brat Pack Julia Roberts Born in Smyrna Georgia October 28 1967 became a movie star after the success of Pretty Woman 1990 by Garry Marshall co starring R If I\\\\d thought something was good enough I would have done it Julia Roberts said of why she hasn\\\\t explored the romantic comedy genre in years 7 days ago In the 90s despite two Oscar nominations to her name Julia Roberts was often treated like a brand first and an actress second 19 Apr 2022 The star of classics like Notting Hill is returning to rom coms after two decades and will appear in a film with George Clooney later this The tougher sentences were inspired by Tony Hudgell who had to have both his legs amputated in 2017 after being tortured by his birth parents Julia Fiona Roberts was born on October 28 1967 in Atlanta Georgia Her brother Eric Roberts sister Lisa Roberts Gillan and niece Emma Roberts Julia Fiona Roberts is an American actress and producer She established herself as a leading lady in Hollywood after headlining the romantic comedy film Bio Julia Roberts born October 28 1967 in Smyrna GA is an American actress and producer After dropping out of college Julia moved to New York City to A review of the new Amazon Prime series Homecoming starring Julia Roberts Stephan James Bobby Cannavale Shea Wigham and Sissy Spacek Talk with Julia Roberts on https //www linkedin com/in/juliacroberts/ Julia Roberts agreed to play Martha Mitchell wife of Nixon\\\\s Attorney General John Mitchell as long as Sean Penn could play her Gaslit Get the latest news about Julia Roberts Find exclusive interviews video clips photos and more on Entertainment Tonight 22 Apr 2022 Julia Roberts has revealed that she and her co star Sean Penn hugged in complete silence after filming a challenging fight scene for their 18 Apr 2022 Julia Roberts the forever queen of rom coms will never lose her place in Hollywood When we think of her we think of great cinema 1 16 of 413 results for Julia Roberts RESULTS 20 Apr 2022 Julia Roberts is magnetic in Watergate drama Gaslit The new political drama is the highest profile original offering to appear on Starzplay 23 Apr 2022 Julia Roberts talks working with Sean Penn and doing Martha Mitchell justice in the new Watergate drama Gaslit 19 Apr 2022 Julia Roberts and Sean Penn Have Been Waiting for a Show Like Gaslit At the premiere of Starzs Watergate drama the Oscar winning actors Gaslit review Sean Penn and Julia Roberts deliver solid performances in the political thriller Published on Apr 25 2022 12 25 PM IST Share Via Julia Roberts Author Welcome to my author website I have wanted to be a writer from the age of ten when I was awarded second prize in a story writing Julia Roberts Pretty Woman Apr 19 2022 Julia Roberts Danny Moder Nov 29 2021 The latest Julia Roberts news and features Explore British Vogue to find out more including articles on fashion culture and lifestyle 2 days ago The 25 best Julia Roberts films Mystic Pizza 1988 Steel Magnolias 1989 Pretty Woman 1990 Flatliners 1990 Hook 1991 24 Apr 2022 Gaslit Starzplay review Julia Roberts steals the show as Watergate Scandal whistleblower Martha Mitchell A new take on the Watergate 19 Apr 2022 Julia Roberts as Martha Mitchell in the Starz limited series Gaslit CNN 27 Apr 2022 George Clooney and Julia Roberts\\\\ Ticket to Paradise and Billy Eichner\\\\s Boys debut first looks pushing rom coms back to theaters Julia Roberts spent time with sex workers to research her Pretty Woman role The actress even went to Hollywood Boulevard with the women'"
      ]
     },
     "execution_count": 15,
     "metadata": {},
     "output_type": "execute_result"
    }
   ],
   "source": [
    "text_seo = find_text_seo(\"Julia Roberts\", 5)\n",
    "text_seo"
   ]
  },
  {
   "cell_type": "code",
   "execution_count": null,
   "id": "3af73b6a",
   "metadata": {},
   "outputs": [],
   "source": []
  },
  {
   "cell_type": "code",
   "execution_count": null,
   "id": "9e0fb44c",
   "metadata": {},
   "outputs": [],
   "source": []
  },
  {
   "cell_type": "markdown",
   "id": "ec8ba66c",
   "metadata": {},
   "source": [
    "# Knowledge Graph"
   ]
  },
  {
   "cell_type": "code",
   "execution_count": 27,
   "id": "79efbb44",
   "metadata": {},
   "outputs": [
    {
     "data": {
      "text/html": [
       "<div>\n",
       "<style scoped>\n",
       "    .dataframe tbody tr th:only-of-type {\n",
       "        vertical-align: middle;\n",
       "    }\n",
       "\n",
       "    .dataframe tbody tr th {\n",
       "        vertical-align: top;\n",
       "    }\n",
       "\n",
       "    .dataframe thead th {\n",
       "        text-align: right;\n",
       "    }\n",
       "</style>\n",
       "<table border=\"1\" class=\"dataframe\">\n",
       "  <thead>\n",
       "    <tr style=\"text-align: right;\">\n",
       "      <th></th>\n",
       "      <th>result.description</th>\n",
       "      <th>result.@type</th>\n",
       "      <th>result.name</th>\n",
       "      <th>result.detailedDescription.url</th>\n",
       "    </tr>\n",
       "  </thead>\n",
       "  <tbody>\n",
       "    <tr>\n",
       "      <th>0</th>\n",
       "      <td>American actress</td>\n",
       "      <td>[Person, Thing]</td>\n",
       "      <td>Julia Roberts</td>\n",
       "      <td>https://en.wikipedia.org/wiki/Julia_Roberts</td>\n",
       "    </tr>\n",
       "    <tr>\n",
       "      <th>1</th>\n",
       "      <td>South Korean-American film actress</td>\n",
       "      <td>[Person, Thing]</td>\n",
       "      <td>Yunjin Kim</td>\n",
       "      <td>https://en.wikipedia.org/wiki/Yunjin_Kim</td>\n",
       "    </tr>\n",
       "    <tr>\n",
       "      <th>2</th>\n",
       "      <td>NaN</td>\n",
       "      <td>[Thing]</td>\n",
       "      <td>Julia Roberts filmography</td>\n",
       "      <td>https://en.wikipedia.org/wiki/Julia_Roberts_fi...</td>\n",
       "    </tr>\n",
       "    <tr>\n",
       "      <th>3</th>\n",
       "      <td>Football player</td>\n",
       "      <td>[Person, Thing]</td>\n",
       "      <td>Julia Roberts</td>\n",
       "      <td>https://en.wikipedia.org/wiki/Julia_Roberts_(s...</td>\n",
       "    </tr>\n",
       "  </tbody>\n",
       "</table>\n",
       "</div>"
      ],
      "text/plain": [
       "                   result.description     result.@type  \\\n",
       "0                    American actress  [Person, Thing]   \n",
       "1  South Korean-American film actress  [Person, Thing]   \n",
       "2                                 NaN          [Thing]   \n",
       "3                     Football player  [Person, Thing]   \n",
       "\n",
       "                 result.name  \\\n",
       "0              Julia Roberts   \n",
       "1                 Yunjin Kim   \n",
       "2  Julia Roberts filmography   \n",
       "3              Julia Roberts   \n",
       "\n",
       "                      result.detailedDescription.url  \n",
       "0        https://en.wikipedia.org/wiki/Julia_Roberts  \n",
       "1           https://en.wikipedia.org/wiki/Yunjin_Kim  \n",
       "2  https://en.wikipedia.org/wiki/Julia_Roberts_fi...  \n",
       "3  https://en.wikipedia.org/wiki/Julia_Roberts_(s...  "
      ]
     },
     "execution_count": 27,
     "metadata": {},
     "output_type": "execute_result"
    }
   ],
   "source": [
    "knowledge_graph = KnowledgeGraph()\n",
    "\n",
    "df_know = knowledge_graph.get_knowledge_graph_df(\"Julia Roberts\")\n",
    "df_know[['result.description', 'result.@type', 'result.name' , 'result.detailedDescription.url']].iloc[0:4]"
   ]
  },
  {
   "cell_type": "markdown",
   "id": "0e071d2d",
   "metadata": {},
   "source": [
    "### Knowledge graph returns the sports team "
   ]
  },
  {
   "cell_type": "code",
   "execution_count": 28,
   "id": "52d00c06",
   "metadata": {},
   "outputs": [
    {
     "data": {
      "text/html": [
       "<div>\n",
       "<style scoped>\n",
       "    .dataframe tbody tr th:only-of-type {\n",
       "        vertical-align: middle;\n",
       "    }\n",
       "\n",
       "    .dataframe tbody tr th {\n",
       "        vertical-align: top;\n",
       "    }\n",
       "\n",
       "    .dataframe thead th {\n",
       "        text-align: right;\n",
       "    }\n",
       "</style>\n",
       "<table border=\"1\" class=\"dataframe\">\n",
       "  <thead>\n",
       "    <tr style=\"text-align: right;\">\n",
       "      <th></th>\n",
       "      <th>result.description</th>\n",
       "      <th>result.@type</th>\n",
       "      <th>result.name</th>\n",
       "      <th>result.detailedDescription.url</th>\n",
       "    </tr>\n",
       "  </thead>\n",
       "  <tbody>\n",
       "    <tr>\n",
       "      <th>0</th>\n",
       "      <td>Football team</td>\n",
       "      <td>[SportsTeam, Thing]</td>\n",
       "      <td>France national football team</td>\n",
       "      <td>https://en.wikipedia.org/wiki/France_national_...</td>\n",
       "    </tr>\n",
       "    <tr>\n",
       "      <th>1</th>\n",
       "      <td>Football league</td>\n",
       "      <td>[SportsOrganization, Thing, Corporation, Organ...</td>\n",
       "      <td>Ligue 1</td>\n",
       "      <td>https://en.wikipedia.org/wiki/Ligue_1</td>\n",
       "    </tr>\n",
       "    <tr>\n",
       "      <th>2</th>\n",
       "      <td>Retail company</td>\n",
       "      <td>[Corporation, Organization, Thing]</td>\n",
       "      <td>Leroy Merlin</td>\n",
       "      <td>https://en.wikipedia.org/wiki/Leroy_Merlin</td>\n",
       "    </tr>\n",
       "    <tr>\n",
       "      <th>3</th>\n",
       "      <td>Telecom company</td>\n",
       "      <td>[Corporation, Organization, Thing]</td>\n",
       "      <td>Orange S.A.</td>\n",
       "      <td>https://en.wikipedia.org/wiki/Orange_S.A.</td>\n",
       "    </tr>\n",
       "    <tr>\n",
       "      <th>4</th>\n",
       "      <td>Air carrier</td>\n",
       "      <td>[Thing, Corporation, Airline, Organization]</td>\n",
       "      <td>Air France</td>\n",
       "      <td>https://en.wikipedia.org/wiki/Air_France</td>\n",
       "    </tr>\n",
       "    <tr>\n",
       "      <th>5</th>\n",
       "      <td>Bank</td>\n",
       "      <td>[Corporation, Organization, Thing]</td>\n",
       "      <td>Crédit Agricole</td>\n",
       "      <td>https://en.wikipedia.org/wiki/Cr%C3%A9dit_Agri...</td>\n",
       "    </tr>\n",
       "    <tr>\n",
       "      <th>6</th>\n",
       "      <td>Meteorological service</td>\n",
       "      <td>[GovernmentOrganization, Organization, Thing]</td>\n",
       "      <td>Météo-France</td>\n",
       "      <td>https://en.wikipedia.org/wiki/M%C3%A9t%C3%A9o-...</td>\n",
       "    </tr>\n",
       "    <tr>\n",
       "      <th>7</th>\n",
       "      <td>Newspaper</td>\n",
       "      <td>[Periodical, Thing]</td>\n",
       "      <td>Ouest-France</td>\n",
       "      <td>https://en.wikipedia.org/wiki/Ouest-France</td>\n",
       "    </tr>\n",
       "    <tr>\n",
       "      <th>8</th>\n",
       "      <td>Radio network</td>\n",
       "      <td>[Organization, Thing]</td>\n",
       "      <td>France Info</td>\n",
       "      <td>https://en.wikipedia.org/wiki/France_Info_(rad...</td>\n",
       "    </tr>\n",
       "    <tr>\n",
       "      <th>9</th>\n",
       "      <td>Company</td>\n",
       "      <td>[Corporation, Organization, Thing]</td>\n",
       "      <td>Maisons du Monde</td>\n",
       "      <td>https://en.wikipedia.org/wiki/Maisons_du_Monde</td>\n",
       "    </tr>\n",
       "  </tbody>\n",
       "</table>\n",
       "</div>"
      ],
      "text/plain": [
       "       result.description                                       result.@type  \\\n",
       "0           Football team                                [SportsTeam, Thing]   \n",
       "1         Football league  [SportsOrganization, Thing, Corporation, Organ...   \n",
       "2          Retail company                 [Corporation, Organization, Thing]   \n",
       "3         Telecom company                 [Corporation, Organization, Thing]   \n",
       "4             Air carrier        [Thing, Corporation, Airline, Organization]   \n",
       "5                    Bank                 [Corporation, Organization, Thing]   \n",
       "6  Meteorological service      [GovernmentOrganization, Organization, Thing]   \n",
       "7               Newspaper                                [Periodical, Thing]   \n",
       "8           Radio network                              [Organization, Thing]   \n",
       "9                 Company                 [Corporation, Organization, Thing]   \n",
       "\n",
       "                     result.name  \\\n",
       "0  France national football team   \n",
       "1                        Ligue 1   \n",
       "2                   Leroy Merlin   \n",
       "3                    Orange S.A.   \n",
       "4                     Air France   \n",
       "5                Crédit Agricole   \n",
       "6                   Météo-France   \n",
       "7                   Ouest-France   \n",
       "8                    France Info   \n",
       "9               Maisons du Monde   \n",
       "\n",
       "                      result.detailedDescription.url  \n",
       "0  https://en.wikipedia.org/wiki/France_national_...  \n",
       "1              https://en.wikipedia.org/wiki/Ligue_1  \n",
       "2         https://en.wikipedia.org/wiki/Leroy_Merlin  \n",
       "3          https://en.wikipedia.org/wiki/Orange_S.A.  \n",
       "4           https://en.wikipedia.org/wiki/Air_France  \n",
       "5  https://en.wikipedia.org/wiki/Cr%C3%A9dit_Agri...  \n",
       "6  https://en.wikipedia.org/wiki/M%C3%A9t%C3%A9o-...  \n",
       "7         https://en.wikipedia.org/wiki/Ouest-France  \n",
       "8  https://en.wikipedia.org/wiki/France_Info_(rad...  \n",
       "9     https://en.wikipedia.org/wiki/Maisons_du_Monde  "
      ]
     },
     "execution_count": 28,
     "metadata": {},
     "output_type": "execute_result"
    }
   ],
   "source": [
    "knowledge_graph = KnowledgeGraph()\n",
    "\n",
    "df_know = knowledge_graph.get_knowledge_graph_df(\"France\")\n",
    "df_know[['result.description', 'result.@type', 'result.name' , 'result.detailedDescription.url']]"
   ]
  },
  {
   "cell_type": "code",
   "execution_count": null,
   "id": "ebea82b4",
   "metadata": {},
   "outputs": [],
   "source": []
  }
 ],
 "metadata": {
  "kernelspec": {
   "display_name": "Python 3 (ipykernel)",
   "language": "python",
   "name": "python3"
  },
  "language_info": {
   "codemirror_mode": {
    "name": "ipython",
    "version": 3
   },
   "file_extension": ".py",
   "mimetype": "text/x-python",
   "name": "python",
   "nbconvert_exporter": "python",
   "pygments_lexer": "ipython3",
   "version": "3.7.11"
  }
 },
 "nbformat": 4,
 "nbformat_minor": 5
}
