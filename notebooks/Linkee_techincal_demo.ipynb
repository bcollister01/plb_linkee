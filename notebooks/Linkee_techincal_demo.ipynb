{
 "cells": [
  {
   "cell_type": "code",
   "execution_count": 1,
   "id": "221c5336",
   "metadata": {},
   "outputs": [],
   "source": [
    "from from_root import from_root, from_here\n",
    "import sys\n",
    "import os\n",
    "\n",
    "def from_root(dirname):\n",
    "    '''Wrapper function for from_root.from_root which, if called will return the root of the dirname asked for'''\n",
    "    return(os.popen(f'python -c \"from from_root import from_root; print(from_root(\\'{dirname}\\'))\"').read().strip())\n",
    "scripts_path = from_root(\"scripts\")\n",
    "\n",
    "sys.path.append(scripts_path)\n",
    "from question_gen import *\n",
    "from keyword_find import *"
   ]
  },
  {
   "cell_type": "markdown",
   "id": "685a39d2",
   "metadata": {},
   "source": [
    "## Decide the final answer we are searching for: e.g. Julia Roberts"
   ]
  },
  {
   "cell_type": "markdown",
   "id": "3d5b0a15",
   "metadata": {},
   "source": [
    "## Step 1: Extract text about the final answer"
   ]
  },
  {
   "cell_type": "markdown",
   "id": "c71e83c8",
   "metadata": {},
   "source": [
    "### Using wikipedia package"
   ]
  },
  {
   "cell_type": "code",
   "execution_count": 32,
   "id": "7654daae",
   "metadata": {},
   "outputs": [],
   "source": [
    "text_wiki = (wikipedia.page(\"computer keys\", auto_suggest=True)).content"
   ]
  },
  {
   "cell_type": "code",
   "execution_count": 33,
   "id": "687f73fc",
   "metadata": {},
   "outputs": [
    {
     "data": {
      "text/plain": [
       "'Arrow keys or cursor movement keys are buttons on a computer keyboard that are either programmed or designated to move the cursor in a specified direction. \\nThe term \"cursor movement key\" is distinct from \"arrow key\" in that the former term may refer to any of various keys on a computer keyboard designated for cursor movement, whereas \"arrow keys\" generally refers to one of four specific keys, typically marked with arrows.Arrow keys are typically located at the bottom of the keyboard to the left side of the numeric keypad, usually arranged in an inverted-T layout but also found in diamond shapes and linear shapes. Arrow keys are commonly used for navigating around documents and for playing games. \\nThe inverted-T layout was popularized by the Digital Equipment Corporation LK201 keyboard from 1982.\\n\\n\\n== Historical development ==\\n\\nBefore the computer mouse was widespread, arrow keys were the primary way of moving a cursor on screen. Mouse keys is a feature that allows controlling a mouse cursor with arrow keys instead. A feature echoed in the Amiga whereby holding the Amiga key would allow a person to move the pointer with the arrow keys in the Workbench (operating system), but most games require a mouse or joystick. The use of arrow keys in games has come back into fashion from the late 1980s and early 1990s when joysticks were a must, and were usually used in preference to arrow keys with some games not supporting any keys. It can be used instead of WASD keys, to play games using those keys.\\nThe inverted-T layout was popularized by the Digital Equipment Corporation LK201 keyboard from 1982.\\nSome Commodore 8-bit computers used two keys instead of four, with directions selected using the shift key.\\nThe original Apple Macintosh had no arrow keys at the insistence of Steve Jobs, who felt that people should use the mouse instead. They were deliberately excluded from the Macintosh launch design as a forcing device, acclimating users to the new mouse input device and inducing software developers to conform to mouse-driven design rather than easily porting previous terminal-based software to the new platform. Arrow keys were included in later Apple keyboards. Early models with arrow keys but no middle section (Home, End, etc.) placed them in one line below the right-hand Shift key in an HJKL-like fashion; later versions had a standard inverted-T layout, either in the middle block or as half-height keys at the bottom right of the main keyboard.\\n\\n\\n== Common usages ==\\nThe arrow keys are used in many applications to do different things such as:\\n\\nMoving text cursor to the right, left, previous line and next line\\nMoving player\\'s character in video games\\nScrolling down and up in different documents and web pages\\nChanging the current selected item in a list or selecting file icon near to the current selected file in a file explorer\\nMoving selected object in a drawing software\\nMoving forward and backward while playing multimedia files\\n\\n\\n== Alternative keys ==\\nAlthough the \"arrow keys\" provide one convention for cursor movement on computers, there are also other conventions for cursor movement that use entirely different keys.\\n\\n\\n=== 5678 keys ===\\nThis layout dates back to Sinclair ZX80, ZX81, and Spectrum home computer designs. These machines had number keys on the top row and various secondary functions for each, with ROM routines requiring simultaneous use of a shift key (CAPS SHIFT in particular from Spectrum onwards) to activate them. Cursor keys were those from 5 to 8, and keyboard labelling included left-, down-, up-, and right-arrow labels printed directly above in a colour matching wording on the relevant shift key.\\nIn some software for these machines (eg. games) the vanilla 5/6/7/8 keys were directly associated with direction control when they had no other purpose, as this meant less complicated keypress detection routines could be used.\\nAlthough the QL-style keyboard on later Spectrum + and + 128K models introduced various dedicated keys including arrow keys either side the space bar (left/right in a pair to its immediate left, and up/down to the immediate right) and removed related labels, there was no difference which of the alternatives were used as far as software was concerned.\\n\\n\\n=== WASD keys ===\\n\\nWASD (,AOE on Dvorak keyboards; ZQSD on AZERTY keyboards) is a set of four keys on a QWERTY or QWERTZ computer keyboards which mimics the inverted-T configuration of the arrow keys. These keys are most commonly used to control the player character\\'s movement in computer games. W/S control forward and backward, while A/D control strafing left and right.\\nPrimarily, WASD is used to account for the fact that the arrow keys are not ergonomic to use in conjunction with a right-handed mouse. During the early days of gaming, this was not a problem as the mouse was not utilised; the arrow keys controlled both movement ↑↓ as well as looking around ←→, with strafing done through the use of modifier keys (usually Alt + ←→). However, the introduction of mouselook, a system that allowed the ability to use the mouse to look around both vertically and horizontally, enabled the player to perform techniques such as smooth circle strafing, which, although possible with the keyboard, was difficult to perform and resulted in jagged movement. Since the mouse was now used for looking, the ← and → keys for looking would be redundant and thus were altered to become strafe keys.\\nThe style was popularized in competitive play in Quake and subsequently QuakeWorld, notably by professional player Dennis Fong, where the advantages of WASD and mouselook were recognised over a purely keyboard-based control system. In the same year that Castle Wolfenstein was released, 1981, the game Wizardry used the AWD keys for movement in a first-person dungeon. Both the programmers of Castle Wolfenstein and Wizardry were users of the earlier PLATO system where the game Moria used the AWD keys.Another advantage of WASD is that it allows the user to use the left hand thumb to press the space bar (often the jump command) and the left hand little finger to press the Ctrl or ⇧ Shift keys (often the crouch and/or sprint commands), as opposed to the arrow keys which lack other keys in proximity to press. Ctrl and ⇧ Shift were chosen partly because they are larger keys and thus easier to hit, but primarily because in older systems the computer could only recognise a couple of alphanumeric key presses, a limitation circumvented by the use of modifier keys. In later games, the usage of the E key to interact with items or open up the inventory was also popularized due to its location next to the WASD keys, allowing players to reach it quickly.\\nDark Castle (1986) may be the first game to use WASD keys and mouse for control. Half-Life (1998) was one of the first games to use WASD by default. After being popularized by first-person shooters, WASD became more common in other computer game genres as well. Many of the games that have adopted this layout use a first-person or over-the-shoulder third-person perspective. Some games that use overhead camera views also use WASD to move the camera, such as some city-building games and economic simulation games.\\n\\n\\n=== ESDF keys ===\\nThe ESDF variation is an alternative to WASD and is sometimes preferred because it provides access to movement independent keys for the little finger (Q, A, Z) which generally allows for more advanced manual binding. Incidentally, it allows the left hand to remain in the home row with the advantage of the F key home row marker (available on most standard keyboards) to easily return to position with the index finger.\\nPerhaps the earliest game to use ESDF was Crossfire (1981), which used the keys for firing in multiple directions. Dan \"vise\" Larsen from Quake Team Deathmatch clan \"clan Kapitol\" popularized ESDF versus \"WASD\", explaining that the player gains three additional keys to bind the Quake game\\'s controls to. It is the default configuration for several games, such as Tribes 2. The game Blackthorne used a combination of arrow keys for movement and ESDF for actions. Moreover, these keys are compatible with both QWERTY and AZERTY keyboard layouts, which is a major plus if the game is also released in France or Belgium.\\nSome players use RDFG or TFGH to give access to even more keys (S and X for the little finger).\\n\\n\\n=== DCAS keys ===\\nAnother alternate to the WASD shooter movement style is DCAS (sometimes called ASDC).  In this configuration, D and C control forward and backward motion, while A and S control side-stepping (strafing).  Typically the Alt key is utilized for crouching instead of the Ctrl key, as it is more easily reached when the hand is positioned for DCAS.\\nWhen Bungie\\'s first-person shooter Marathon was released in 1994, it featured up/down look control and the option to fully control turning and aiming by mouse (a feature later popularized by id\\'s Quake as mouselook/freelook).  However, it did not include a set of default controls to handle this.  With WASD not yet a well-known standard, some people devised their own control schemes to handle combined keyboard movement with mouse aiming; DCAS was one such control scheme.\\nLike WASD, DCAS allows the player to easily utilize the left modifier keys; this is advantageous because on most keyboards, the circuitry is better at tracking multiple key-presses simultaneously if some of them are modifier keys.  But unlike WASD, the position of the left hand for DCAS gameplay is very similar to the left hand\\'s position on the home row keys.  This is very comfortable for right-handed players and seen as the primary advantage over using WASD, but it is ill-suited for left-handed mousing.\\n\\n\\n=== IJKL keys ===\\nTwo early games that used IJKL were Crossfire (1981) and Lode Runner (1983).\\nIJKL is used by a growing number of browser games. These games cannot use the arrow keys because many browsers\\' windows will scroll if the arrow keys are used, thus hindering gameplay. This is a problem specific to DHTML/JavaScript games. IJKL, like WASD, are arranged in an ergonomic inverted T shape, and, since they are used by the right hand, adjustment is easy for people who commonly use the arrow keys.\\nAlso, in many games that also use the WASD keys, the IJKL keys are sometimes used as a secondary player control for games that have multiplayer.\\nDevil May Cry 4 by Capcom utilizes IJKL as the player\\'s action keys (such as Melee Attack, Ranged Attack, Special Attack etc.) as an alternative to mouse-driven actions.\\n\\n\\n=== IJKM keys ===\\nSome older computer games, especially those on 8-bit platforms, often had the combination IJKM used as the standard control key combination, which was more logically arranged, if far less ergonomic than an inverted-T. In addition, on the Apple II platform, special support existed in ROM for Escape mode. At the Applesoft BASIC prompt, using the right and left arrow keys to move the cursor would add/remove characters the cursor passed over to/from the input buffer. Pressing the Escape key entered a mode where pressing the I, J, K or M keys would move the cursor without altering the input buffer. After exiting this mode by pressing Escape again, normal behavior would resume. This made it easy to edit lines of BASIC code by listing them, then re-inputting them with edits interspersed.\\n\\n\\n=== AZ keys ===\\nThe Apple II and Apple II Plus originally had left and right arrow keys but no up and down arrow keys. Many programs written for these computers used A and Z to substitute for the missing up and down keys. The IJKM combination was also popular on these computers. Another fairly common variant on these machines was the combination of RETURN and / (slash) with the left and right arrows, as those four keys roughly form a diamond on the keyboard; while the right ⇧ Shift key would be in the more natural position for \"down\", pressing ⇧ Shift alone was not detectable by software on an unmodfied Apple II or Apple II plus. All these keys fell somewhat out of favor after the release of the Apple IIe, which had a full set of arrow keys.\\n\\n\\n=== HJKL keys ===\\n\\nHJKL is a layout used in the Unix computer world, a practice spawned by its use in the vi text editor. The editor was written by Bill Joy for use on a Lear-Siegler ADM-3A terminal, which places arrow symbols on these letters since, it did not have dedicated arrow keys on the keyboard.  These correspond to the functions of the corresponding control characters Ctrl+H, Ctrl+J, Ctrl+K, and Ctrl+L when sent to the terminal, moving the cursor left, down, up, and right, respectively.  (The Ctrl+H and Ctrl+J functions were standard, but the interpretations of Ctrl+K and Ctrl+L were unique to the ADM-3A.)  This key arrangement is often referred to as \"vi keys\".  HJKL keys are still ubiquitous in newly developed Unix software even though today\\'s keyboards have arrow keys.  They have the advantage of letting touch-typists move the cursor without taking their fingers off of the home row.  Examples of games that use HJKL are the text-based \"graphic\" adventures like NetHack, the Rogue series, and Linley\\'s Dungeon Crawl. It is also used by some players of the Dance Dance Revolution clone StepMania, where HJKL corresponds directly to the order of the arrows. Gmail, Google labs\\' keyboard shortcuts and other websites use J and K for \"next\" and \"previous\".\\n\\n\\n=== SDF-SPACE and ASD-SPACE ===\\nAnother old-style variation that spawned from games like Quake was the SDF-SPACE layout. In this layout, S = turn left, D = forward, F = turn right, space = backpedal, E = strafe left and R = strafe right. This layout allows the player to aim with the mouse while strafing (sidestepping), turning and running or backpedalling all at once creating slightly more complex movements. This variation is not favoured any longer for two main reasons. First, because many players deem the turn commands useless because the mouse can act as a turning device, and so they assign S and F to the sidestep commands and leave the turn commands unassigned. The second, and probably more prominent reason is, in assigning both the turn and strafe commands, performing movements and dodges can be much more confusing, so newcomers tend to not prefer this key setup. Though no longer widely used, many FPS veterans and tournament players still employ this key setup.\\nThis variant adopted to newer games using mouse-look doesn\\'t really need worry about the turn left and turn right keys. Instead S = strafe left, D = strafe right, A = backpedal, and space or F = forward. This is a more natural feel on the keyboard as your fingers rest on the home row. The comfort and usability points from ESDF apply here. Notice that jump is left out, that is because in games like Quake jump was usually MOUSE2. With more alternate fire and aim-down-sights oriented games today you may have to play with F, SPACE, and MOUSE2 on what you want them to do.\\nA similar layout is ASD-SPACE. Commonly used in 2D-based fighting games, ASD-SPACE maps A, S, and D to \"left\", \"down\", and \"right\" movement, while the spacebar is used for \"up\" (jumping). This allows an easier access to \"360 degree\" motions than a normal inverted-T layout, as well as being more ergonomic than simply placing all directions in a single row (ex. ASDF). There is even a \"stickless\" arcade controller based around the concept, called the Hitbox.\\n\\n\\n=== WQSE keys ===\\nAnother, close, variation is the WQSE combination, which follows the belief that the index and ring fingers\\' natural and more ergonomic positions when the middle finger is on W are Q and E rather than A and D, respectively. This can be attested to by the fact that the arrow keys were partly designed in the inverted-T shape in order to avoid having the side buttons possibly directly underneath other keys. It also has the advantage that there is less distance needed to travel to reach the number keys. For similar reasons, some gamers use the WQSD combination (which is WASD with the A key moved up to Q, or WQSE with the E moved down to D). For players who prefer to keep the keyboard centered on the body, this results in less wrist rotation, as it places the index finger naturally over the D key when the left arm rests down to the left of the keyboard. Another variation is EWDF, which is the same shifted right one key, as in ESDF. SAZD is a slight variation on WQSE and WQSD, in that it is both ergonomic and rotated, but gives the fingers closer proximity to the ⇧ Shift and SPACE keys.\\n\\n\\n=== QAOP keys ===\\nQAOP, sometimes also called OPQA, dates back to Sinclair Spectrum days. The O/P keys were used for left/right movement, and the Q/A keys were used for up/down or forward/backwards movement. With SPACE being a key in the bottom right of the original rubber keyed Spectrum the M or sometimes N key would be used for fire/action; on later models the SPACE bar would be used.\\nQAOP had its own variations, as ZXKM or WELP.  Many BBC Micro games used the keys ZX*? respectively for left, right, up, and down (with \"*\" being the key above and right of \"?\", where \"@\" is on modern UK keyboards).  In each case, one hand controls left/right, and the other hand controls up/down movement.  A further variation is used when two players use the keyboard at the same time; for example, Gauntlet uses the combination 1QSD for Player 1, and 8IKL for Player 2.\\n\\n\\n=== ESDX keys ===\\nThe ESDX keys (known as the \"cursor movement diamond\") were used in the WordStar word processor and related applications, in combination with the Control key.\\nThese keys were also used, and had arrows printed on them, on the TI-99/4(A) computer (1979-1984).\\n\\n\\n=== Numpad keys ===\\nThe numpad or number pad keys are used quite often, but is used mostly in driving simulator games. This is mainly because these games usually have quite a large number of keys needed to control the vehicle properly and the number pad will have plenty of keys for that particular use. Another reason this is commonly used is because left-handed players will find this a more comfortable position than the IJKL keys (see above), and the number pad has fewer keys around it, thus it is less likely the player will hit the wrong key by mistake.\\n\\n\\n=== WAXD (including QEZC) ===\\n\\nAnother variation is WAXD, using either 4 or 8 keys surrounding the \"s\" key.  Eight directional arrows were printed on the keysets of PLATO terminals developed in the 1960s and 70s, and many games (including Empire, Dogfight, and more than a dozen dungeon games such as Avatar) utilize this layout.  The TUTOR language display editor, character set (bitmap) editor, and line set editor also use these keys on that system and its successors.  For ballistic targeting, key combinations (e.g. \"we\", \"de\", etc.) are used to get angles in multiples of 22.5 degrees.  In many programs the \"s\" key is often used to either \"select\" or \"shoot\", depending upon the application.\\nThis layout also appears on the numeric keypads of some keyboards, using 8462 (including 7913).\\n\\n\\n=== Less common variations ===\\nVaguely related is the ZXC layout, used in many freeware games, and a common setup for emulation and older 2D gaming using a keyboard.A few games from the 1980s, such as the Phantasie series, used the \"3WES\" layout, which forms a diamond on QWERTY keyboards. In this layout, three of the four keys happen to correspond to the compass directions \"West\", \"East\" and \"South\". These games usually assigned both \"N\" and \"3\" to \"North\".\\nAZERTY users will use the \"ZQSD\" combination instead of \"WASD\", since those are the keys in place of WASD on a QWERTY keyboard. Depending on the configuration, \"QAOP\" may either still work or be vertically inverted. On the Dvorak keyboard layout, \"WASD\" is \",AOE\".\\nLeft-handed players may use the numeric keypad instead.\\nA somewhat uncommon variant is YGHJ which while requiring the keyboard to be turned slightly clockwise, can result in the thumb resting comfortably upon the right Alt key and the little finger resting on C. This can be useful in games that utilize both jump and sprint functions as it allows the fingers to rest on smaller keys than ⇧ Shift and Space. The YGHJ configuration also places the hand closer to the center of the QWERTY section of the keyboard, potentially opening up the entire board to custom keybindings.\\n\\nThe game QWOP uses the control scheme \"QWOP\" to control Qwop\\'s arms and legs. the Q and W keys control Qwop\\'s thighs while the O and P keys control Qwop\\'s calves making an intentionally difficult control system as a result.\\nLayouts such as Shift Z Ctrl X, where ⇧ Shift is up and Ctrl is down, allow all direction keys to be used in any combination, without the delay of changing finger position. But the use of modifier keys can be problematic, as some games do not allow mapping of these keys.\\n\\n\\n== See also ==\\nScroll lock\\nArrow (symbol)\\nQWERTY\\nD-pad\\n\\n\\n== Notes and references ==\\n\\n\\n== External links ==\\nThe Nerd Corner: Inverse-T History'"
      ]
     },
     "execution_count": 33,
     "metadata": {},
     "output_type": "execute_result"
    }
   ],
   "source": [
    "text_wiki"
   ]
  },
  {
   "cell_type": "code",
   "execution_count": 4,
   "id": "d497d03c",
   "metadata": {},
   "outputs": [],
   "source": [
    "text = wiki_autosuggest(\"Julia Roberts\", suggest=False)"
   ]
  },
  {
   "cell_type": "code",
   "execution_count": 5,
   "id": "55c68e6f",
   "metadata": {},
   "outputs": [
    {
     "data": {
      "text/plain": [
       "'Julia Fiona Roberts (born October 28, 1967) is an American actress. One of Hollywood\\'s most bankable stars, Roberts is known for her leading roles in films of several genres, from romantic comedies and dramas to thrillers and action films. Many of her films have earned over $100 million at the worldwide box office, and six have ranked among the highest-grossing films of their respective years. Her top-billing films have collectively brought in box office receipts of over $3.8 billion globally. She is the recipient of various accolades, including an Academy Award, a British Academy Film Award, and three Golden Globe Awards. Following an early breakthrough with appearances in Mystic Pizza (1988) and Steel Magnolias (1989), Roberts established herself as a leading actress when she headlined the romantic comedy Pretty Woman (1990), which grossed $464 million worldwide. She went on to star in numerous successful films, including Sleeping with the Enemy (1991), Hook (1991), The Pelican Brief (1993), My Best Friend\\'s Wedding (1997), Notting Hill (1999), Runaway Bride (1999), Erin Brockovich (2000), Ocean\\'s Eleven (2001), Ocean\\'s Twelve (2004), Charlie Wilson\\'s War (2007), Valentine\\'s Day (2010), Eat Pray Love (2010), August: Osage County (2013), and Wonder (2017). For her performance in Erin Brockovich, Roberts won the Academy Award for Best Actress. She received a Primetime Emmy Award nomination for her performance in the HBO television film The Normal Heart (2014) and had her first regular television role in the first season of the Amazon Prime Video psychological thriller series Homecoming (2018). Roberts was the world\\'s highest-paid actress throughout the majority of the 1990s, as well as the first half of the 2000s. Her fee for Pretty Woman (1990) was $300,000, while she was paid an unprecedented $25 million for her role in Mona Lisa Smile (2003). As of 2020, Roberts\\'s net worth was estimated to be $250 million. People magazine has named her the most beautiful woman in the world a record five times. Roberts was born on October 28, 1967, in Smyrna, Georgia, a suburb of Atlanta, to Betty Lou Bredemus and Walter Grady Roberts. She is of English, Scottish, Irish, Welsh, German, and Swedish descent. Her father was a Baptist, her mother a Catholic, and she was raised Catholic. Her older brother Eric Roberts (born 1956), from whom she was estranged for several years until 2004, older sister Lisa Roberts Gillan (born 1965), and niece Emma Roberts, are also actors. She also had a younger half-sister named Nancy Motes. Roberts\\'s parents, one-time actors and playwrights, met while performing in theatrical productions for the armed forces. They later co-founded the Atlanta Actors and Writers Workshop in Atlanta, off Juniper Street in Midtown. They ran a children\\'s acting school in Decatur, Georgia, while they were expecting Julia. The children of Coretta and Martin Luther King Jr. attended the school; Walter Roberts served as acting coach for their daughter, Yolanda. As a thank-you for his service, Mrs. King paid Mrs. Roberts\\'s hospital bill when Julia was born.Her parents married in 1955. Her mother filed for divorce in 1971; the divorce was finalized in early 1972. From 1972, Roberts lived in Smyrna, Georgia, where she attended Fitzhugh Lee Elementary School, Griffin Middle School, and Campbell High School. In 1972, her mother married Michael Motes, who was abusive and often unemployed; Roberts despised him. The couple had a daughter, Nancy, who died at 37 on February 9, 2014, of an apparent drug overdose. The marriage ended in 1983, with Betty Lou divorcing Motes on cruelty grounds; she had stated that marrying him was the biggest mistake of her life. Roberts\\'s own father died of cancer when she was ten.Roberts wanted to be a veterinarian as a child. She also played the clarinet in her school band. After graduating from Smyrna\\'s Campbell High School, she attended Georgia State University but did not graduate. She later headed to New York City to pursue a career in acting. Once there, she signed with the Click Modeling Agency and enrolled in acting classes. Following her first television appearance as a juvenile rape victim in the first season of the series Crime Story, with Dennis Farina, in the episode \"The Survivor\", broadcast on February 13, 1987, Roberts made her big screen debut with an appearance in the dramedy Satisfaction (1988), alongside Liam Neeson and Justine Bateman, as a band member looking for a summer gig. She had previously performed a small role opposite her brother Eric, in Blood Red, though she only had two words of dialogue, filmed in 1987, although it was not released until 1989. In 1988, Roberts had a role in the fourth-season finale of Miami Vice and her first critical success with moviegoers came with the independent romantic comedy Mystic Pizza, in which she played a Portuguese-American teenage girl working as a waitress at a pizza parlor. Roger Ebert found Roberts to be a \"major beauty with a fierce energy\" and observed that the film \"may someday become known for the movie stars it showcased back before they became stars. All of the young actors in this movie have genuine gifts\".In Steel Magnolias (1989), a film adaptation of Robert Harling\\'s 1987 play of the same name, Roberts starred as a young bride with diabetes, alongside Sally Field, Dolly Parton, Shirley MacLaine and Daryl Hannah. The filmmakers were looking at both Laura Dern and Winona Ryder when the casting director insisted they saw Roberts, who was then filming Mystic Pizza. Harling stated: \"She walked into the room and that smile lit everything up and I said \\'that\\'s my sister\\', so she joined the party and she was magnificent\". Director Herbert Ross was notoriously tough on newcomer Roberts, with Sally Field admitting that he \"went after Julia with a vengeance. This was pretty much her first big film\". Nevertheless, the film was a critical and commercial darling when it was released, and Roberts received both her first Academy Award nomination (as Best Supporting Actress) and first Golden Globe Award win (Motion Picture Best Supporting Actress) for her performance. Catapulting on her 1989 Academy Award nomination, Roberts gained further notice from worldwide audiences when she starred with Richard Gere in the Cinderella–Pygmalionesque story, Pretty Woman, in 1990, playing an assertive freelance hooker with a heart of gold. Roberts won the role after Michelle Pfeiffer, Molly Ringwald, Meg Ryan, Jennifer Jason Leigh, Karen Allen, and Daryl Hannah (her co-star in Steel Magnolias) turned it down. The role also earned her a second Oscar nomination, this time as Best Actress, and second Golden Globe Award win, as Motion Picture Best Actress (Musical or Comedy). Pretty Woman saw the highest number of ticket sales in the U.S. ever for a romantic comedy, and made $463.4 million worldwide. The red dress Roberts wore in the film has been considered one of the most famous gowns in cinema. Her next film release following Pretty Woman was Joel Schumacher\\'s supernatural thriller Flatliners (also 1990), in which Roberts starred as one of five students conducting clandestine experiments that produce near-death experiences. The production was met with a polarized critical reception, but became a profit at the box office and has since been considered a cult film. In 1991, Roberts played a battered wife attempting to begin a new life in Iowa in the thriller Sleeping with the Enemy, a winged, six-inch-tall tomboyish Tinkerbell in Steven Spielberg\\'s fantasy film Hook and an outgoing yet cautious nurse in her second collaboration with director Joel Schumacher, the romance drama Dying Young. Although negative reviews greeted her 1991 outings, Sleeping with the Enemy grossed $175 million, Hook $300.9 million and Dying Young $82.3 million globally. Roberts took a two-year hiatus from the screen, during which she made no films other than a cameo appearance in Robert Altman\\'s The Player (1992). In early 1993, she was the subject of a People magazine cover story asking, \"What Happened to Julia Roberts?\". Roberts starred with Denzel Washington in the thriller The Pelican Brief (1993), based on John Grisham\\'s 1992 novel of the same name. In it, she played a young law student who uncovers a conspiracy, putting herself and others in danger. The film was a commercial success, grossing $195.2 million worldwide. None of her next film releases —I Love Trouble (1994), Prêt-à-Porter (1994) and Something to Talk About (1995)— were particularly well received by critics nor big box office draws. In 1996, she guest-starred in the second season of Friends (episode 13, \"The One After the Superbowl\"), and appeared with Liam Neeson in the historical drama Michael Collins, portraying Kitty Kiernan, the fiancée of the assassinated Irish revolutionary leader. Stephen Frears\\' Mary Reilly, her other 1996 film, was a critical and commercial failure.By the late 1990s, Roberts enjoyed renewed success in the romantic comedy genre. In P. J. Hogan\\'s My Best Friend\\'s Wedding (1997), she starred opposite Dermot Mulroney, Cameron Diaz and Rupert Everett, as a food critic who realizes she\\'s in love with her best friend and tries to win him back after he decides to marry someone else. Considered to be one of the best romantic comedies of all time, Rotten Tomatoes gave the film an approval rating of 73% based on 59 reviews, with the critical consensus reading, \"Thanks to a charming performance from Julia Roberts and a subversive spin on the genre, My Best Friend\\'s Wedding is a refreshingly entertaining romantic comedy.\" The film was a global box-office hit, earning $299.3 million. In her next film, Richard Donner\\'s political thriller Conspiracy Theory (1997), Roberts starred with Mel Gibson as a Justice Department attorney. Mick LaSalle of San Francisco Chronicle stated: \"When all else fails, there are still the stars to look at—Roberts, who actually manages to do some fine acting, and Gibson, whose likability must be a sturdy thing indeed.\" The film, nevertheless, grossed a respectable $137 million. In 1998, Roberts appeared on the television series Sesame Street opposite the character Elmo, and starred in the drama Stepmom, alongside Susan Sarandon, revolving around the complicated relationship between a terminally-ill mother and the future stepmother of her children. While reviews were mixed, the film made $159.7 million worldwide.Roberts paired with Hugh Grant for Notting Hill (1999), portraying a famous actress who falls in love with a struggling book store owner. The film displaced Four Weddings and a Funeral as the biggest British hit in the history of cinema, with earnings equalling $363 million worldwide. An exemplar of modern romantic comedies in mainstream culture, the film was also received well by critics. CNN reviewer Paul Clinton called Roberts \"the queen of the romantic comedy [whose] reign continues\", and remarked: \"Notting Hill stands alone as another funny and heartwarming story about love against all odds.\" In 1999, she also reunited with Richard Gere and Garry Marshall for Runaway Bride, in which she played a woman who has left a string of fiancés at the altar. Despite mixed reviews, Runaway Bride was another financial success, grossing $309.4 million around the globe. Roberts was a guest star in \"Empire\", a Season 9 episode of the television series Law & Order, with regular cast member Benjamin Bratt, who at the time, was her boyfriend. Her performance earned her a nomination for Primetime Emmy Award for Outstanding Guest Actress in a Drama Series. Roberts became the first actress to be paid $20 million for a film, when she took on the role of real-life environmental activist Erin Brockovich in her fight against the Pacific Gas and Electric Company (PG&E) of California, in Erin Brockovich (2000). Peter Travers of Rolling Stone wrote, \"Roberts shows the emotional toll on Erin as she tries to stay responsible to her children and to a job that has provided her with a first taste of self-esteem\", while Entertainment Weekly critic Owen Gleiberman felt that it was a \"delight to watch Roberts, with her flirtatious sparkle and undertow of melancholy\". Erin Brockovich made $256.3 million worldwide, and earned Roberts the Academy Award for Best Actress, among numerous other accolades. In 2000, she also became the first actress to make The Hollywood Reporter\\'s list of the 50 most influential women in show business since the list had begun in 1992, and her Shoelace Productions company received a deal with Joe Roth.Her first film following Erin Brockovich was the road gangster comedy The Mexican (2001), giving her a chance to work with long-time friend Brad Pitt. The film\\'s script was originally intended to be filmed as an independent production without major motion picture stars, but Roberts and Pitt, who had for some time been looking for a project they could do together, learned about it and decided to sign on. Though advertised as a typical romantic comedy star vehicle, the film does not focus solely on the actors\\' relationship and the two shared relatively little screen time together. The Mexican earned $66.8 million in North America. In Joe Roth\\'s romantic comedy America\\'s Sweethearts (2001), Roberts starred as the once-overweight sister and assistant of a Hollywood actress, along with Billy Crystal, John Cusack, and Catherine Zeta-Jones. Critics\\' felt that despite its famous cast, the production lacked \"sympathetic characters\" and was \"only funny in spurts.\" A commercial success, it grossed over $138 million worldwide, however. In her last film released in 2001, Roberts teamed with Erin Brockovich director Steven Soderbergh for Ocean\\'s Eleven, a remake of the 1960 film of the same name, featuring an ensemble cast including George Clooney, Brad Pitt, and Matt Damon. Roberts played Tess Ocean, the ex-wife of leader Danny Ocean (Clooney), originally played by Angie Dickinson. A success with critics and at the box office alike, Ocean\\'s Eleven became the fifth highest-grossing film of the year with a total of $450 million worldwide. Roberts received a record $25 million, the highest ever earned by an actress at that time, to portray a forward-thinking art history professor at Wellesley College in 1953, in Mike Newell\\'s drama Mona Lisa Smile. The film garnered largely lukewarm reviews by critics, who found it \"predictable and safe\", but made over $141 million in theaters. In 2004, Roberts replaced Cate Blanchett in the role of an American photographer for Mike Nichols\\'s film Closer, a romantic drama written by Patrick Marber, based on his award-winning 1997 play of the same name, co-starring Jude Law, Natalie Portman and Clive Owen. She next reprised the role of Tess Ocean in Ocean\\'s Twelve, which was deliberately much more unconventional than the first film, epitomized by a sequence in which Roberts\\'s character impersonates the real-life Julia Roberts, due to what the film\\'s characters believe is their strong resemblance. Though less well reviewed than Eleven, the film became another major success at the box office, with a gross of $363 million worldwide. In 2005, she was featured in the music video for the single \"Dreamgirl\" by the Dave Matthews Band. It was her first music video appearance. Roberts appeared in The Hollywood Reporter\\'s list of the 10 highest-paid actresses every year from 2002 (when the magazine began compiling its list) to 2005.In 2006, Roberts voiced a nurse ant in The Ant Bully and a barn spider in Charlotte\\'s Web. She made her Broadway debut on April 19, 2006, as Nan in a revival of Richard Greenberg\\'s 1997 play Three Days of Rain opposite Bradley Cooper and Paul Rudd. Although the play grossed nearly $1 million in ticket sales during its first week and was a commercial success throughout its limited run, her performance drew criticism. Ben Brantley of The New York Times described Roberts as being fraught with \"self-consciousness (especially in the first act) [and] only glancingly acquainted with the two characters she plays.\" Brantley also criticized the overall production, writing that \"it\\'s almost impossible to discern its artistic virtues from this wooden and splintered interpretation, directed by Joe Mantello.\" Writing in the New York Post, Clive Barnes declared, \"Hated the play. To be sadly honest, even hated her. At least I liked the rain—even if three days of it can seem an eternity.\" In Mike Nichols\\' biographical drama Charlie Wilson\\'s War (2007), Roberts starred as socialite Joanne Herring, the love interest of Democratic Texas Congressman Charles Wilson, opposite Tom Hanks and Philip Seymour Hoffman . The film received considerable acclaim, made $119.5 million worldwide, and earned Roberts her sixth Golden Globe nomination. The independent drama Fireflies in the Garden, in which Roberts played a mother whose death sets the story in motion, was screened at the 2008 Berlin International Film Festival before being shown in European cinemas—it did not get a North American release until 2011. Roberts played a CIA agent collaborating with another spy to carry out a complicated con, opposite Clive Owen, in the comic thriller Duplicity (2009). Despite mixed reviews and moderate box office returns, critic A. O. Scott praised her performance: \"Ms. Roberts has almost entirely left behind the coltish, America\\'s-sweetheart mannerisms, except when she uses them strategically, to disarm or confuse. [...] She is, at 41, unmistakably in her prime\". She received her seventh Golden Globe nomination for her role. In 2010, Roberts played an U.S. Army captain on a one-day leave, as part of a large ensemble cast, in the romantic comedy Valentine\\'s Day, and starred as an author finding herself following a divorce in the film adaptation of Eat Pray Love. While she received $3 million up front against 3 percent of the gross for her six-minute role in Valentine\\'s Day, Eat Pray Love had the highest debut at the box office for Roberts in a top-billed role since America\\'s Sweethearts. She appeared as the teacher of a middle-aged man returning to education in the romantic comedy Larry Crowne, opposite Tom Hanks, who also served as the director. The film was poorly received by critics and audiences, although Roberts\\'s comedic performance was praised. In Mirror Mirror (2012), the Tarsem Singh adaptation of Snow White, Roberts portrayed Queen Clementianna, Snow White\\'s evil stepmother, opposite Lily Collins. Peter Travers of Rolling Stone felt that she tried \"way too hard\" in her role, while Katey Rich of Cinema Blend observed that she \"takes relish in her wicked [portrayal] but could have gone even further with it\". Mirror Mirror made $183 million globally. In 2013, Roberts starred alongside Meryl Streep and Ewan McGregor in the black comedy drama August: Osage County, about a dysfunctional family that re-unites into the familial house when their patriarch suddenly disappears. Her performance earned her nominations for the Golden Globe Award, Screen Actors Guild Award, Critics\\' Choice Award, and Academy Award for Best Supporting Actress, amongst other accolades. It was her fourth Academy Award nomination. In 2014, Roberts starred as Dr. Emma Brookner, a character based on Dr. Linda Laubenstein, in the television adaptation of Larry Kramer\\'s AIDS-era play, The Normal Heart, which aired on HBO; the film was critically acclaimed and Vanity Fair, in its review, wrote: \"Roberts, meanwhile, hums with righteous, Erin Brokovich-ian anger. Between this and August: Osage County, she\\'s carving out a nice new niche for herself, playing brittle women who show their love and concern through explosive temper\". Her role garnered her a nomination for the Primetime Emmy Award for Outstanding Supporting Actress in a Miniseries or a Movie.Roberts narrated \"Women in Hollywood\", an episode of the second season of Makers: Women Who Make America, in 2014, and appeared in Givenchy\\'s spring–summer campaign in 2015. She starred as a grieving mother opposite Nicole Kidman and Chiwetel Ejiofor in Secret in Their Eyes (2015), a remake of the 2009 Argentine film of the same name, both based on the novel La pregunta de sus ojos by author Eduardo Sacheri. Unlike the original film, the American version received negative reviews and failed to find an audience. Donald Clarke of Irish Times concluded that a \"sound job\" by the cast \"can\\'t quite shake the whiff of compromise that hangs around the project\". In 2016, Roberts reunited with Garry Marshall and reportedly received a $3 million fee for a four-day shoot, playing an accomplished author who gave her child for adoption, in the romantic comedy Mother\\'s Day, which had a lackluster critical and commercial response. Her next film release was Jodie Foster\\'s thriller Money Monster, in which she starred as a television director, alongside George Clooney and Jack O\\'Connell. Sandra Hall of The Sydney Morning Herald stated: \"It may be Hollywood melodrama but it\\'s top of the range, giving Clooney and Roberts every opportunity to demonstrate the value of star power.\" The film made a respectable $93.3 million worldwide. In Wonder (2017), the film adaptation of the 2012 novel of the same name by R. J. Palacio, Roberts played the mother of a boy with Treacher Collins syndrome. The Times felt that she \"lifts every one of her scenes in Wonder to near-sublime places\". With a worldwide gross of $305.9 million, Wonder emerged as one of Roberts\\'s most widely seen films. In 2017, she also voiced a motherly Smurf leader in the animated film Smurfs: The Lost Village.Roberts portrayed the mother of a troubled young man in Peter Hedges\\'s drama Ben Is Back (2018). Shaun Kitchener of Daily Express remarked: \"Roberts is often the best, or one of the best, things about any film she\\'s in —and Ben Is Back is no different\". The role of a caseworker at a secret government facility, in the first season of the psychological thriller series Homecoming, was Roberts\\' first regular television project. The series, which premiered on Amazon Video in November 2018, garnered acclaim from critics, who concluded it was an \"impressive small-screen debut\" for Roberts that \"balances its haunting mystery with a frenetic sensibility that grips and doesn\\'t let go.\" She received a Golden Globe nomination for Best Actress in a Television Series – Drama.Roberts will reunite with George Clooney for the romantic comedy Ticket to Paradise, which is set to be released by Universal Pictures on October 21, 2022. She also signed on to play Martha Mitchell, a controversial figure throughout the Watergate scandal, in the political thriller television series Gaslit, based on the first season of the podcast Slow Burn by Leon Neyfakh. Roberts has contributed to UNICEF as well as other charitable organizations. Her six-day visit to Port-au-Prince, Haiti in 1995, as she said, \"to educate myself\", was expected to trigger an outburst of donations —$10 million in aid was sought at the time— by UNICEF officials. In 2006, she became a spokeswoman for Earth Biofuels as well as chair of the company\\'s newly formed advisory board promoting the use of renewable fuels. In 2013, she was part of a Gucci campaign, \"Chime for Change\", that aims to spread female empowerment.In 2000, Roberts narrated a documentary about Rett syndrome, a neurodevelopmental disorder, designed to help raise public awareness about the disease, and in 2014, she was the voice of Mother Nature in a short film for Conservation International intended to raise awareness about climate change. Roberts runs the production company Red Om Films (Red Om is \"Moder\" spelled backwards, after her husband\\'s last name) with her sister, Lisa Roberts Gillan, and Marisa Yeres Gill. Through Red Om, Roberts has served as an executive producer for various projects she has starred in such as Eat Pray Love and Homecoming, as well as for the first four films of the American Girl film series (based on the American Girl line of dolls), released between 2004 and 2008. In 2006, Roberts signed an endorsement deal with fashion label Gianfranco Ferre, valued at $6 million. She was photographed by Mario Testino in Los Angeles for the brand\\'s advertising campaign, which was distributed in Europe, Asia and Australia. Since 2009, Roberts has acted as Lancôme\\'s global ambassador, a role in which she has been involved in the development and promotion of the brand\\'s range of cosmetics and beauty products. She initially signed a five-year extension with the company for $50 million in 2010. Roberts had romantic relationships with actors Jason Patric, Liam Neeson, Kiefer Sutherland, Dylan McDermott, and Matthew Perry. She was briefly engaged to Sutherland; they broke up three days before their scheduled wedding on June 11, 1991. On June 25, 1993, she married country singer Lyle Lovett; the wedding took place at St. James Lutheran Church in Marion, Indiana. They separated in March 1995 and subsequently divorced. From 1998 to 2001, Roberts dated actor Benjamin Bratt.Roberts and her husband, cameraman Daniel Moder, met on the set of her film The Mexican in 2000 while she was still dating Bratt. At the time, Moder was married to Vera Steimberg. He filed for divorce a little over a year later, and after it was finalized, he and Roberts wed on July 4, 2002, at her ranch in Taos, New Mexico. Together, they have three children: twins, a daughter and a son, born in November 2004, and another son born in June 2007. In 2010, Roberts said she was Hindu, having converted for \"spiritual satisfaction\". Roberts is a devotee of the guru Neem Karoli Baba (Maharaj-ji), a picture of whom drew Roberts to Hinduism.In September 2009, Swami Daram Dev of Ashram Hari Mandir in Pataudi, where Roberts was shooting Eat Pray Love, gave her children new names after Hindu gods: Laxmi for Hazel, Ganesh for Phinnaeus and Krishna Balram for Henry. Roberts\\' films that have earned the most at the box office, as of 2021, include: Roberts has received four Academy Award nominations, winning for Best Actress at the 73rd Academy Awards, for her titular portrayal in Erin Brockovich, which additionally earned her a Golden Globe, a BAFTA Award and a Screen Actors Guild Award. She won Golden Globe Awards for her performances in Steel Magnolias and Pretty Woman, and as of 2019, has garnered eight nominations. Roberts received two Primetime Emmy Awards nominations, one for Outstanding Guest Actress in a Drama Series, for her guest-role on Law & Order, and the other for Outstanding Supporting Actress in a Limited Series or Television Movie, for her performance in The Normal Heart. Mark Bego. Julia Roberts: America\\'s Sweetheart (New York: AMI Books, 2003). ISBN 1932270094. Paul Donnelley. Julia Roberts Confidential: The Unauthorised Biography (London: Virgin, 2003). ISBN 1852270233. James Spada. Julia: Her Life (New York: St Martin\\'s Press, 2004). ISBN 0312285655 Frank Sanello. Julia Roberts: Pretty Superstar (Edinburgh: Mainstream 2010). ISBN 1845966651. Julia Roberts at IMDb Julia Roberts at the Internet Broadway Database Julia Roberts at AllMovie Julia Roberts at Rotten Tomatoes'"
      ]
     },
     "execution_count": 5,
     "metadata": {},
     "output_type": "execute_result"
    }
   ],
   "source": [
    "text"
   ]
  },
  {
   "cell_type": "code",
   "execution_count": null,
   "id": "c160a4bd",
   "metadata": {},
   "outputs": [],
   "source": []
  },
  {
   "cell_type": "markdown",
   "id": "4e836abd",
   "metadata": {},
   "source": [
    "### using seo blurb functionality"
   ]
  },
  {
   "cell_type": "code",
   "execution_count": 12,
   "id": "20d2e1d4",
   "metadata": {},
   "outputs": [],
   "source": [
    "def find_text_seo(input,pages): #e.g input is Las Vegas locations\n",
    "    '''Take input word adapted for type, \n",
    "    return text that keywords can be extracted from'''\n",
    "\n",
    "    #SEO way\n",
    "    df = seo.get_serps(input, pages=pages)\n",
    "    df['link'] = df['link'].str.lower()\n",
    "    bad_links = ['facebook','twitter','youtube','instagram','linkedin'] #Removing search terms from sites that arnt of interest for keyword extraction\n",
    "    df = df[~df['link'].str.contains('|'.join(bad_links))]\n",
    "    #print(df[['title','link']])\n",
    "\n",
    "    text = str(df['text'].values.tolist())\n",
    "\n",
    "    #Text Cleaning\n",
    "    text = re.sub(r\"\\'\", '', text) #Get rid of \\'\n",
    "    text = re.sub(r\"\\\\xa0...\", '', text) #Get rid of \\\\xa0...\n",
    "    text = re.sub(r\"\\\\n\", ' ', text) #Get rid of \\\\n\n",
    "    text = re.sub(r\"\\\\u200e\", ' ', text) #Get rid of \\\\u200e\n",
    "    text = re.sub(r\"\\\"\", '', text)\n",
    "    text = re.sub(r\"\\'\", '', text)\n",
    "    text = re.sub(r\"\\“\", '', text)\n",
    "    text = re.sub(r\"\\”\", '', text)\n",
    "    text = re.sub(r\"\\[\", '', text)\n",
    "    text = re.sub(r\"\\]\", '', text)\n",
    "    text = re.sub(r\"\\)\", '', text)\n",
    "    text = re.sub(r\"\\(\", '', text)\n",
    "    text = re.sub(r\"\\•\", '', text)\n",
    "    text = re.sub(r\"\\▽\", '', text)\n",
    "    text = re.sub(r\"\\❖\", '', text)\n",
    "    text = re.sub(r\"\\†\", '', text)\n",
    "    text = re.sub(r\"logo\", '', text)\n",
    "    text = re.sub(r\"[Vv]iew \\d+ more rows\", '', text) #Get rid of [Vv]iew \\d+ more rows\n",
    "    text = re.sub(r\"\\d+ hours ago\", '', text)\n",
    "    text = re.sub(r\"[-·—,.;:@#?!$+-]+\", ' ', text) \n",
    "    text = re.sub(r\"U S \", \"US \", text)\n",
    "\n",
    "\n",
    "    text = ' '.join(text.split()) #Single spacing\n",
    "\n",
    "    return text"
   ]
  },
  {
   "cell_type": "code",
   "execution_count": 17,
   "id": "0c7fb852",
   "metadata": {},
   "outputs": [
    {
     "data": {
      "text/plain": [
       "'Julia Roberts, in full Julia Fiona Roberts, (born October 28, 1967, Smyrna, Georgia, U.S.), American actress whose deft performances in varied roles helped\\xa0...'"
      ]
     },
     "execution_count": 17,
     "metadata": {},
     "output_type": "execute_result"
    }
   ],
   "source": [
    "results = seo.get_serps(\"Julia Roberts\")\n",
    "results.iloc[1]['text']"
   ]
  },
  {
   "cell_type": "code",
   "execution_count": 15,
   "id": "72d975b8",
   "metadata": {},
   "outputs": [
    {
     "data": {
      "text/plain": [
       "'Julia Fiona Roberts born October 28 1967 is an American actress One of Hollywoods most bankable stars Roberts is known for her leading roles in films Julia Roberts in full Julia Fiona Roberts born October 28 1967 Smyrna Georgia US American actress whose deft performances in varied roles helped 18 Apr 2022 Julia Roberts is one of those few actors who have achieved a stardom that never really fades Shes always up there in the pop culture Julia Roberts <p>Roberts new film will be nostalgic for those who grew up on Can Meg Ryan Julia Roberts and Sandra Bullock revive the ailing genre Move over Marvel the meet cute is back – and it feels like slipping 25 Apr 2022 The American actress was born in October 1967 in a small town in Georgia Her acting career has seen great success with her winning three Julia Roberts is a highly acclaimed American actress who has a net worth of 250 million Her film Pretty Woman 1990 established her as a leading star Actress and producer Julia Roberts is the face behind the new Chopard Happy Sport campaign and watches Her brilliant smile underscores the brands love of life 24 Apr 2022 Julia Roberts shot to fame following the huge success of Pretty Woman in 1990 with the actress going on to star in dozens of blockbusters Julia Roberts movies from Erin Brockovich to Pretty Woman made her a hot Hollywood star How old is Julia Roberts Youd never know her age from photos The latest Julia Roberts news blogs and videos on Metro Learn more about Julia Roberts movies and shows full bio photos videos and more at TV Guide 27 Apr 2017 Julia Roberts is an Academy Award winning actress and one of Hollywoods top stars known for such films as Steel Magnolias Pretty Biography Born on October 28 1967 Julia Roberts has been one of Americas biggest box office draws Sidestepping the 80s Brat Pack Julia Roberts Born in Smyrna Georgia October 28 1967 became a movie star after the success of Pretty Woman 1990 by Garry Marshall co starring R If I\\\\d thought something was good enough I would have done it Julia Roberts said of why she hasn\\\\t explored the romantic comedy genre in years 7 days ago In the 90s despite two Oscar nominations to her name Julia Roberts was often treated like a brand first and an actress second 19 Apr 2022 The star of classics like Notting Hill is returning to rom coms after two decades and will appear in a film with George Clooney later this The tougher sentences were inspired by Tony Hudgell who had to have both his legs amputated in 2017 after being tortured by his birth parents Julia Fiona Roberts was born on October 28 1967 in Atlanta Georgia Her brother Eric Roberts sister Lisa Roberts Gillan and niece Emma Roberts Julia Fiona Roberts is an American actress and producer She established herself as a leading lady in Hollywood after headlining the romantic comedy film Bio Julia Roberts born October 28 1967 in Smyrna GA is an American actress and producer After dropping out of college Julia moved to New York City to A review of the new Amazon Prime series Homecoming starring Julia Roberts Stephan James Bobby Cannavale Shea Wigham and Sissy Spacek Talk with Julia Roberts on https //www linkedin com/in/juliacroberts/ Julia Roberts agreed to play Martha Mitchell wife of Nixon\\\\s Attorney General John Mitchell as long as Sean Penn could play her Gaslit Get the latest news about Julia Roberts Find exclusive interviews video clips photos and more on Entertainment Tonight 22 Apr 2022 Julia Roberts has revealed that she and her co star Sean Penn hugged in complete silence after filming a challenging fight scene for their 18 Apr 2022 Julia Roberts the forever queen of rom coms will never lose her place in Hollywood When we think of her we think of great cinema 1 16 of 413 results for Julia Roberts RESULTS 20 Apr 2022 Julia Roberts is magnetic in Watergate drama Gaslit The new political drama is the highest profile original offering to appear on Starzplay 23 Apr 2022 Julia Roberts talks working with Sean Penn and doing Martha Mitchell justice in the new Watergate drama Gaslit 19 Apr 2022 Julia Roberts and Sean Penn Have Been Waiting for a Show Like Gaslit At the premiere of Starzs Watergate drama the Oscar winning actors Gaslit review Sean Penn and Julia Roberts deliver solid performances in the political thriller Published on Apr 25 2022 12 25 PM IST Share Via Julia Roberts Author Welcome to my author website I have wanted to be a writer from the age of ten when I was awarded second prize in a story writing Julia Roberts Pretty Woman Apr 19 2022 Julia Roberts Danny Moder Nov 29 2021 The latest Julia Roberts news and features Explore British Vogue to find out more including articles on fashion culture and lifestyle 2 days ago The 25 best Julia Roberts films Mystic Pizza 1988 Steel Magnolias 1989 Pretty Woman 1990 Flatliners 1990 Hook 1991 24 Apr 2022 Gaslit Starzplay review Julia Roberts steals the show as Watergate Scandal whistleblower Martha Mitchell A new take on the Watergate 19 Apr 2022 Julia Roberts as Martha Mitchell in the Starz limited series Gaslit CNN 27 Apr 2022 George Clooney and Julia Roberts\\\\ Ticket to Paradise and Billy Eichner\\\\s Boys debut first looks pushing rom coms back to theaters Julia Roberts spent time with sex workers to research her Pretty Woman role The actress even went to Hollywood Boulevard with the women'"
      ]
     },
     "execution_count": 15,
     "metadata": {},
     "output_type": "execute_result"
    }
   ],
   "source": [
    "text_seo = find_text_seo(\"Julia Roberts\", 5)\n",
    "text_seo"
   ]
  },
  {
   "cell_type": "code",
   "execution_count": null,
   "id": "3af73b6a",
   "metadata": {},
   "outputs": [],
   "source": []
  },
  {
   "cell_type": "code",
   "execution_count": null,
   "id": "9e0fb44c",
   "metadata": {},
   "outputs": [],
   "source": []
  },
  {
   "cell_type": "markdown",
   "id": "ec8ba66c",
   "metadata": {},
   "source": [
    "# Knowledge Graph"
   ]
  },
  {
   "cell_type": "code",
   "execution_count": 27,
   "id": "79efbb44",
   "metadata": {},
   "outputs": [
    {
     "data": {
      "text/html": [
       "<div>\n",
       "<style scoped>\n",
       "    .dataframe tbody tr th:only-of-type {\n",
       "        vertical-align: middle;\n",
       "    }\n",
       "\n",
       "    .dataframe tbody tr th {\n",
       "        vertical-align: top;\n",
       "    }\n",
       "\n",
       "    .dataframe thead th {\n",
       "        text-align: right;\n",
       "    }\n",
       "</style>\n",
       "<table border=\"1\" class=\"dataframe\">\n",
       "  <thead>\n",
       "    <tr style=\"text-align: right;\">\n",
       "      <th></th>\n",
       "      <th>result.description</th>\n",
       "      <th>result.@type</th>\n",
       "      <th>result.name</th>\n",
       "      <th>result.detailedDescription.url</th>\n",
       "    </tr>\n",
       "  </thead>\n",
       "  <tbody>\n",
       "    <tr>\n",
       "      <th>0</th>\n",
       "      <td>American actress</td>\n",
       "      <td>[Person, Thing]</td>\n",
       "      <td>Julia Roberts</td>\n",
       "      <td>https://en.wikipedia.org/wiki/Julia_Roberts</td>\n",
       "    </tr>\n",
       "    <tr>\n",
       "      <th>1</th>\n",
       "      <td>South Korean-American film actress</td>\n",
       "      <td>[Person, Thing]</td>\n",
       "      <td>Yunjin Kim</td>\n",
       "      <td>https://en.wikipedia.org/wiki/Yunjin_Kim</td>\n",
       "    </tr>\n",
       "    <tr>\n",
       "      <th>2</th>\n",
       "      <td>NaN</td>\n",
       "      <td>[Thing]</td>\n",
       "      <td>Julia Roberts filmography</td>\n",
       "      <td>https://en.wikipedia.org/wiki/Julia_Roberts_fi...</td>\n",
       "    </tr>\n",
       "    <tr>\n",
       "      <th>3</th>\n",
       "      <td>Football player</td>\n",
       "      <td>[Person, Thing]</td>\n",
       "      <td>Julia Roberts</td>\n",
       "      <td>https://en.wikipedia.org/wiki/Julia_Roberts_(s...</td>\n",
       "    </tr>\n",
       "  </tbody>\n",
       "</table>\n",
       "</div>"
      ],
      "text/plain": [
       "                   result.description     result.@type  \\\n",
       "0                    American actress  [Person, Thing]   \n",
       "1  South Korean-American film actress  [Person, Thing]   \n",
       "2                                 NaN          [Thing]   \n",
       "3                     Football player  [Person, Thing]   \n",
       "\n",
       "                 result.name  \\\n",
       "0              Julia Roberts   \n",
       "1                 Yunjin Kim   \n",
       "2  Julia Roberts filmography   \n",
       "3              Julia Roberts   \n",
       "\n",
       "                      result.detailedDescription.url  \n",
       "0        https://en.wikipedia.org/wiki/Julia_Roberts  \n",
       "1           https://en.wikipedia.org/wiki/Yunjin_Kim  \n",
       "2  https://en.wikipedia.org/wiki/Julia_Roberts_fi...  \n",
       "3  https://en.wikipedia.org/wiki/Julia_Roberts_(s...  "
      ]
     },
     "execution_count": 27,
     "metadata": {},
     "output_type": "execute_result"
    }
   ],
   "source": [
    "knowledge_graph = KnowledgeGraph()\n",
    "\n",
    "df_know = knowledge_graph.get_knowledge_graph_df(\"Julia Roberts\")\n",
    "df_know[['result.description', 'result.@type', 'result.name' , 'result.detailedDescription.url']].iloc[0:4]"
   ]
  },
  {
   "cell_type": "markdown",
   "id": "0e071d2d",
   "metadata": {},
   "source": [
    "### Knowledge graph returns the sports team "
   ]
  },
  {
   "cell_type": "code",
   "execution_count": 28,
   "id": "52d00c06",
   "metadata": {},
   "outputs": [
    {
     "data": {
      "text/html": [
       "<div>\n",
       "<style scoped>\n",
       "    .dataframe tbody tr th:only-of-type {\n",
       "        vertical-align: middle;\n",
       "    }\n",
       "\n",
       "    .dataframe tbody tr th {\n",
       "        vertical-align: top;\n",
       "    }\n",
       "\n",
       "    .dataframe thead th {\n",
       "        text-align: right;\n",
       "    }\n",
       "</style>\n",
       "<table border=\"1\" class=\"dataframe\">\n",
       "  <thead>\n",
       "    <tr style=\"text-align: right;\">\n",
       "      <th></th>\n",
       "      <th>result.description</th>\n",
       "      <th>result.@type</th>\n",
       "      <th>result.name</th>\n",
       "      <th>result.detailedDescription.url</th>\n",
       "    </tr>\n",
       "  </thead>\n",
       "  <tbody>\n",
       "    <tr>\n",
       "      <th>0</th>\n",
       "      <td>Football team</td>\n",
       "      <td>[SportsTeam, Thing]</td>\n",
       "      <td>France national football team</td>\n",
       "      <td>https://en.wikipedia.org/wiki/France_national_...</td>\n",
       "    </tr>\n",
       "    <tr>\n",
       "      <th>1</th>\n",
       "      <td>Football league</td>\n",
       "      <td>[SportsOrganization, Thing, Corporation, Organ...</td>\n",
       "      <td>Ligue 1</td>\n",
       "      <td>https://en.wikipedia.org/wiki/Ligue_1</td>\n",
       "    </tr>\n",
       "    <tr>\n",
       "      <th>2</th>\n",
       "      <td>Retail company</td>\n",
       "      <td>[Corporation, Organization, Thing]</td>\n",
       "      <td>Leroy Merlin</td>\n",
       "      <td>https://en.wikipedia.org/wiki/Leroy_Merlin</td>\n",
       "    </tr>\n",
       "    <tr>\n",
       "      <th>3</th>\n",
       "      <td>Telecom company</td>\n",
       "      <td>[Corporation, Organization, Thing]</td>\n",
       "      <td>Orange S.A.</td>\n",
       "      <td>https://en.wikipedia.org/wiki/Orange_S.A.</td>\n",
       "    </tr>\n",
       "    <tr>\n",
       "      <th>4</th>\n",
       "      <td>Air carrier</td>\n",
       "      <td>[Thing, Corporation, Airline, Organization]</td>\n",
       "      <td>Air France</td>\n",
       "      <td>https://en.wikipedia.org/wiki/Air_France</td>\n",
       "    </tr>\n",
       "    <tr>\n",
       "      <th>5</th>\n",
       "      <td>Bank</td>\n",
       "      <td>[Corporation, Organization, Thing]</td>\n",
       "      <td>Crédit Agricole</td>\n",
       "      <td>https://en.wikipedia.org/wiki/Cr%C3%A9dit_Agri...</td>\n",
       "    </tr>\n",
       "    <tr>\n",
       "      <th>6</th>\n",
       "      <td>Meteorological service</td>\n",
       "      <td>[GovernmentOrganization, Organization, Thing]</td>\n",
       "      <td>Météo-France</td>\n",
       "      <td>https://en.wikipedia.org/wiki/M%C3%A9t%C3%A9o-...</td>\n",
       "    </tr>\n",
       "    <tr>\n",
       "      <th>7</th>\n",
       "      <td>Newspaper</td>\n",
       "      <td>[Periodical, Thing]</td>\n",
       "      <td>Ouest-France</td>\n",
       "      <td>https://en.wikipedia.org/wiki/Ouest-France</td>\n",
       "    </tr>\n",
       "    <tr>\n",
       "      <th>8</th>\n",
       "      <td>Radio network</td>\n",
       "      <td>[Organization, Thing]</td>\n",
       "      <td>France Info</td>\n",
       "      <td>https://en.wikipedia.org/wiki/France_Info_(rad...</td>\n",
       "    </tr>\n",
       "    <tr>\n",
       "      <th>9</th>\n",
       "      <td>Company</td>\n",
       "      <td>[Corporation, Organization, Thing]</td>\n",
       "      <td>Maisons du Monde</td>\n",
       "      <td>https://en.wikipedia.org/wiki/Maisons_du_Monde</td>\n",
       "    </tr>\n",
       "  </tbody>\n",
       "</table>\n",
       "</div>"
      ],
      "text/plain": [
       "       result.description                                       result.@type  \\\n",
       "0           Football team                                [SportsTeam, Thing]   \n",
       "1         Football league  [SportsOrganization, Thing, Corporation, Organ...   \n",
       "2          Retail company                 [Corporation, Organization, Thing]   \n",
       "3         Telecom company                 [Corporation, Organization, Thing]   \n",
       "4             Air carrier        [Thing, Corporation, Airline, Organization]   \n",
       "5                    Bank                 [Corporation, Organization, Thing]   \n",
       "6  Meteorological service      [GovernmentOrganization, Organization, Thing]   \n",
       "7               Newspaper                                [Periodical, Thing]   \n",
       "8           Radio network                              [Organization, Thing]   \n",
       "9                 Company                 [Corporation, Organization, Thing]   \n",
       "\n",
       "                     result.name  \\\n",
       "0  France national football team   \n",
       "1                        Ligue 1   \n",
       "2                   Leroy Merlin   \n",
       "3                    Orange S.A.   \n",
       "4                     Air France   \n",
       "5                Crédit Agricole   \n",
       "6                   Météo-France   \n",
       "7                   Ouest-France   \n",
       "8                    France Info   \n",
       "9               Maisons du Monde   \n",
       "\n",
       "                      result.detailedDescription.url  \n",
       "0  https://en.wikipedia.org/wiki/France_national_...  \n",
       "1              https://en.wikipedia.org/wiki/Ligue_1  \n",
       "2         https://en.wikipedia.org/wiki/Leroy_Merlin  \n",
       "3          https://en.wikipedia.org/wiki/Orange_S.A.  \n",
       "4           https://en.wikipedia.org/wiki/Air_France  \n",
       "5  https://en.wikipedia.org/wiki/Cr%C3%A9dit_Agri...  \n",
       "6  https://en.wikipedia.org/wiki/M%C3%A9t%C3%A9o-...  \n",
       "7         https://en.wikipedia.org/wiki/Ouest-France  \n",
       "8  https://en.wikipedia.org/wiki/France_Info_(rad...  \n",
       "9     https://en.wikipedia.org/wiki/Maisons_du_Monde  "
      ]
     },
     "execution_count": 28,
     "metadata": {},
     "output_type": "execute_result"
    }
   ],
   "source": [
    "knowledge_graph = KnowledgeGraph()\n",
    "\n",
    "df_know = knowledge_graph.get_knowledge_graph_df(\"France\")\n",
    "df_know[['result.description', 'result.@type', 'result.name' , 'result.detailedDescription.url']]"
   ]
  },
  {
   "cell_type": "code",
   "execution_count": null,
   "id": "ebea82b4",
   "metadata": {},
   "outputs": [],
   "source": []
  },
  {
   "cell_type": "markdown",
   "id": "a2659734",
   "metadata": {},
   "source": [
    "## Linkee wikipedia test case\n",
    "### for when more than one similar page name exists"
   ]
  },
  {
   "cell_type": "code",
   "execution_count": 3,
   "id": "102381fb",
   "metadata": {},
   "outputs": [],
   "source": [
    "import wikipedia\n",
    "text_wiki = (wikipedia.page(\"Tom Hanks\", auto_suggest=False)).content"
   ]
  },
  {
   "cell_type": "code",
   "execution_count": 16,
   "id": "15099feb",
   "metadata": {},
   "outputs": [],
   "source": [
    "input_text = \"disney\"\n",
    "try:\n",
    "    text_wiki = (wikipedia.page(input_text, auto_suggest=False)).content\n",
    "except Exception as e:\n",
    "    print('exception')\n",
    "    er_var = e\n",
    "    if type(er_var) == wikipedia.exceptions.DisambiguationError:\n",
    "        input_text_page = str(er_var).split('may refer to:')[1].split('\\n')[1]\n",
    "        text_wiki = (wikipedia.page(input_text_page, auto_suggest=False)).content"
   ]
  },
  {
   "cell_type": "code",
   "execution_count": 14,
   "id": "34ac568d",
   "metadata": {},
   "outputs": [
    {
     "data": {
      "text/plain": [
       "wikipedia.exceptions.DisambiguationError('The Queen',\n",
       "                                         ['Elizabeth II',\n",
       "                                          'The Queen: The Ladies Newspaper and Court Chronicle',\n",
       "                                          'The Queen (1968 film)',\n",
       "                                          'The Queen (2006 film)',\n",
       "                                          'The Queen (2012 film)',\n",
       "                                          'The Queen (play)',\n",
       "                                          'Evil Queen (Snow White)',\n",
       "                                          'The Queen (Dalida album)',\n",
       "                                          'The Queen (Velvet album)',\n",
       "                                          'The Queen Album',\n",
       "                                          '\"The Queen\" (Velvet song)',\n",
       "                                          'The Queen (British TV serial)',\n",
       "                                          'The Queen (Singaporean TV series)',\n",
       "                                          'The Queen (South African TV series)',\n",
       "                                          'Nintendo 3DS',\n",
       "                                          'GWR 3031 Class',\n",
       "                                          'TSS The Queen',\n",
       "                                          'Charlotte Flair',\n",
       "                                          'Yuna Kim',\n",
       "                                          'Queen (disambiguation)',\n",
       "                                          'Rani (disambiguation)'])"
      ]
     },
     "execution_count": 14,
     "metadata": {},
     "output_type": "execute_result"
    }
   ],
   "source": [
    "er_var"
   ]
  },
  {
   "cell_type": "code",
   "execution_count": 15,
   "id": "b92f94db",
   "metadata": {},
   "outputs": [
    {
     "data": {
      "text/plain": [
       "'Elizabeth II'"
      ]
     },
     "execution_count": 15,
     "metadata": {},
     "output_type": "execute_result"
    }
   ],
   "source": [
    "input_text_page\n"
   ]
  },
  {
   "cell_type": "code",
   "execution_count": 29,
   "id": "cc89f25e",
   "metadata": {},
   "outputs": [
    {
     "data": {
      "text/plain": [
       "\"Palma is a town on the northeast coast of Mozambique's Cabo Delgado Province.  Less than 32 kilometres (20 mi) away is the border with Tanzania to the north and north-west.\\n\\n\\n== Economy and languages ==\\nVarious languages, including Makwe, Makonde, Mwani, Swahili, and Portuguese, are spoken in the town. The town was historically known for its fishing, basketry, and mat-weaving industries.The local economy was transformed by the discovery of gas in the nearby Indian Ocean in 2010, which led to a rapidly growing liquefied natural gas sector.Palma is close to facilities for natural gas extraction off the coast of Mozambique, a major offshore gas project by Total.\\n\\n\\n== 2021 attack ==\\n\\nBeginning in October 2017, armed Islamist extremists linked to the Islamic State of Iraq and the Levant (ISIL) launched a jihadist insurgency in the Cabo Delgado region. The militants launched attacks and committed mass beheadings, and in August 2020 seized the port town of Mocimboa da Praia. The group sometimes called themselves al-Shabaab, although they do not have known links with the Somali al-Shabaab, a different jihadist group.They attacked Palma on 24 March 2021; more than 35,000 people were displaced, many fleeing to the provincial capital, Pemba. Dozens of civilians were murdered, with beheaded bodies left in the street. The militants battled with the Mozambican military, police, and the Dyck Advisory Group (a private military company hired by the police). Lionel Dyck, the head of the Dyck group, said that the attackers wore dark uniforms, were organized, and well-equipped with AK-47 rifles, RPD and PKM machine guns, and heavy mortars.Prior to the attack, the population was around 75,000. Many foreign and domestic natural gas workers evacuated the town by boat, helicopter, and convey, but others could not be evacuated. Most communications with the town were cut off on 29 March. On 29 March, Islamic State of Iraq and the Levant claimed that its Islamic State's Central Africa Province was responsible for the attack and said they had killed 55 people, including Mozambican army soldiers; these claims could not be immediately independently verified.The attack on Palma raised fears of a possible humanitarian crisis.On 5 April, military forces of Mozambique recaptured Palma.\\n\\n\\n== References ==\""
      ]
     },
     "execution_count": 29,
     "metadata": {},
     "output_type": "execute_result"
    }
   ],
   "source": [
    "text_wiki"
   ]
  },
  {
   "cell_type": "code",
   "execution_count": null,
   "id": "dce9c420",
   "metadata": {},
   "outputs": [],
   "source": []
  }
 ],
 "metadata": {
  "kernelspec": {
   "display_name": "Python 3 (ipykernel)",
   "language": "python",
   "name": "python3"
  },
  "language_info": {
   "codemirror_mode": {
    "name": "ipython",
    "version": 3
   },
   "file_extension": ".py",
   "mimetype": "text/x-python",
   "name": "python",
   "nbconvert_exporter": "python",
   "pygments_lexer": "ipython3",
   "version": "3.7.11"
  }
 },
 "nbformat": 4,
 "nbformat_minor": 5
}
