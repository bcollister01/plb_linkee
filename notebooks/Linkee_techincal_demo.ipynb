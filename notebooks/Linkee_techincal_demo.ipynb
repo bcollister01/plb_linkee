{
 "cells": [
  {
   "cell_type": "code",
   "execution_count": 1,
   "id": "221c5336",
   "metadata": {},
   "outputs": [],
   "source": [
    "from from_root import from_root, from_here\n",
    "import sys\n",
    "import os\n",
    "\n",
    "def from_root(dirname):\n",
    "    '''Wrapper function for from_root.from_root which, if called will return the root of the dirname asked for'''\n",
    "    return(os.popen(f'python -c \"from from_root import from_root; print(from_root(\\'{dirname}\\'))\"').read().strip())\n",
    "scripts_path = from_root(\"scripts\")\n",
    "\n",
    "sys.path.append(scripts_path)\n",
    "from question_gen import *\n",
    "from keyword_find import *"
   ]
  },
  {
   "cell_type": "markdown",
   "id": "685a39d2",
   "metadata": {},
   "source": [
    "## Decide the final answer we are searching for: e.g. Julia Roberts"
   ]
  },
  {
   "cell_type": "markdown",
   "id": "3d5b0a15",
   "metadata": {},
   "source": [
    "## Step 1: Extract text about the final answer"
   ]
  },
  {
   "cell_type": "markdown",
   "id": "c71e83c8",
   "metadata": {},
   "source": [
    "### Using wikipedia package"
   ]
  },
  {
   "cell_type": "code",
   "execution_count": 34,
   "id": "7654daae",
   "metadata": {},
   "outputs": [
    {
     "ename": "PageError",
     "evalue": "Page id \"David Tenat\" does not match any pages. Try another id!",
     "output_type": "error",
     "traceback": [
      "\u001b[0;31m---------------------------------------------------------------------------\u001b[0m",
      "\u001b[0;31mPageError\u001b[0m                                 Traceback (most recent call last)",
      "\u001b[0;32m/var/folders/w9/l6fmcg1123762fzfmh15g47h0000gn/T/ipykernel_24030/2325029407.py\u001b[0m in \u001b[0;36m<module>\u001b[0;34m\u001b[0m\n\u001b[0;32m----> 1\u001b[0;31m \u001b[0mtext_wiki\u001b[0m \u001b[0;34m=\u001b[0m \u001b[0;34m(\u001b[0m\u001b[0mwikipedia\u001b[0m\u001b[0;34m.\u001b[0m\u001b[0mpage\u001b[0m\u001b[0;34m(\u001b[0m\u001b[0;34m\"David Tenat\"\u001b[0m\u001b[0;34m,\u001b[0m \u001b[0mauto_suggest\u001b[0m\u001b[0;34m=\u001b[0m\u001b[0;32mFalse\u001b[0m\u001b[0;34m)\u001b[0m\u001b[0;34m)\u001b[0m\u001b[0;34m.\u001b[0m\u001b[0mcontent\u001b[0m\u001b[0;34m\u001b[0m\u001b[0;34m\u001b[0m\u001b[0m\n\u001b[0m",
      "\u001b[0;32m~/Documents/Allstate/PLB_Linkee/plb_linkee/envs/linkee/lib/python3.7/site-packages/wikipedia/wikipedia.py\u001b[0m in \u001b[0;36mpage\u001b[0;34m(title, pageid, auto_suggest, redirect, preload)\u001b[0m\n\u001b[1;32m    274\u001b[0m         \u001b[0;31m# if there is no suggestion or search results, the page doesn't exist\u001b[0m\u001b[0;34m\u001b[0m\u001b[0;34m\u001b[0m\u001b[0;34m\u001b[0m\u001b[0m\n\u001b[1;32m    275\u001b[0m         \u001b[0;32mraise\u001b[0m \u001b[0mPageError\u001b[0m\u001b[0;34m(\u001b[0m\u001b[0mtitle\u001b[0m\u001b[0;34m)\u001b[0m\u001b[0;34m\u001b[0m\u001b[0;34m\u001b[0m\u001b[0m\n\u001b[0;32m--> 276\u001b[0;31m     \u001b[0;32mreturn\u001b[0m \u001b[0mWikipediaPage\u001b[0m\u001b[0;34m(\u001b[0m\u001b[0mtitle\u001b[0m\u001b[0;34m,\u001b[0m \u001b[0mredirect\u001b[0m\u001b[0;34m=\u001b[0m\u001b[0mredirect\u001b[0m\u001b[0;34m,\u001b[0m \u001b[0mpreload\u001b[0m\u001b[0;34m=\u001b[0m\u001b[0mpreload\u001b[0m\u001b[0;34m)\u001b[0m\u001b[0;34m\u001b[0m\u001b[0;34m\u001b[0m\u001b[0m\n\u001b[0m\u001b[1;32m    277\u001b[0m   \u001b[0;32melif\u001b[0m \u001b[0mpageid\u001b[0m \u001b[0;32mis\u001b[0m \u001b[0;32mnot\u001b[0m \u001b[0;32mNone\u001b[0m\u001b[0;34m:\u001b[0m\u001b[0;34m\u001b[0m\u001b[0;34m\u001b[0m\u001b[0m\n\u001b[1;32m    278\u001b[0m     \u001b[0;32mreturn\u001b[0m \u001b[0mWikipediaPage\u001b[0m\u001b[0;34m(\u001b[0m\u001b[0mpageid\u001b[0m\u001b[0;34m=\u001b[0m\u001b[0mpageid\u001b[0m\u001b[0;34m,\u001b[0m \u001b[0mpreload\u001b[0m\u001b[0;34m=\u001b[0m\u001b[0mpreload\u001b[0m\u001b[0;34m)\u001b[0m\u001b[0;34m\u001b[0m\u001b[0;34m\u001b[0m\u001b[0m\n",
      "\u001b[0;32m~/Documents/Allstate/PLB_Linkee/plb_linkee/envs/linkee/lib/python3.7/site-packages/wikipedia/wikipedia.py\u001b[0m in \u001b[0;36m__init__\u001b[0;34m(self, title, pageid, redirect, preload, original_title)\u001b[0m\n\u001b[1;32m    297\u001b[0m       \u001b[0;32mraise\u001b[0m \u001b[0mValueError\u001b[0m\u001b[0;34m(\u001b[0m\u001b[0;34m\"Either a title or a pageid must be specified\"\u001b[0m\u001b[0;34m)\u001b[0m\u001b[0;34m\u001b[0m\u001b[0;34m\u001b[0m\u001b[0m\n\u001b[1;32m    298\u001b[0m \u001b[0;34m\u001b[0m\u001b[0m\n\u001b[0;32m--> 299\u001b[0;31m     \u001b[0mself\u001b[0m\u001b[0;34m.\u001b[0m\u001b[0m__load\u001b[0m\u001b[0;34m(\u001b[0m\u001b[0mredirect\u001b[0m\u001b[0;34m=\u001b[0m\u001b[0mredirect\u001b[0m\u001b[0;34m,\u001b[0m \u001b[0mpreload\u001b[0m\u001b[0;34m=\u001b[0m\u001b[0mpreload\u001b[0m\u001b[0;34m)\u001b[0m\u001b[0;34m\u001b[0m\u001b[0;34m\u001b[0m\u001b[0m\n\u001b[0m\u001b[1;32m    300\u001b[0m \u001b[0;34m\u001b[0m\u001b[0m\n\u001b[1;32m    301\u001b[0m     \u001b[0;32mif\u001b[0m \u001b[0mpreload\u001b[0m\u001b[0;34m:\u001b[0m\u001b[0;34m\u001b[0m\u001b[0;34m\u001b[0m\u001b[0m\n",
      "\u001b[0;32m~/Documents/Allstate/PLB_Linkee/plb_linkee/envs/linkee/lib/python3.7/site-packages/wikipedia/wikipedia.py\u001b[0m in \u001b[0;36m__load\u001b[0;34m(self, redirect, preload)\u001b[0m\n\u001b[1;32m    343\u001b[0m     \u001b[0;32mif\u001b[0m \u001b[0;34m'missing'\u001b[0m \u001b[0;32min\u001b[0m \u001b[0mpage\u001b[0m\u001b[0;34m:\u001b[0m\u001b[0;34m\u001b[0m\u001b[0;34m\u001b[0m\u001b[0m\n\u001b[1;32m    344\u001b[0m       \u001b[0;32mif\u001b[0m \u001b[0mhasattr\u001b[0m\u001b[0;34m(\u001b[0m\u001b[0mself\u001b[0m\u001b[0;34m,\u001b[0m \u001b[0;34m'title'\u001b[0m\u001b[0;34m)\u001b[0m\u001b[0;34m:\u001b[0m\u001b[0;34m\u001b[0m\u001b[0;34m\u001b[0m\u001b[0m\n\u001b[0;32m--> 345\u001b[0;31m         \u001b[0;32mraise\u001b[0m \u001b[0mPageError\u001b[0m\u001b[0;34m(\u001b[0m\u001b[0mself\u001b[0m\u001b[0;34m.\u001b[0m\u001b[0mtitle\u001b[0m\u001b[0;34m)\u001b[0m\u001b[0;34m\u001b[0m\u001b[0;34m\u001b[0m\u001b[0m\n\u001b[0m\u001b[1;32m    346\u001b[0m       \u001b[0;32melse\u001b[0m\u001b[0;34m:\u001b[0m\u001b[0;34m\u001b[0m\u001b[0;34m\u001b[0m\u001b[0m\n\u001b[1;32m    347\u001b[0m         \u001b[0;32mraise\u001b[0m \u001b[0mPageError\u001b[0m\u001b[0;34m(\u001b[0m\u001b[0mpageid\u001b[0m\u001b[0;34m=\u001b[0m\u001b[0mself\u001b[0m\u001b[0;34m.\u001b[0m\u001b[0mpageid\u001b[0m\u001b[0;34m)\u001b[0m\u001b[0;34m\u001b[0m\u001b[0;34m\u001b[0m\u001b[0m\n",
      "\u001b[0;31mPageError\u001b[0m: Page id \"David Tenat\" does not match any pages. Try another id!"
     ]
    }
   ],
   "source": [
    "text_wiki = (wikipedia.page(\"David Tenat\", auto_suggest=False)).content"
   ]
  },
  {
   "cell_type": "code",
   "execution_count": 33,
   "id": "687f73fc",
   "metadata": {},
   "outputs": [
    {
     "data": {
      "text/plain": [
       "'David John Tennant (né McDonald; born 18 April 1971) is a Scottish actor.\\nTennant rose to fame for his role as the tenth incarnation of the Doctor in the BBC sci-fi series Doctor Who (2005–2010). His other notable roles include Giacomo Casanova in the BBC comedy-drama serial Casanova (2005), the title character in the Royal Shakespeare Company\\'s film adaptation of Hamlet (2009), Barty Crouch Jr. in the fantasy film Harry Potter and the Goblet of Fire (2005), DI Alec Hardy in the ITV crime drama series Broadchurch (2013–2017), and Kilgrave in the Netflix superhero series Jessica Jones (2015–2019).\\nTennant has also worked extensively as a voice actor and on stage, including a portrayal of the title character in a 2008 production of Hamlet and the voice of Scrooge McDuck in DuckTales (2017–2021). In 2015, he received the National Television Award for Special Recognition.\\n\\n\\n== Early life ==\\nTennant was born David John McDonald in Bathgate, West Lothian on 18 April 1971, the son of Helen (née McLeod; 1940–2007) and Alexander \"Sandy\" McDonald (1937–2016), a minister who served as the Moderator of the General Assembly of the Church of Scotland. He grew up with his brother Blair and sister Karen in Ralston, Renfrewshire, where his father was the local minister. Two of his maternal great-grandparents, William and Agnes Blair, were Northern Irish Protestants from County Londonderry who were among the signatories of the Ulster Covenant in 1912. William was also a member of the Orange Order. Tennant\\'s maternal grandfather, footballer Archie McLeod, met William and Agnes\\' daughter Nellie while playing for Derry City FC. McLeod was descended from tenant farmers from the Isle of Mull.At the age of three, Tennant told his parents that he wanted to become an actor because he was a fan of Doctor Who, but they encouraged him to aim for more conventional work. He later said that he was \"absurdly single-minded\" in pursuing an acting career. He watched almost every Doctor Who episode for years and once spoke to Fourth Doctor actor Tom Baker at a book-signing event in Glasgow. He was educated at Ralston Primary School and Paisley Grammar School, and acted in various school productions. His talent was noticed by actress Edith MacArthur, who told his parents that she believed he would become a successful theatre actor after she saw him perform when he was 10 years old.Tennant attended Saturday classes at the Royal Conservatoire of Scotland, which was then known as the Royal Scottish Academy of Music and Drama. At age 16, he passed an audition for the Academy, becoming one of their youngest students and studying there between the ages of 17 and 20. After discovering that there was another David McDonald already represented by the actor\\'s union Equity, he took his stage name from Pet Shop Boys frontman Neil Tennant after reading a copy of Smash Hits magazine. He later had to legally change his surname to meet Screen Actors Guild rules.\\n\\n\\n== Acting career ==\\n\\n\\n=== Early work ===\\nTennant made his professional acting debut while still in secondary school. When he was 16, he acted in an anti-smoking film made by the Glasgow Health Board which aired on television and was also screened in schools. The following year, he played a role in an episode of Dramarama. Tennant\\'s first professional role upon graduating from drama school was in a staging of The Resistible Rise of Arturo Ui co-starring Ashley Jensen; one of a few plays in which he performed as part of the agitprop 7:84 Theatre Company. He also made an early television appearance in the Scottish TV sitcom Rab C Nesbitt as a transgender barmaid called Davina. In the 1990s, he appeared in several plays at the Dundee Repertory Theatre.Tennant was awarded his first major TV role as Campbell Bain in the BBC Scotland drama series Takin\\' Over the Asylum (1994), after impressing director David Blair during filming of another drama – Strathblair (1992). As Tennant recalled from the audition, \"they needed someone who could believably act 19 and bonkers\". During filming of Takin\\' Over the Asylum he met comic actress and writer Arabella Weir. When he moved to London shortly afterwards, he lodged with Weir for five years and became godfather to her youngest child. He has subsequently appeared with Weir in many productions: as a guest in her spoof television series Posh Nosh, in the Doctor Who audio drama Exile (during which Weir played an alternative version of the Doctor), and as panellists on the West Wing Ultimate Quiz on More4 (Weir later guest-starred on Doctor Who itself after Tennant left the series). One of his earliest big-screen roles was in Jude (1996), in which he shared a scene with Christopher Eccleston, playing a drunken undergraduate who challenges Eccleston\\'s Jude to prove his intellect. Eccleston later portrayed the ninth regeneration of The Doctor, immediately preceding Tennant\\'s iteration of the role.\\nTennant developed his career in the British theatre, frequently performing with the Royal Shakespeare Company. His first Shakespearean role for the RSC was in As You Like It (1996); having auditioned for the role of Orlando, the romantic lead, he was instead cast as the jester Touchstone, which he played in his natural Scottish accent. He subsequently specialised in comic roles, playing Antipholus of Syracuse in The Comedy of Errors and Captain Jack Absolute in The Rivals, although he also played the role of Romeo in Romeo and Juliet. He also starred in the 2003 London production of Martin McDonagh\\'s The Pillowman.Tennant contributed to several audio dramatisations of Shakespeare for the Arkangel Shakespeare series (1998). His roles include a reprisal of his Antipholus of Syracuse in The Comedy of Errors, as well as Launcelot Gobbo in The Merchant of Venice, Edgar in King Lear, and Mercutio in Romeo and Juliet, all of which he performs in his natural accent. In 1995, Tennant appeared at the Royal National Theatre, London, playing the role of Nicholas Beckett in Joe Orton\\'s What the Butler Saw. In television, he appeared in the first episode of Reeves and Mortimer\\'s revamped Randall and Hopkirk in 2000, playing an eccentric artist. During the Christmas season of 2002, he starred in a series of television advertisements for Boots the Chemists. In 2003 Tennant appeared in the film Bright Young Things. He was nominated for Laurence Olivier Award for Best Actor in a Leading Role in a Play for his performance in Kenneth Lonergan\\'s Lobby Hero. The UK première was staged at the Donmar Warehouse, in previews on April 4, opening April 10 and closing on May 4, 2002. The cast also included Charlotte Randle (Dawn), with Dominic Rowan (Bill), and Gary McDonald (William), and was again directed by Mark Brokaw. This production transferred to the New Ambassadors Theatre from June 26 (opening July 1) to August 10, 2002. He began to appear on television more prominently in 2004 and 2005, when he appeared in a dramatisation of He Knew He Was Right (2004), Blackpool (2004), Casanova (2005), and The Quatermass Experiment (2005). Later that same year, he appeared as Barty Crouch Jr. in the film Harry Potter and the Goblet of Fire.\\n\\n\\n=== Doctor Who ===\\n\\nDoctor Who returned to British screens in March 2005, with Christopher Eccleston playing the role of the Ninth Doctor in the first series. Tennant replaced him as of the second series, making his first, brief appearance as the Tenth Doctor in the episode \"The Parting of the Ways\" (2005) at the end of the regeneration scene, and also appeared in a special 7-minute mini-episode shown as part of the 2005 Children in Need appeal, broadcast on 18 November 2005. He began filming the new series of Doctor Who in late July 2005. His first full-length outing as the Doctor was a 60-minute special, \"The Christmas Invasion\", first broadcast on Christmas Day 2005. Tennant had been formally offered the role of the Doctor during rehearsals for The Quatermass Experiment. Although the casting was not officially announced until later in April, both castmates and crew became aware of the speculation surrounding Tennant; in the live broadcast Jason Flemyng (Quatermass) changed his first line to Tennant\\'s Dr. Briscoe from \"Good to have you back, Gordon\" to \"Good to have you back, Doctor\" as a deliberate reference.Tennant has expressed enthusiasm about fulfilling his childhood dream. He remarked in a radio interview: \"Who wouldn\\'t want to be the Doctor? I\\'ve even got my own TARDIS!\" In 2006, readers of Doctor Who Magazine voted Tennant \"Best Doctor\" over perennial favourite Tom Baker. Writer Russell T Davies made the decision not to use Tennant\\'s own Scottish accent for the character as he did not want the Doctor\\'s accent \"touring the regions\", using Estuary English instead. Tennant has gone on record as saying that, contrary to tabloids reports, he was not upset at not being able to play the role in his own accent and in fact had never wanted to. However, he was pleased to be able to use his own accent in one episode, when the Doctor briefly masquerades as \"Dr. James McCrimmon\" of Edinburgh in Tooth and Claw – a nod to the Second Doctor\\'s companion Jamie McCrimmon.He previously had a small role in the BBC\\'s animated Doctor Who webcast Scream of the Shalka. Not originally cast in the production, Tennant was recording a radio play in a neighbouring studio, and when he discovered what was being recorded next door convinced the director to give him a small role. This personal enthusiasm for the series had also been expressed by his participation in several audio plays based on the Doctor Who television series which had been produced by Big Finish Productions, although he did not play the Doctor in any of these productions. His first such role was in the Seventh Doctor audio Colditz, where he played a Nazi lieutenant guard at Colditz Castle. In 2004 Tennant played a lead role in the Big Finish audio play series Dalek Empire III as Galanar, a young man who is given an assignment to discover the secrets of the Daleks. In 2005, he starred in UNIT: The Wasting for Big Finish, recreating his role of Brimmicombe-Wood from a Doctor Who Unbound play, Sympathy for the Devil. In both audio productions, he worked alongside Nicholas Courtney, who reprised the character of Sir Alastair Gordon Lethbridge-Stewart. He also played an unnamed Time Lord in another Doctor Who Unbound play Exile. UNIT: The Wasting, was recorded between Tennant getting the role of the Doctor and it being announced. He played the title role in Big Finish\\'s adaptation of Bryan Talbot\\'s The Adventures of Luther Arkwright (2005). In 2006, he recorded abridged audio books of The Stone Rose by Jacqueline Rayner, The Feast of the Drowned by Stephen Cole and The Resurrection Casket by Justin Richards, for BBC Worldwide.He made his directorial debut on the Doctor Who Confidential episode that accompanies Steven Moffat\\'s episode \"Blink\", entitled \"Do You Remember The First Time?\", which aired on 9 June 2007. In 2007, Tennant\\'s Tenth Doctor appeared with Peter Davison\\'s Fifth Doctor in a Doctor Who special for Children in Need, written by Steven Moffat and entitled \"Time Crash\". He later performed alongside Davison\\'s daughter, Georgia Moffett (as \"Jenny\") in the 2008 episode \"The Doctor\\'s Daughter\". Georgia Moffett later became David Tennant\\'s wife.\\nTennant featured as the Doctor in an animated version of Doctor Who for Totally Doctor Who, The Infinite Quest, which aired on CBBC. He also starred as the Doctor in another animated six-part Doctor Who series, Dreamland. Tennant guest starred as the Doctor in a two-part story in Doctor Who spin-off The Sarah Jane Adventures, broadcast in October 2009. He continued to play the Tenth Doctor into the revived programme\\'s fourth series in 2008. However, on 29 October 2008, he announced that he would be stepping down from the role after three full series. He played the Doctor in four special episodes in 2009, before his final episode aired on 1 January 2010, where he was replaced by the Eleventh Doctor, portrayed by Matt Smith.\\nTennant and Billie Piper returned to Doctor Who for the 50th anniversary special, \"The Day of the Doctor\" broadcast on 23 November 2013, with then-stars Matt Smith and Jenna-Louise Coleman and guest star John Hurt. The same month, he also appeared in the one-off 50th anniversary comedy homage The Five(ish) Doctors Reboot directed by Peter Davison.In October 2015, Big Finish Productions announced that Tennant would return to the role of the Tenth Doctor alongside Catherine Tate as his former companion Donna Noble in three new stories from Big Finish. The stories feature current and previous Doctor Who actors, including Strax actor Dan Starkey, former Davros actor Terry Molloy, and many veterans of Big Finish, including Niky Wardley, who portrayed Eighth Doctor companion Tamsin. The three stories were released in May 2016.In November 2017, three new audio dramas were released by Big Finish Productions with Tennant once again starring as the Tenth Doctor, alongside Billie Piper as Rose Tyler. Tennant also returned to the role on 13 and 14 July 2018, as part of the live Muppets show The Muppets Take the O2 in London (in which the Tenth Doctor appeared onstage as part of a live Pigs in Space sketch).\\n\\n\\n=== Theatre work ===\\nDespite much of his work being television work, Tennant has described theatre work as his \"default way of being\". He joined the Royal Shakespeare Company (RSC), to play Hamlet with Patrick Stewart and Berowne in Love\\'s Labours Lost in 2008. From August to November 2008 he appeared at the Courtyard Theatre in Stratford-upon-Avon as Hamlet, playing that role in repertory with Berowne that October and November. Hamlet transferred to the Novello Theatre in London\\'s West End in December 2008, but Tennant suffered a prolapsed disc during previews and was unable to perform from 8 December 2008 until 2 January 2009, during which time the role was played by his understudy Edward Bennett. He returned to his role in the production on 3 January 2009, and appeared until the run ended on 10 January. Tennant\\'s performance of Hamlet was critically acclaimed. In 2009, he worked on a TV film version of the RSC\\'s 2008 Hamlet for BBC Two. On 12 April 2011, a photograph of Tennant as Hamlet featured on a stamp issued by the Royal Mail to mark the RSC\\'s fiftieth anniversary.In January 2012, Tennant was appointed to the Royal Shakespeare Company board, to be on the selection committee interviewing and choosing the new artistic director. It was announced on 23 January 2013 that Tennant would return to the RSC for the company\\'s 2013 winter season, playing the title role in Richard II at Stratford-upon-Avon (from 10 October to 16 November) and transferring to the Barbican Centre in London (from 9 December to 25 January 2014). Tennant repeated his performance as Richard II in the RSC\\'s \\'King and Country\\' cycle in 2016, starting at the Barbican Theatre in London before transferring to the Brooklyn Academy of Music in New York.In April 2022, he starred for the first time in the title role of a BBC Radio 4 production of William Shakespeare\\'s Macbeth.\\n\\n\\n=== Other work ===\\n\\n\\n==== 2005–2010 ====\\nWhile playing the Doctor, Tennant was also in the early December 2005 ITV drama Secret Smile. His performance as Jimmy Porter in Look Back in Anger at the Theatre Royal, Bath, and Lyceum Theatre, Edinburgh, was recorded by the National Video Archive of Performance for the Victoria and Albert Museum Theatre Collection. He revived this performance for the anniversary of the Royal Court Theatre in a rehearsed reading. In January 2006, he took a one-day break from shooting Doctor Who to play Richard Hoggart in a dramatisation of the 1960 Lady Chatterley\\'s Lover obscenity trial, The Chatterley Affair. The play was written by Andrew Davies and directed by Doctor Who\\'s James Hawes for the digital television channel BBC Four. Hoggart\\'s son, Simon, praised Tennant\\'s performance in The Guardian newspaper.On 25 February 2007, Tennant starred in Recovery, a 90-minute BBC One drama written by Tony Marchant. He played Alan, a self-made building site manager who attempted to rebuild his life after suffering a debilitating brain injury. His costar in the drama was friend Sarah Parish, with whom he had previously appeared in Blackpool and an episode of Doctor Who. She joked that \"we\\'re like George and Mildred – in 20 years\\' time we\\'ll probably be doing a ropey old sitcom in a terraced house in Preston\". Later that same year he starred in Learners, a BBC comedy drama written by and starring Jessica Hynes (another Doctor Who costar, in the episodes \"Human Nature\", \"The Family of Blood\" and \"The End of Time\"), in which he played a Christian driving instructor who became the object of a student\\'s affection. Learners was broadcast on BBC One on 11 November 2007. Tennant had a cameo appearance as the Doctor in the 2007 finale episode of the BBC/HBO comedy series Extras with Ricky Gervais. In November 2008, Tennant played Sir Arthur Eddington in the BBC and HBO biographical film Einstein and Eddington, which was filmed in Cambridge and Hungary. Tennant was the \"Star in a Reasonably Priced Car\" on Top Gear in December 2007, where he claimed to have unsuccessfully auditioned for a role on Taggart 26 times. Tennant is the voice behind the 2007 advertising campaign for catalogue retailer Argos, and appeared in adverts for The Proclaimers\\' 2007 album and learndirect in June 2008. Tennant also lent his voice to adverts for Tesco Mobile, Nintendo Wii, and American Express.\\n\\nTennant featured in an episode of Trick or Treat on Channel 4 in May 2008. The episode showed Tennant apparently predicting future events correctly by using automatic writing. In TV & Satellite Week  (26 April – 2 May issue), the host of the show, Derren Brown, is quoted as saying: \"One of the appeals of Doctor Who for David is time travel, so I wanted to give him that experience. He was open and up for it, and I got a good reaction. He\\'s a real screamer!\". Tennant also returned for the final episode of the series with the rest of the participants from the other episodes in the series to take part in one final experiment. Tennant appeared in the 2008 episode \"Holofile 703: Us and Phlegm\" of the radio series Nebulous (a parody of Doctor Who) in the role of Doctor Beep, using his Lothian accent. Also in 2008, he voiced the character of Hamish the Hunter in the 2008 English language DVD re-release of the 2006 animated Norwegian film, Free Jimmy, alongside Woody Harrelson. The English-language version of the film has dialogue written by Simon Pegg, who also starred in it as a main voice actor.In early 2009, Tennant narrated the digital planetarium space dome film \"We Are Astronomers\" commissioned by the UK\\'s National Space Centre. On 13 March 2009, he presented Red Nose Day 2009 with Davina McCall. He joined Franz Ferdinand onstage to play the guitar on their song \"No You Girls\" on a special Comic Relief edition of Top of the Pops. In summer 2009, Tennant filmed St. Trinian\\'s II: The Legend of Fritton\\'s Gold. The film was released in December 2009. From October 2009, he hosted the Masterpiece Contemporary programming strand on the American Public Broadcasting Service. In December 2009, he filmed the lead in an NBC pilot, Rex Is Not Your Lawyer, playing Rex, a Chicago lawyer who starts to coach clients to represent themselves when he starts suffering panic attacks. The pilot was not picked up and the project was shelved. In November 2009, he co-hosted the Absolute Radio Breakfast Show with Christian O\\'Connell for three consecutive days. He returned to cohost the show for one day in October 2010. On 7 March 2010, he also appeared as George in a one-part BBC Radio 4 adaptation of Of Mice and Men in the Classic Serial strand. In October 2010 he starred as Dave, a man struggling to raise five children after the death of his partner, in the British drama Single Father. For this role he was nominated as Best Actor at the Royal Television Society Programme Awards 2010.\\n\\n\\n==== 2011–present ====\\n\\nIn 2011, he starred in United, about the Manchester United \"Busby Babes\" team and the 1958 Munich air disaster, playing coach and assistant manager Jimmy Murphy. In September 2011, he appeared in a guest role in one episode of the comedy series This is Jinsy, and also started filming True Love, a semi-improvised BBC One drama series, on location in Margate, Kent; the series aired in June 2012. Later in September 2011, it was announced that Tennant would voice a character in the movie adaptation of Postman Pat named You Know You\\'re the One with a planned 3D theatrical release for spring 2013. In October 2011, Tennant started shooting the semi-improvised comedy film, Nativity 2: Danger in the Manger  in Coventry. He played dual roles: the main character, put-upon teacher Mr. Peterson, and his \"golden boy\" twin brother and rival.In April 2012, Tennant played lead in a one-off drama The Minor Character for Sky Arts. Between April and June, he filmed Spies of Warsaw for BBC Four, in the lead role of Jean-François Mercier. This drama series shot in Poland is an adaptation of Alan Furst\\'s novel The Spies of Warsaw. Tennant auditioned for the role of Hannibal Lecter in NBC\\'s Hannibal; he was narrowly beaten for the part by Mads Mikkelsen. On 9 June 2012, he started filming the 3-part political drama series The Politician\\'s Husband for BBC Two, playing an ambitious cabinet minister who takes drastic action when his wife\\'s career starts to outshine his. Tennant also presented the new comedy quiz show Comedy World Cup, in 2012 which ran on Saturday nights for seven episodes.\\n\\nTennant starred in the ITV detective series Broadchurch as DI Alec Hardy between 2013 and 2017. The first series was filmed in Clevedon, North Somerset, and Bridport, Dorset, between August and November 2012, and aired in March 2013. Tennant filmed the second series of Broadchurch during mid-2014, and the third between May and October 2016. Between January and May 2014, Tennant also filmed the US remake of Broadchurch, re-titled Gracepoint.Between late January and March 2013, Tennant filmed The Escape Artist for BBC One in which he played a talented junior barrister who had yet to lose a case. The three-part series aired on BBC One in October and November 2013. Tennant starred opposite Rosamund Pike and Billy Connolly in What We Did on Our Holiday, a semi-improvised comedy film; shooting took place from 17 June to 30 July 2013 in Scotland. The film was released in September 2014.In 2012 he appeared in a multi-million-pound campaign for Virgin Media, starring in three adverts. One advert was voluntarily withdrawn after a complaint lodged by BBC Worldwide, which believed that the advert broke the corporation\\'s guidelines by featuring references to Doctor Who that appeared to be a commercial endorsement of the service. He is the narrator on Xbox One video game Kinect Sports Rivals, released in 2014.Tennant also portrayed the villainous Kilgrave in Jessica Jones, a television series from Marvel and Netflix. All 13 episodes were released on 20 November 2015.\\nOn 9 February 2015, Tennant appeared on the Radio 4 panel show Just a Minute, becoming the show\\'s most successful debut contestant. He also voiced the Propaganda Minister in the 2015 Square Enix video game Just Cause 3. In autumn 2015, Tennant\\'s name was announced for Scottish feature film I Feel Fine, a thriller set in Glasgow in the 1980s. However, as of January 2016, the film has been postponed indefinitely. In February 2016, he began filming Mad to Be Normal (previously titled Metanoia), a biopic of the renowned Scottish psychiatrist R. D. Laing, produced by Gizmo Films.\\nIn 2017, Tennant appeared in writer/director Daisy Aitkens\\' first feature film, You, Me and Him. The film is co-produced by Tennant\\'s wife, Georgia, and had originally been due to co-star his father-in-law, Peter Davison; however, Davison withdrew from the film in October 2016 due to a scheduling clash. Between March and June 2017 Tennant appeared in Patrick Marber\\'s Don Juan in Soho at the Wyndham\\'s Theatre. Also in 2017, he became the voice of Scrooge McDuck for Disney XD\\'s DuckTales reboot, replacing the character\\'s longtime voice actor Alan Young, who died in May 2016.Tennant plays psychopathic villain Cale Erendreich in the thriller film Bad Samaritan (2018), written by Brandon Boyce and directed by Dean Devlin. Tennant also plays Crowley in the miniseries Good Omens, which was released in full on Amazon Prime Video on 31 May 2019 and was released on BBC Two on 15 January 2020.In February 2019, Tennant launched his own podcast, titled David Tennant Does a Podcast With... The podcast\\'s episodes feature Olivia Colman, Whoopi Goldberg, Jodie Whittaker, Ian McKellen, Jon Hamm, Gordon Brown, Jennifer Garner, Catherine Tate, Krysten Ritter, James Corden, Samantha Bee, Tina Fey, and Michael Sheen.Tennant stars as a doctor suspected of murdering his family in Deadwater Fell, a Scottish true crime miniseries, which premiered in January 2020 on Channel 4. He also received his first credit as an executive producer for the series.In September 2020, he portrayed Scottish serial killer Dennis Nilsen in Des, a three-part miniseries on ITV. For his performance, he won the International Emmy Award for Best Actor.In 2020 and 2021 he starred in the TV series Staged, with Michael Sheen. Joel Golby of the Guardian described it: \"David Tennant and Michael Sheen squabbled over Zoom as exaggerated, frustrated, hyper-thespian versions of themselves, in an actors-playing-actors miniseries with the exact same energy of a late-night Comic Relief sketch; 15-minute episodes where you got to see familiar actors with their off-duty haircuts saying words that seemed real. It was good, and it was smart, and it played perfectly with the boundaries of the format it was in.\"\\n\\n\\n== Public image ==\\nTennant was named \"Coolest Man on TV\" of 2007 in a Radio Times survey. He won the National Television Awards award for Most Popular Actor in 2006, 2007, 2008, and 2010. He was voted 16th Sexiest Man in the World by a 2008 Cosmopolitan survey.In 2008, Tennant was voted \"Greenest Star on the Planet\" in an online vote held by Playhouse Disney as part of the Playing for the Planet Awards.Tennant was ranked the 24th most influential person in the British media on 9 July 2007, according to MediaGuardian. He appeared in the paper\\'s annual media rankings in 2006. In December 2008, he was named as one of the most influential people in show business by British theatre and entertainment magazine The Stage, making him the fifth actor to achieve a ranking in the top 20 (in a list typically dominated by producers and directors). He was voted the third best dressed man in Britain in GQ reader\\'s poll for 2013. Tennant\\'s popularity has led to impersonations of him on various social networking sites, leading the BBC to issue a statement making it clear that Tennant does not use any of these sites and any account or message purporting to be or from him is fake. In the expansion EverQuest: Seeds of Destruction for the game EverQuest, a character was introduced called Tavid Dennant, named after David Tennant. The character when interacted with makes a number of references to Doctor Who.In December 2005, The Stage placed Tennant at No. 6 in its \"Top Ten\" list of the most influential British television artists of the year, citing his roles in Blackpool, Casanova, Secret Smile, and Doctor Who. In January 2006, readers of the British gay and lesbian newspaper The Pink Paper voted him the \"Sexiest Man in the Universe\". In October 2006, he was named \"Scotland\\'s most stylish male\" in the Scottish Style Awards.Tennant is an ambassador for Worldwide Cancer Research.\\n\\n\\n== Politics ==\\nTennant is a supporter of the Labour Party and appeared in a party political broadcast for them in 2005. He declared his support for then-Prime Minister Gordon Brown in 2010, and labelled David Cameron a \"terrifying prospect\". In April 2010, he lent his voice to a Labour election broadcast. In 2012, he introduced Labour Party leader Ed Miliband onstage at the Labour Party Conference. In 2015, he also lent his voice to a Labour Party General Election broadcast.Tennant remained neutral on the issue of Scottish independence in the run-up to the 2014 referendum, stating that it was not his business as he no longer lived in Scotland. However, in the wake of Brexit, which he called \"depressing\", he stated in 2017 that he would support an independent Scotland in the event of a second referendum.\\n\\n\\n== Personal life ==\\nTennant rarely discusses his private life in interviews, citing his belief that \"relationships are hard enough with the people you\\'re having them with, let alone talking about them in public\". He has said that he believes religion \"must have\" shaped his character, and revealed that he is an occasional churchgoer.Tennant is married to actress Georgia Moffett, making him the son-in-law of actress Sandra Dickinson and Fifth Doctor actor Peter Davison. The couple met in 2008 during the filming of the Doctor Who episode \"The Doctor\\'s Daughter\", in which she played the genetically engineered daughter of Tennant\\'s Tenth Doctor. They married on 30 December 2011, and live in the Chiswick district of London. They have five children, including Ty, Moffett\\'s child from a previous relationship whom Tennant adopted. Ty has acted in the film Tolkien and the 2019 television adaptation of War of the Worlds. The couple\\'s daughter, Olive, was born on 29 March 2011. At the age of two, Olive had a cameo as John Barrowman\\'s daughter in The Five(ish) Doctors Reboot. Later, at 10 years old, she made her film debut in Kenneth Branagh\\'s Belfast. On 2 May 2013, Tennant and Moffett had a son named Wilfred. On 9 November 2015, Tennant announced that they had recently had a daughter named Doris. On 13 October 2019, they had another daughter named Birdie.\\n\\n\\n== Filmography ==\\n\\n\\n== Bibliography ==\\n\\n\\n=== Forewords ===\\nTennant, David (2006). Foreword. Doctor Who: The Inside Story. By Russell, Gary. BBC Books. ISBN 978-0563486497.\\nTennant, David (2011). Foreword. Elisabeth Sladen: The Autobiography. By Sladen, Elisabeth. Aurum Press. ISBN 978-1845134884.\\nTennant, David (2017). Foreword. Is There Life Outside The Box? An Actor Despairs. By Davison, Peter. John Blake. ISBN 978-1786061126.\\n\\n\\n== Awards and nominations ==\\n\\n\\n== References ==\\n\\n\\n== Further reading ==\\nSmallwood, Robert (editor) (2000). Players of Shakespeare 4: Further Essays in Shakespearean Performance by Players with the Royal Shakespeare Company, David Tennant on playing Touchstone in As You Like It, pp. 30–44. Cambridge University Press; ISBN 0-521-79416-1\\nSmallwood, Robert (editor) (2005). Players of Shakespeare 5: Further Essays in Shakespearean Performance by Players with the Royal Shakespeare Company, David Tennant on playing Romeo in Romeo and Juliet, pp. 113–130. Cambridge University Press; ISBN 0-521-67698-3\\nMitchell, Molly (2009). David Tennant. London: Orion Publishing Group; ISBN 978-1-4091-0469-8\\n\\n\\n== External links ==\\nDavid Tennant at IMDb \\nDavid Tennant at the BFI\\'s Screenonline\\n\"David Tennant collected news and commentary\". The New York Times.\\nWorks by or about David Tennant in libraries (WorldCat catalog) \\nHamlet,  (3:05:52), Great Performances, PBS, 28 April 2008 (video-only link)'"
      ]
     },
     "execution_count": 33,
     "metadata": {},
     "output_type": "execute_result"
    }
   ],
   "source": [
    "text_wiki"
   ]
  },
  {
   "cell_type": "code",
   "execution_count": 4,
   "id": "d497d03c",
   "metadata": {},
   "outputs": [],
   "source": [
    "text = wiki_autosuggest(\"Julia Roberts\", suggest=False)"
   ]
  },
  {
   "cell_type": "code",
   "execution_count": 5,
   "id": "55c68e6f",
   "metadata": {},
   "outputs": [
    {
     "data": {
      "text/plain": [
       "'Julia Fiona Roberts (born October 28, 1967) is an American actress. One of Hollywood\\'s most bankable stars, Roberts is known for her leading roles in films of several genres, from romantic comedies and dramas to thrillers and action films. Many of her films have earned over $100 million at the worldwide box office, and six have ranked among the highest-grossing films of their respective years. Her top-billing films have collectively brought in box office receipts of over $3.8 billion globally. She is the recipient of various accolades, including an Academy Award, a British Academy Film Award, and three Golden Globe Awards. Following an early breakthrough with appearances in Mystic Pizza (1988) and Steel Magnolias (1989), Roberts established herself as a leading actress when she headlined the romantic comedy Pretty Woman (1990), which grossed $464 million worldwide. She went on to star in numerous successful films, including Sleeping with the Enemy (1991), Hook (1991), The Pelican Brief (1993), My Best Friend\\'s Wedding (1997), Notting Hill (1999), Runaway Bride (1999), Erin Brockovich (2000), Ocean\\'s Eleven (2001), Ocean\\'s Twelve (2004), Charlie Wilson\\'s War (2007), Valentine\\'s Day (2010), Eat Pray Love (2010), August: Osage County (2013), and Wonder (2017). For her performance in Erin Brockovich, Roberts won the Academy Award for Best Actress. She received a Primetime Emmy Award nomination for her performance in the HBO television film The Normal Heart (2014) and had her first regular television role in the first season of the Amazon Prime Video psychological thriller series Homecoming (2018). Roberts was the world\\'s highest-paid actress throughout the majority of the 1990s, as well as the first half of the 2000s. Her fee for Pretty Woman (1990) was $300,000, while she was paid an unprecedented $25 million for her role in Mona Lisa Smile (2003). As of 2020, Roberts\\'s net worth was estimated to be $250 million. People magazine has named her the most beautiful woman in the world a record five times. Roberts was born on October 28, 1967, in Smyrna, Georgia, a suburb of Atlanta, to Betty Lou Bredemus and Walter Grady Roberts. She is of English, Scottish, Irish, Welsh, German, and Swedish descent. Her father was a Baptist, her mother a Catholic, and she was raised Catholic. Her older brother Eric Roberts (born 1956), from whom she was estranged for several years until 2004, older sister Lisa Roberts Gillan (born 1965), and niece Emma Roberts, are also actors. She also had a younger half-sister named Nancy Motes. Roberts\\'s parents, one-time actors and playwrights, met while performing in theatrical productions for the armed forces. They later co-founded the Atlanta Actors and Writers Workshop in Atlanta, off Juniper Street in Midtown. They ran a children\\'s acting school in Decatur, Georgia, while they were expecting Julia. The children of Coretta and Martin Luther King Jr. attended the school; Walter Roberts served as acting coach for their daughter, Yolanda. As a thank-you for his service, Mrs. King paid Mrs. Roberts\\'s hospital bill when Julia was born.Her parents married in 1955. Her mother filed for divorce in 1971; the divorce was finalized in early 1972. From 1972, Roberts lived in Smyrna, Georgia, where she attended Fitzhugh Lee Elementary School, Griffin Middle School, and Campbell High School. In 1972, her mother married Michael Motes, who was abusive and often unemployed; Roberts despised him. The couple had a daughter, Nancy, who died at 37 on February 9, 2014, of an apparent drug overdose. The marriage ended in 1983, with Betty Lou divorcing Motes on cruelty grounds; she had stated that marrying him was the biggest mistake of her life. Roberts\\'s own father died of cancer when she was ten.Roberts wanted to be a veterinarian as a child. She also played the clarinet in her school band. After graduating from Smyrna\\'s Campbell High School, she attended Georgia State University but did not graduate. She later headed to New York City to pursue a career in acting. Once there, she signed with the Click Modeling Agency and enrolled in acting classes. Following her first television appearance as a juvenile rape victim in the first season of the series Crime Story, with Dennis Farina, in the episode \"The Survivor\", broadcast on February 13, 1987, Roberts made her big screen debut with an appearance in the dramedy Satisfaction (1988), alongside Liam Neeson and Justine Bateman, as a band member looking for a summer gig. She had previously performed a small role opposite her brother Eric, in Blood Red, though she only had two words of dialogue, filmed in 1987, although it was not released until 1989. In 1988, Roberts had a role in the fourth-season finale of Miami Vice and her first critical success with moviegoers came with the independent romantic comedy Mystic Pizza, in which she played a Portuguese-American teenage girl working as a waitress at a pizza parlor. Roger Ebert found Roberts to be a \"major beauty with a fierce energy\" and observed that the film \"may someday become known for the movie stars it showcased back before they became stars. All of the young actors in this movie have genuine gifts\".In Steel Magnolias (1989), a film adaptation of Robert Harling\\'s 1987 play of the same name, Roberts starred as a young bride with diabetes, alongside Sally Field, Dolly Parton, Shirley MacLaine and Daryl Hannah. The filmmakers were looking at both Laura Dern and Winona Ryder when the casting director insisted they saw Roberts, who was then filming Mystic Pizza. Harling stated: \"She walked into the room and that smile lit everything up and I said \\'that\\'s my sister\\', so she joined the party and she was magnificent\". Director Herbert Ross was notoriously tough on newcomer Roberts, with Sally Field admitting that he \"went after Julia with a vengeance. This was pretty much her first big film\". Nevertheless, the film was a critical and commercial darling when it was released, and Roberts received both her first Academy Award nomination (as Best Supporting Actress) and first Golden Globe Award win (Motion Picture Best Supporting Actress) for her performance. Catapulting on her 1989 Academy Award nomination, Roberts gained further notice from worldwide audiences when she starred with Richard Gere in the Cinderella–Pygmalionesque story, Pretty Woman, in 1990, playing an assertive freelance hooker with a heart of gold. Roberts won the role after Michelle Pfeiffer, Molly Ringwald, Meg Ryan, Jennifer Jason Leigh, Karen Allen, and Daryl Hannah (her co-star in Steel Magnolias) turned it down. The role also earned her a second Oscar nomination, this time as Best Actress, and second Golden Globe Award win, as Motion Picture Best Actress (Musical or Comedy). Pretty Woman saw the highest number of ticket sales in the U.S. ever for a romantic comedy, and made $463.4 million worldwide. The red dress Roberts wore in the film has been considered one of the most famous gowns in cinema. Her next film release following Pretty Woman was Joel Schumacher\\'s supernatural thriller Flatliners (also 1990), in which Roberts starred as one of five students conducting clandestine experiments that produce near-death experiences. The production was met with a polarized critical reception, but became a profit at the box office and has since been considered a cult film. In 1991, Roberts played a battered wife attempting to begin a new life in Iowa in the thriller Sleeping with the Enemy, a winged, six-inch-tall tomboyish Tinkerbell in Steven Spielberg\\'s fantasy film Hook and an outgoing yet cautious nurse in her second collaboration with director Joel Schumacher, the romance drama Dying Young. Although negative reviews greeted her 1991 outings, Sleeping with the Enemy grossed $175 million, Hook $300.9 million and Dying Young $82.3 million globally. Roberts took a two-year hiatus from the screen, during which she made no films other than a cameo appearance in Robert Altman\\'s The Player (1992). In early 1993, she was the subject of a People magazine cover story asking, \"What Happened to Julia Roberts?\". Roberts starred with Denzel Washington in the thriller The Pelican Brief (1993), based on John Grisham\\'s 1992 novel of the same name. In it, she played a young law student who uncovers a conspiracy, putting herself and others in danger. The film was a commercial success, grossing $195.2 million worldwide. None of her next film releases —I Love Trouble (1994), Prêt-à-Porter (1994) and Something to Talk About (1995)— were particularly well received by critics nor big box office draws. In 1996, she guest-starred in the second season of Friends (episode 13, \"The One After the Superbowl\"), and appeared with Liam Neeson in the historical drama Michael Collins, portraying Kitty Kiernan, the fiancée of the assassinated Irish revolutionary leader. Stephen Frears\\' Mary Reilly, her other 1996 film, was a critical and commercial failure.By the late 1990s, Roberts enjoyed renewed success in the romantic comedy genre. In P. J. Hogan\\'s My Best Friend\\'s Wedding (1997), she starred opposite Dermot Mulroney, Cameron Diaz and Rupert Everett, as a food critic who realizes she\\'s in love with her best friend and tries to win him back after he decides to marry someone else. Considered to be one of the best romantic comedies of all time, Rotten Tomatoes gave the film an approval rating of 73% based on 59 reviews, with the critical consensus reading, \"Thanks to a charming performance from Julia Roberts and a subversive spin on the genre, My Best Friend\\'s Wedding is a refreshingly entertaining romantic comedy.\" The film was a global box-office hit, earning $299.3 million. In her next film, Richard Donner\\'s political thriller Conspiracy Theory (1997), Roberts starred with Mel Gibson as a Justice Department attorney. Mick LaSalle of San Francisco Chronicle stated: \"When all else fails, there are still the stars to look at—Roberts, who actually manages to do some fine acting, and Gibson, whose likability must be a sturdy thing indeed.\" The film, nevertheless, grossed a respectable $137 million. In 1998, Roberts appeared on the television series Sesame Street opposite the character Elmo, and starred in the drama Stepmom, alongside Susan Sarandon, revolving around the complicated relationship between a terminally-ill mother and the future stepmother of her children. While reviews were mixed, the film made $159.7 million worldwide.Roberts paired with Hugh Grant for Notting Hill (1999), portraying a famous actress who falls in love with a struggling book store owner. The film displaced Four Weddings and a Funeral as the biggest British hit in the history of cinema, with earnings equalling $363 million worldwide. An exemplar of modern romantic comedies in mainstream culture, the film was also received well by critics. CNN reviewer Paul Clinton called Roberts \"the queen of the romantic comedy [whose] reign continues\", and remarked: \"Notting Hill stands alone as another funny and heartwarming story about love against all odds.\" In 1999, she also reunited with Richard Gere and Garry Marshall for Runaway Bride, in which she played a woman who has left a string of fiancés at the altar. Despite mixed reviews, Runaway Bride was another financial success, grossing $309.4 million around the globe. Roberts was a guest star in \"Empire\", a Season 9 episode of the television series Law & Order, with regular cast member Benjamin Bratt, who at the time, was her boyfriend. Her performance earned her a nomination for Primetime Emmy Award for Outstanding Guest Actress in a Drama Series. Roberts became the first actress to be paid $20 million for a film, when she took on the role of real-life environmental activist Erin Brockovich in her fight against the Pacific Gas and Electric Company (PG&E) of California, in Erin Brockovich (2000). Peter Travers of Rolling Stone wrote, \"Roberts shows the emotional toll on Erin as she tries to stay responsible to her children and to a job that has provided her with a first taste of self-esteem\", while Entertainment Weekly critic Owen Gleiberman felt that it was a \"delight to watch Roberts, with her flirtatious sparkle and undertow of melancholy\". Erin Brockovich made $256.3 million worldwide, and earned Roberts the Academy Award for Best Actress, among numerous other accolades. In 2000, she also became the first actress to make The Hollywood Reporter\\'s list of the 50 most influential women in show business since the list had begun in 1992, and her Shoelace Productions company received a deal with Joe Roth.Her first film following Erin Brockovich was the road gangster comedy The Mexican (2001), giving her a chance to work with long-time friend Brad Pitt. The film\\'s script was originally intended to be filmed as an independent production without major motion picture stars, but Roberts and Pitt, who had for some time been looking for a project they could do together, learned about it and decided to sign on. Though advertised as a typical romantic comedy star vehicle, the film does not focus solely on the actors\\' relationship and the two shared relatively little screen time together. The Mexican earned $66.8 million in North America. In Joe Roth\\'s romantic comedy America\\'s Sweethearts (2001), Roberts starred as the once-overweight sister and assistant of a Hollywood actress, along with Billy Crystal, John Cusack, and Catherine Zeta-Jones. Critics\\' felt that despite its famous cast, the production lacked \"sympathetic characters\" and was \"only funny in spurts.\" A commercial success, it grossed over $138 million worldwide, however. In her last film released in 2001, Roberts teamed with Erin Brockovich director Steven Soderbergh for Ocean\\'s Eleven, a remake of the 1960 film of the same name, featuring an ensemble cast including George Clooney, Brad Pitt, and Matt Damon. Roberts played Tess Ocean, the ex-wife of leader Danny Ocean (Clooney), originally played by Angie Dickinson. A success with critics and at the box office alike, Ocean\\'s Eleven became the fifth highest-grossing film of the year with a total of $450 million worldwide. Roberts received a record $25 million, the highest ever earned by an actress at that time, to portray a forward-thinking art history professor at Wellesley College in 1953, in Mike Newell\\'s drama Mona Lisa Smile. The film garnered largely lukewarm reviews by critics, who found it \"predictable and safe\", but made over $141 million in theaters. In 2004, Roberts replaced Cate Blanchett in the role of an American photographer for Mike Nichols\\'s film Closer, a romantic drama written by Patrick Marber, based on his award-winning 1997 play of the same name, co-starring Jude Law, Natalie Portman and Clive Owen. She next reprised the role of Tess Ocean in Ocean\\'s Twelve, which was deliberately much more unconventional than the first film, epitomized by a sequence in which Roberts\\'s character impersonates the real-life Julia Roberts, due to what the film\\'s characters believe is their strong resemblance. Though less well reviewed than Eleven, the film became another major success at the box office, with a gross of $363 million worldwide. In 2005, she was featured in the music video for the single \"Dreamgirl\" by the Dave Matthews Band. It was her first music video appearance. Roberts appeared in The Hollywood Reporter\\'s list of the 10 highest-paid actresses every year from 2002 (when the magazine began compiling its list) to 2005.In 2006, Roberts voiced a nurse ant in The Ant Bully and a barn spider in Charlotte\\'s Web. She made her Broadway debut on April 19, 2006, as Nan in a revival of Richard Greenberg\\'s 1997 play Three Days of Rain opposite Bradley Cooper and Paul Rudd. Although the play grossed nearly $1 million in ticket sales during its first week and was a commercial success throughout its limited run, her performance drew criticism. Ben Brantley of The New York Times described Roberts as being fraught with \"self-consciousness (especially in the first act) [and] only glancingly acquainted with the two characters she plays.\" Brantley also criticized the overall production, writing that \"it\\'s almost impossible to discern its artistic virtues from this wooden and splintered interpretation, directed by Joe Mantello.\" Writing in the New York Post, Clive Barnes declared, \"Hated the play. To be sadly honest, even hated her. At least I liked the rain—even if three days of it can seem an eternity.\" In Mike Nichols\\' biographical drama Charlie Wilson\\'s War (2007), Roberts starred as socialite Joanne Herring, the love interest of Democratic Texas Congressman Charles Wilson, opposite Tom Hanks and Philip Seymour Hoffman . The film received considerable acclaim, made $119.5 million worldwide, and earned Roberts her sixth Golden Globe nomination. The independent drama Fireflies in the Garden, in which Roberts played a mother whose death sets the story in motion, was screened at the 2008 Berlin International Film Festival before being shown in European cinemas—it did not get a North American release until 2011. Roberts played a CIA agent collaborating with another spy to carry out a complicated con, opposite Clive Owen, in the comic thriller Duplicity (2009). Despite mixed reviews and moderate box office returns, critic A. O. Scott praised her performance: \"Ms. Roberts has almost entirely left behind the coltish, America\\'s-sweetheart mannerisms, except when she uses them strategically, to disarm or confuse. [...] She is, at 41, unmistakably in her prime\". She received her seventh Golden Globe nomination for her role. In 2010, Roberts played an U.S. Army captain on a one-day leave, as part of a large ensemble cast, in the romantic comedy Valentine\\'s Day, and starred as an author finding herself following a divorce in the film adaptation of Eat Pray Love. While she received $3 million up front against 3 percent of the gross for her six-minute role in Valentine\\'s Day, Eat Pray Love had the highest debut at the box office for Roberts in a top-billed role since America\\'s Sweethearts. She appeared as the teacher of a middle-aged man returning to education in the romantic comedy Larry Crowne, opposite Tom Hanks, who also served as the director. The film was poorly received by critics and audiences, although Roberts\\'s comedic performance was praised. In Mirror Mirror (2012), the Tarsem Singh adaptation of Snow White, Roberts portrayed Queen Clementianna, Snow White\\'s evil stepmother, opposite Lily Collins. Peter Travers of Rolling Stone felt that she tried \"way too hard\" in her role, while Katey Rich of Cinema Blend observed that she \"takes relish in her wicked [portrayal] but could have gone even further with it\". Mirror Mirror made $183 million globally. In 2013, Roberts starred alongside Meryl Streep and Ewan McGregor in the black comedy drama August: Osage County, about a dysfunctional family that re-unites into the familial house when their patriarch suddenly disappears. Her performance earned her nominations for the Golden Globe Award, Screen Actors Guild Award, Critics\\' Choice Award, and Academy Award for Best Supporting Actress, amongst other accolades. It was her fourth Academy Award nomination. In 2014, Roberts starred as Dr. Emma Brookner, a character based on Dr. Linda Laubenstein, in the television adaptation of Larry Kramer\\'s AIDS-era play, The Normal Heart, which aired on HBO; the film was critically acclaimed and Vanity Fair, in its review, wrote: \"Roberts, meanwhile, hums with righteous, Erin Brokovich-ian anger. Between this and August: Osage County, she\\'s carving out a nice new niche for herself, playing brittle women who show their love and concern through explosive temper\". Her role garnered her a nomination for the Primetime Emmy Award for Outstanding Supporting Actress in a Miniseries or a Movie.Roberts narrated \"Women in Hollywood\", an episode of the second season of Makers: Women Who Make America, in 2014, and appeared in Givenchy\\'s spring–summer campaign in 2015. She starred as a grieving mother opposite Nicole Kidman and Chiwetel Ejiofor in Secret in Their Eyes (2015), a remake of the 2009 Argentine film of the same name, both based on the novel La pregunta de sus ojos by author Eduardo Sacheri. Unlike the original film, the American version received negative reviews and failed to find an audience. Donald Clarke of Irish Times concluded that a \"sound job\" by the cast \"can\\'t quite shake the whiff of compromise that hangs around the project\". In 2016, Roberts reunited with Garry Marshall and reportedly received a $3 million fee for a four-day shoot, playing an accomplished author who gave her child for adoption, in the romantic comedy Mother\\'s Day, which had a lackluster critical and commercial response. Her next film release was Jodie Foster\\'s thriller Money Monster, in which she starred as a television director, alongside George Clooney and Jack O\\'Connell. Sandra Hall of The Sydney Morning Herald stated: \"It may be Hollywood melodrama but it\\'s top of the range, giving Clooney and Roberts every opportunity to demonstrate the value of star power.\" The film made a respectable $93.3 million worldwide. In Wonder (2017), the film adaptation of the 2012 novel of the same name by R. J. Palacio, Roberts played the mother of a boy with Treacher Collins syndrome. The Times felt that she \"lifts every one of her scenes in Wonder to near-sublime places\". With a worldwide gross of $305.9 million, Wonder emerged as one of Roberts\\'s most widely seen films. In 2017, she also voiced a motherly Smurf leader in the animated film Smurfs: The Lost Village.Roberts portrayed the mother of a troubled young man in Peter Hedges\\'s drama Ben Is Back (2018). Shaun Kitchener of Daily Express remarked: \"Roberts is often the best, or one of the best, things about any film she\\'s in —and Ben Is Back is no different\". The role of a caseworker at a secret government facility, in the first season of the psychological thriller series Homecoming, was Roberts\\' first regular television project. The series, which premiered on Amazon Video in November 2018, garnered acclaim from critics, who concluded it was an \"impressive small-screen debut\" for Roberts that \"balances its haunting mystery with a frenetic sensibility that grips and doesn\\'t let go.\" She received a Golden Globe nomination for Best Actress in a Television Series – Drama.Roberts will reunite with George Clooney for the romantic comedy Ticket to Paradise, which is set to be released by Universal Pictures on October 21, 2022. She also signed on to play Martha Mitchell, a controversial figure throughout the Watergate scandal, in the political thriller television series Gaslit, based on the first season of the podcast Slow Burn by Leon Neyfakh. Roberts has contributed to UNICEF as well as other charitable organizations. Her six-day visit to Port-au-Prince, Haiti in 1995, as she said, \"to educate myself\", was expected to trigger an outburst of donations —$10 million in aid was sought at the time— by UNICEF officials. In 2006, she became a spokeswoman for Earth Biofuels as well as chair of the company\\'s newly formed advisory board promoting the use of renewable fuels. In 2013, she was part of a Gucci campaign, \"Chime for Change\", that aims to spread female empowerment.In 2000, Roberts narrated a documentary about Rett syndrome, a neurodevelopmental disorder, designed to help raise public awareness about the disease, and in 2014, she was the voice of Mother Nature in a short film for Conservation International intended to raise awareness about climate change. Roberts runs the production company Red Om Films (Red Om is \"Moder\" spelled backwards, after her husband\\'s last name) with her sister, Lisa Roberts Gillan, and Marisa Yeres Gill. Through Red Om, Roberts has served as an executive producer for various projects she has starred in such as Eat Pray Love and Homecoming, as well as for the first four films of the American Girl film series (based on the American Girl line of dolls), released between 2004 and 2008. In 2006, Roberts signed an endorsement deal with fashion label Gianfranco Ferre, valued at $6 million. She was photographed by Mario Testino in Los Angeles for the brand\\'s advertising campaign, which was distributed in Europe, Asia and Australia. Since 2009, Roberts has acted as Lancôme\\'s global ambassador, a role in which she has been involved in the development and promotion of the brand\\'s range of cosmetics and beauty products. She initially signed a five-year extension with the company for $50 million in 2010. Roberts had romantic relationships with actors Jason Patric, Liam Neeson, Kiefer Sutherland, Dylan McDermott, and Matthew Perry. She was briefly engaged to Sutherland; they broke up three days before their scheduled wedding on June 11, 1991. On June 25, 1993, she married country singer Lyle Lovett; the wedding took place at St. James Lutheran Church in Marion, Indiana. They separated in March 1995 and subsequently divorced. From 1998 to 2001, Roberts dated actor Benjamin Bratt.Roberts and her husband, cameraman Daniel Moder, met on the set of her film The Mexican in 2000 while she was still dating Bratt. At the time, Moder was married to Vera Steimberg. He filed for divorce a little over a year later, and after it was finalized, he and Roberts wed on July 4, 2002, at her ranch in Taos, New Mexico. Together, they have three children: twins, a daughter and a son, born in November 2004, and another son born in June 2007. In 2010, Roberts said she was Hindu, having converted for \"spiritual satisfaction\". Roberts is a devotee of the guru Neem Karoli Baba (Maharaj-ji), a picture of whom drew Roberts to Hinduism.In September 2009, Swami Daram Dev of Ashram Hari Mandir in Pataudi, where Roberts was shooting Eat Pray Love, gave her children new names after Hindu gods: Laxmi for Hazel, Ganesh for Phinnaeus and Krishna Balram for Henry. Roberts\\' films that have earned the most at the box office, as of 2021, include: Roberts has received four Academy Award nominations, winning for Best Actress at the 73rd Academy Awards, for her titular portrayal in Erin Brockovich, which additionally earned her a Golden Globe, a BAFTA Award and a Screen Actors Guild Award. She won Golden Globe Awards for her performances in Steel Magnolias and Pretty Woman, and as of 2019, has garnered eight nominations. Roberts received two Primetime Emmy Awards nominations, one for Outstanding Guest Actress in a Drama Series, for her guest-role on Law & Order, and the other for Outstanding Supporting Actress in a Limited Series or Television Movie, for her performance in The Normal Heart. Mark Bego. Julia Roberts: America\\'s Sweetheart (New York: AMI Books, 2003). ISBN 1932270094. Paul Donnelley. Julia Roberts Confidential: The Unauthorised Biography (London: Virgin, 2003). ISBN 1852270233. James Spada. Julia: Her Life (New York: St Martin\\'s Press, 2004). ISBN 0312285655 Frank Sanello. Julia Roberts: Pretty Superstar (Edinburgh: Mainstream 2010). ISBN 1845966651. Julia Roberts at IMDb Julia Roberts at the Internet Broadway Database Julia Roberts at AllMovie Julia Roberts at Rotten Tomatoes'"
      ]
     },
     "execution_count": 5,
     "metadata": {},
     "output_type": "execute_result"
    }
   ],
   "source": [
    "text"
   ]
  },
  {
   "cell_type": "code",
   "execution_count": null,
   "id": "c160a4bd",
   "metadata": {},
   "outputs": [],
   "source": []
  },
  {
   "cell_type": "markdown",
   "id": "4e836abd",
   "metadata": {},
   "source": [
    "### using seo blurb functionality"
   ]
  },
  {
   "cell_type": "code",
   "execution_count": 12,
   "id": "20d2e1d4",
   "metadata": {},
   "outputs": [],
   "source": [
    "def find_text_seo(input,pages): #e.g input is Las Vegas locations\n",
    "    '''Take input word adapted for type, \n",
    "    return text that keywords can be extracted from'''\n",
    "\n",
    "    #SEO way\n",
    "    df = seo.get_serps(input, pages=pages)\n",
    "    df['link'] = df['link'].str.lower()\n",
    "    bad_links = ['facebook','twitter','youtube','instagram','linkedin'] #Removing search terms from sites that arnt of interest for keyword extraction\n",
    "    df = df[~df['link'].str.contains('|'.join(bad_links))]\n",
    "    #print(df[['title','link']])\n",
    "\n",
    "    text = str(df['text'].values.tolist())\n",
    "\n",
    "    #Text Cleaning\n",
    "    text = re.sub(r\"\\'\", '', text) #Get rid of \\'\n",
    "    text = re.sub(r\"\\\\xa0...\", '', text) #Get rid of \\\\xa0...\n",
    "    text = re.sub(r\"\\\\n\", ' ', text) #Get rid of \\\\n\n",
    "    text = re.sub(r\"\\\\u200e\", ' ', text) #Get rid of \\\\u200e\n",
    "    text = re.sub(r\"\\\"\", '', text)\n",
    "    text = re.sub(r\"\\'\", '', text)\n",
    "    text = re.sub(r\"\\“\", '', text)\n",
    "    text = re.sub(r\"\\”\", '', text)\n",
    "    text = re.sub(r\"\\[\", '', text)\n",
    "    text = re.sub(r\"\\]\", '', text)\n",
    "    text = re.sub(r\"\\)\", '', text)\n",
    "    text = re.sub(r\"\\(\", '', text)\n",
    "    text = re.sub(r\"\\•\", '', text)\n",
    "    text = re.sub(r\"\\▽\", '', text)\n",
    "    text = re.sub(r\"\\❖\", '', text)\n",
    "    text = re.sub(r\"\\†\", '', text)\n",
    "    text = re.sub(r\"logo\", '', text)\n",
    "    text = re.sub(r\"[Vv]iew \\d+ more rows\", '', text) #Get rid of [Vv]iew \\d+ more rows\n",
    "    text = re.sub(r\"\\d+ hours ago\", '', text)\n",
    "    text = re.sub(r\"[-·—,.;:@#?!$+-]+\", ' ', text) \n",
    "    text = re.sub(r\"U S \", \"US \", text)\n",
    "\n",
    "\n",
    "    text = ' '.join(text.split()) #Single spacing\n",
    "\n",
    "    return text"
   ]
  },
  {
   "cell_type": "code",
   "execution_count": 17,
   "id": "0c7fb852",
   "metadata": {},
   "outputs": [
    {
     "data": {
      "text/plain": [
       "'Julia Roberts, in full Julia Fiona Roberts, (born October 28, 1967, Smyrna, Georgia, U.S.), American actress whose deft performances in varied roles helped\\xa0...'"
      ]
     },
     "execution_count": 17,
     "metadata": {},
     "output_type": "execute_result"
    }
   ],
   "source": [
    "results = seo.get_serps(\"Julia Roberts\")\n",
    "results.iloc[1]['text']"
   ]
  },
  {
   "cell_type": "code",
   "execution_count": 15,
   "id": "72d975b8",
   "metadata": {},
   "outputs": [
    {
     "data": {
      "text/plain": [
       "'Julia Fiona Roberts born October 28 1967 is an American actress One of Hollywoods most bankable stars Roberts is known for her leading roles in films Julia Roberts in full Julia Fiona Roberts born October 28 1967 Smyrna Georgia US American actress whose deft performances in varied roles helped 18 Apr 2022 Julia Roberts is one of those few actors who have achieved a stardom that never really fades Shes always up there in the pop culture Julia Roberts <p>Roberts new film will be nostalgic for those who grew up on Can Meg Ryan Julia Roberts and Sandra Bullock revive the ailing genre Move over Marvel the meet cute is back – and it feels like slipping 25 Apr 2022 The American actress was born in October 1967 in a small town in Georgia Her acting career has seen great success with her winning three Julia Roberts is a highly acclaimed American actress who has a net worth of 250 million Her film Pretty Woman 1990 established her as a leading star Actress and producer Julia Roberts is the face behind the new Chopard Happy Sport campaign and watches Her brilliant smile underscores the brands love of life 24 Apr 2022 Julia Roberts shot to fame following the huge success of Pretty Woman in 1990 with the actress going on to star in dozens of blockbusters Julia Roberts movies from Erin Brockovich to Pretty Woman made her a hot Hollywood star How old is Julia Roberts Youd never know her age from photos The latest Julia Roberts news blogs and videos on Metro Learn more about Julia Roberts movies and shows full bio photos videos and more at TV Guide 27 Apr 2017 Julia Roberts is an Academy Award winning actress and one of Hollywoods top stars known for such films as Steel Magnolias Pretty Biography Born on October 28 1967 Julia Roberts has been one of Americas biggest box office draws Sidestepping the 80s Brat Pack Julia Roberts Born in Smyrna Georgia October 28 1967 became a movie star after the success of Pretty Woman 1990 by Garry Marshall co starring R If I\\\\d thought something was good enough I would have done it Julia Roberts said of why she hasn\\\\t explored the romantic comedy genre in years 7 days ago In the 90s despite two Oscar nominations to her name Julia Roberts was often treated like a brand first and an actress second 19 Apr 2022 The star of classics like Notting Hill is returning to rom coms after two decades and will appear in a film with George Clooney later this The tougher sentences were inspired by Tony Hudgell who had to have both his legs amputated in 2017 after being tortured by his birth parents Julia Fiona Roberts was born on October 28 1967 in Atlanta Georgia Her brother Eric Roberts sister Lisa Roberts Gillan and niece Emma Roberts Julia Fiona Roberts is an American actress and producer She established herself as a leading lady in Hollywood after headlining the romantic comedy film Bio Julia Roberts born October 28 1967 in Smyrna GA is an American actress and producer After dropping out of college Julia moved to New York City to A review of the new Amazon Prime series Homecoming starring Julia Roberts Stephan James Bobby Cannavale Shea Wigham and Sissy Spacek Talk with Julia Roberts on https //www linkedin com/in/juliacroberts/ Julia Roberts agreed to play Martha Mitchell wife of Nixon\\\\s Attorney General John Mitchell as long as Sean Penn could play her Gaslit Get the latest news about Julia Roberts Find exclusive interviews video clips photos and more on Entertainment Tonight 22 Apr 2022 Julia Roberts has revealed that she and her co star Sean Penn hugged in complete silence after filming a challenging fight scene for their 18 Apr 2022 Julia Roberts the forever queen of rom coms will never lose her place in Hollywood When we think of her we think of great cinema 1 16 of 413 results for Julia Roberts RESULTS 20 Apr 2022 Julia Roberts is magnetic in Watergate drama Gaslit The new political drama is the highest profile original offering to appear on Starzplay 23 Apr 2022 Julia Roberts talks working with Sean Penn and doing Martha Mitchell justice in the new Watergate drama Gaslit 19 Apr 2022 Julia Roberts and Sean Penn Have Been Waiting for a Show Like Gaslit At the premiere of Starzs Watergate drama the Oscar winning actors Gaslit review Sean Penn and Julia Roberts deliver solid performances in the political thriller Published on Apr 25 2022 12 25 PM IST Share Via Julia Roberts Author Welcome to my author website I have wanted to be a writer from the age of ten when I was awarded second prize in a story writing Julia Roberts Pretty Woman Apr 19 2022 Julia Roberts Danny Moder Nov 29 2021 The latest Julia Roberts news and features Explore British Vogue to find out more including articles on fashion culture and lifestyle 2 days ago The 25 best Julia Roberts films Mystic Pizza 1988 Steel Magnolias 1989 Pretty Woman 1990 Flatliners 1990 Hook 1991 24 Apr 2022 Gaslit Starzplay review Julia Roberts steals the show as Watergate Scandal whistleblower Martha Mitchell A new take on the Watergate 19 Apr 2022 Julia Roberts as Martha Mitchell in the Starz limited series Gaslit CNN 27 Apr 2022 George Clooney and Julia Roberts\\\\ Ticket to Paradise and Billy Eichner\\\\s Boys debut first looks pushing rom coms back to theaters Julia Roberts spent time with sex workers to research her Pretty Woman role The actress even went to Hollywood Boulevard with the women'"
      ]
     },
     "execution_count": 15,
     "metadata": {},
     "output_type": "execute_result"
    }
   ],
   "source": [
    "text_seo = find_text_seo(\"Julia Roberts\", 5)\n",
    "text_seo"
   ]
  },
  {
   "cell_type": "code",
   "execution_count": null,
   "id": "3af73b6a",
   "metadata": {},
   "outputs": [],
   "source": []
  },
  {
   "cell_type": "code",
   "execution_count": null,
   "id": "9e0fb44c",
   "metadata": {},
   "outputs": [],
   "source": []
  },
  {
   "cell_type": "markdown",
   "id": "ec8ba66c",
   "metadata": {},
   "source": [
    "# Knowledge Graph"
   ]
  },
  {
   "cell_type": "code",
   "execution_count": 27,
   "id": "79efbb44",
   "metadata": {},
   "outputs": [
    {
     "data": {
      "text/html": [
       "<div>\n",
       "<style scoped>\n",
       "    .dataframe tbody tr th:only-of-type {\n",
       "        vertical-align: middle;\n",
       "    }\n",
       "\n",
       "    .dataframe tbody tr th {\n",
       "        vertical-align: top;\n",
       "    }\n",
       "\n",
       "    .dataframe thead th {\n",
       "        text-align: right;\n",
       "    }\n",
       "</style>\n",
       "<table border=\"1\" class=\"dataframe\">\n",
       "  <thead>\n",
       "    <tr style=\"text-align: right;\">\n",
       "      <th></th>\n",
       "      <th>result.description</th>\n",
       "      <th>result.@type</th>\n",
       "      <th>result.name</th>\n",
       "      <th>result.detailedDescription.url</th>\n",
       "    </tr>\n",
       "  </thead>\n",
       "  <tbody>\n",
       "    <tr>\n",
       "      <th>0</th>\n",
       "      <td>American actress</td>\n",
       "      <td>[Person, Thing]</td>\n",
       "      <td>Julia Roberts</td>\n",
       "      <td>https://en.wikipedia.org/wiki/Julia_Roberts</td>\n",
       "    </tr>\n",
       "    <tr>\n",
       "      <th>1</th>\n",
       "      <td>South Korean-American film actress</td>\n",
       "      <td>[Person, Thing]</td>\n",
       "      <td>Yunjin Kim</td>\n",
       "      <td>https://en.wikipedia.org/wiki/Yunjin_Kim</td>\n",
       "    </tr>\n",
       "    <tr>\n",
       "      <th>2</th>\n",
       "      <td>NaN</td>\n",
       "      <td>[Thing]</td>\n",
       "      <td>Julia Roberts filmography</td>\n",
       "      <td>https://en.wikipedia.org/wiki/Julia_Roberts_fi...</td>\n",
       "    </tr>\n",
       "    <tr>\n",
       "      <th>3</th>\n",
       "      <td>Football player</td>\n",
       "      <td>[Person, Thing]</td>\n",
       "      <td>Julia Roberts</td>\n",
       "      <td>https://en.wikipedia.org/wiki/Julia_Roberts_(s...</td>\n",
       "    </tr>\n",
       "  </tbody>\n",
       "</table>\n",
       "</div>"
      ],
      "text/plain": [
       "                   result.description     result.@type  \\\n",
       "0                    American actress  [Person, Thing]   \n",
       "1  South Korean-American film actress  [Person, Thing]   \n",
       "2                                 NaN          [Thing]   \n",
       "3                     Football player  [Person, Thing]   \n",
       "\n",
       "                 result.name  \\\n",
       "0              Julia Roberts   \n",
       "1                 Yunjin Kim   \n",
       "2  Julia Roberts filmography   \n",
       "3              Julia Roberts   \n",
       "\n",
       "                      result.detailedDescription.url  \n",
       "0        https://en.wikipedia.org/wiki/Julia_Roberts  \n",
       "1           https://en.wikipedia.org/wiki/Yunjin_Kim  \n",
       "2  https://en.wikipedia.org/wiki/Julia_Roberts_fi...  \n",
       "3  https://en.wikipedia.org/wiki/Julia_Roberts_(s...  "
      ]
     },
     "execution_count": 27,
     "metadata": {},
     "output_type": "execute_result"
    }
   ],
   "source": [
    "knowledge_graph = KnowledgeGraph()\n",
    "\n",
    "df_know = knowledge_graph.get_knowledge_graph_df(\"Julia Roberts\")\n",
    "df_know[['result.description', 'result.@type', 'result.name' , 'result.detailedDescription.url']].iloc[0:4]"
   ]
  },
  {
   "cell_type": "markdown",
   "id": "0e071d2d",
   "metadata": {},
   "source": [
    "### Knowledge graph returns the sports team "
   ]
  },
  {
   "cell_type": "code",
   "execution_count": 28,
   "id": "52d00c06",
   "metadata": {},
   "outputs": [
    {
     "data": {
      "text/html": [
       "<div>\n",
       "<style scoped>\n",
       "    .dataframe tbody tr th:only-of-type {\n",
       "        vertical-align: middle;\n",
       "    }\n",
       "\n",
       "    .dataframe tbody tr th {\n",
       "        vertical-align: top;\n",
       "    }\n",
       "\n",
       "    .dataframe thead th {\n",
       "        text-align: right;\n",
       "    }\n",
       "</style>\n",
       "<table border=\"1\" class=\"dataframe\">\n",
       "  <thead>\n",
       "    <tr style=\"text-align: right;\">\n",
       "      <th></th>\n",
       "      <th>result.description</th>\n",
       "      <th>result.@type</th>\n",
       "      <th>result.name</th>\n",
       "      <th>result.detailedDescription.url</th>\n",
       "    </tr>\n",
       "  </thead>\n",
       "  <tbody>\n",
       "    <tr>\n",
       "      <th>0</th>\n",
       "      <td>Football team</td>\n",
       "      <td>[SportsTeam, Thing]</td>\n",
       "      <td>France national football team</td>\n",
       "      <td>https://en.wikipedia.org/wiki/France_national_...</td>\n",
       "    </tr>\n",
       "    <tr>\n",
       "      <th>1</th>\n",
       "      <td>Football league</td>\n",
       "      <td>[SportsOrganization, Thing, Corporation, Organ...</td>\n",
       "      <td>Ligue 1</td>\n",
       "      <td>https://en.wikipedia.org/wiki/Ligue_1</td>\n",
       "    </tr>\n",
       "    <tr>\n",
       "      <th>2</th>\n",
       "      <td>Retail company</td>\n",
       "      <td>[Corporation, Organization, Thing]</td>\n",
       "      <td>Leroy Merlin</td>\n",
       "      <td>https://en.wikipedia.org/wiki/Leroy_Merlin</td>\n",
       "    </tr>\n",
       "    <tr>\n",
       "      <th>3</th>\n",
       "      <td>Telecom company</td>\n",
       "      <td>[Corporation, Organization, Thing]</td>\n",
       "      <td>Orange S.A.</td>\n",
       "      <td>https://en.wikipedia.org/wiki/Orange_S.A.</td>\n",
       "    </tr>\n",
       "    <tr>\n",
       "      <th>4</th>\n",
       "      <td>Air carrier</td>\n",
       "      <td>[Thing, Corporation, Airline, Organization]</td>\n",
       "      <td>Air France</td>\n",
       "      <td>https://en.wikipedia.org/wiki/Air_France</td>\n",
       "    </tr>\n",
       "    <tr>\n",
       "      <th>5</th>\n",
       "      <td>Bank</td>\n",
       "      <td>[Corporation, Organization, Thing]</td>\n",
       "      <td>Crédit Agricole</td>\n",
       "      <td>https://en.wikipedia.org/wiki/Cr%C3%A9dit_Agri...</td>\n",
       "    </tr>\n",
       "    <tr>\n",
       "      <th>6</th>\n",
       "      <td>Meteorological service</td>\n",
       "      <td>[GovernmentOrganization, Organization, Thing]</td>\n",
       "      <td>Météo-France</td>\n",
       "      <td>https://en.wikipedia.org/wiki/M%C3%A9t%C3%A9o-...</td>\n",
       "    </tr>\n",
       "    <tr>\n",
       "      <th>7</th>\n",
       "      <td>Newspaper</td>\n",
       "      <td>[Periodical, Thing]</td>\n",
       "      <td>Ouest-France</td>\n",
       "      <td>https://en.wikipedia.org/wiki/Ouest-France</td>\n",
       "    </tr>\n",
       "    <tr>\n",
       "      <th>8</th>\n",
       "      <td>Radio network</td>\n",
       "      <td>[Organization, Thing]</td>\n",
       "      <td>France Info</td>\n",
       "      <td>https://en.wikipedia.org/wiki/France_Info_(rad...</td>\n",
       "    </tr>\n",
       "    <tr>\n",
       "      <th>9</th>\n",
       "      <td>Company</td>\n",
       "      <td>[Corporation, Organization, Thing]</td>\n",
       "      <td>Maisons du Monde</td>\n",
       "      <td>https://en.wikipedia.org/wiki/Maisons_du_Monde</td>\n",
       "    </tr>\n",
       "  </tbody>\n",
       "</table>\n",
       "</div>"
      ],
      "text/plain": [
       "       result.description                                       result.@type  \\\n",
       "0           Football team                                [SportsTeam, Thing]   \n",
       "1         Football league  [SportsOrganization, Thing, Corporation, Organ...   \n",
       "2          Retail company                 [Corporation, Organization, Thing]   \n",
       "3         Telecom company                 [Corporation, Organization, Thing]   \n",
       "4             Air carrier        [Thing, Corporation, Airline, Organization]   \n",
       "5                    Bank                 [Corporation, Organization, Thing]   \n",
       "6  Meteorological service      [GovernmentOrganization, Organization, Thing]   \n",
       "7               Newspaper                                [Periodical, Thing]   \n",
       "8           Radio network                              [Organization, Thing]   \n",
       "9                 Company                 [Corporation, Organization, Thing]   \n",
       "\n",
       "                     result.name  \\\n",
       "0  France national football team   \n",
       "1                        Ligue 1   \n",
       "2                   Leroy Merlin   \n",
       "3                    Orange S.A.   \n",
       "4                     Air France   \n",
       "5                Crédit Agricole   \n",
       "6                   Météo-France   \n",
       "7                   Ouest-France   \n",
       "8                    France Info   \n",
       "9               Maisons du Monde   \n",
       "\n",
       "                      result.detailedDescription.url  \n",
       "0  https://en.wikipedia.org/wiki/France_national_...  \n",
       "1              https://en.wikipedia.org/wiki/Ligue_1  \n",
       "2         https://en.wikipedia.org/wiki/Leroy_Merlin  \n",
       "3          https://en.wikipedia.org/wiki/Orange_S.A.  \n",
       "4           https://en.wikipedia.org/wiki/Air_France  \n",
       "5  https://en.wikipedia.org/wiki/Cr%C3%A9dit_Agri...  \n",
       "6  https://en.wikipedia.org/wiki/M%C3%A9t%C3%A9o-...  \n",
       "7         https://en.wikipedia.org/wiki/Ouest-France  \n",
       "8  https://en.wikipedia.org/wiki/France_Info_(rad...  \n",
       "9     https://en.wikipedia.org/wiki/Maisons_du_Monde  "
      ]
     },
     "execution_count": 28,
     "metadata": {},
     "output_type": "execute_result"
    }
   ],
   "source": [
    "knowledge_graph = KnowledgeGraph()\n",
    "\n",
    "df_know = knowledge_graph.get_knowledge_graph_df(\"France\")\n",
    "df_know[['result.description', 'result.@type', 'result.name' , 'result.detailedDescription.url']]"
   ]
  },
  {
   "cell_type": "code",
   "execution_count": null,
   "id": "ebea82b4",
   "metadata": {},
   "outputs": [],
   "source": []
  },
  {
   "cell_type": "markdown",
   "id": "4c14df0b",
   "metadata": {},
   "source": [
    "## Linkee wikipedia test case"
   ]
  },
  {
   "cell_type": "code",
   "execution_count": 3,
   "id": "d41f685a",
   "metadata": {},
   "outputs": [],
   "source": [
    "import wikipedia\n",
    "text_wiki = (wikipedia.page(\"Tom Hanks\", auto_suggest=False)).content"
   ]
  },
  {
   "cell_type": "code",
   "execution_count": 28,
   "id": "8917ddeb",
   "metadata": {},
   "outputs": [],
   "source": [
    "input_text = \"Palma\"\n",
    "try:\n",
    "    text_wiki = (wikipedia.page(input_text, auto_suggest=False)).content\n",
    "except Exception as e:\n",
    "    er_var = e\n",
    "    input_text_page = str(er_var).split('may refer to:')[1].split('\\n')[1]\n",
    "    text_wiki = (wikipedia.page(input_text_page, auto_suggest=False)).content"
   ]
  },
  {
   "cell_type": "code",
   "execution_count": 17,
   "id": "768abeaa",
   "metadata": {},
   "outputs": [
    {
     "data": {
      "text/plain": [
       "wikipedia.exceptions.DisambiguationError"
      ]
     },
     "execution_count": 17,
     "metadata": {},
     "output_type": "execute_result"
    }
   ],
   "source": [
    "type(er_var)"
   ]
  },
  {
   "cell_type": "code",
   "execution_count": 18,
   "id": "b2396e92",
   "metadata": {},
   "outputs": [
    {
     "name": "stdout",
     "output_type": "stream",
     "text": [
      "yes\n"
     ]
    }
   ],
   "source": [
    "if type(er_var) == wikipedia.exceptions.DisambiguationError:\n",
    "    print('yes')"
   ]
  },
  {
   "cell_type": "code",
   "execution_count": 29,
   "id": "39a04199",
   "metadata": {},
   "outputs": [
    {
     "data": {
      "text/plain": [
       "\"Palma is a town on the northeast coast of Mozambique's Cabo Delgado Province.  Less than 32 kilometres (20 mi) away is the border with Tanzania to the north and north-west.\\n\\n\\n== Economy and languages ==\\nVarious languages, including Makwe, Makonde, Mwani, Swahili, and Portuguese, are spoken in the town. The town was historically known for its fishing, basketry, and mat-weaving industries.The local economy was transformed by the discovery of gas in the nearby Indian Ocean in 2010, which led to a rapidly growing liquefied natural gas sector.Palma is close to facilities for natural gas extraction off the coast of Mozambique, a major offshore gas project by Total.\\n\\n\\n== 2021 attack ==\\n\\nBeginning in October 2017, armed Islamist extremists linked to the Islamic State of Iraq and the Levant (ISIL) launched a jihadist insurgency in the Cabo Delgado region. The militants launched attacks and committed mass beheadings, and in August 2020 seized the port town of Mocimboa da Praia. The group sometimes called themselves al-Shabaab, although they do not have known links with the Somali al-Shabaab, a different jihadist group.They attacked Palma on 24 March 2021; more than 35,000 people were displaced, many fleeing to the provincial capital, Pemba. Dozens of civilians were murdered, with beheaded bodies left in the street. The militants battled with the Mozambican military, police, and the Dyck Advisory Group (a private military company hired by the police). Lionel Dyck, the head of the Dyck group, said that the attackers wore dark uniforms, were organized, and well-equipped with AK-47 rifles, RPD and PKM machine guns, and heavy mortars.Prior to the attack, the population was around 75,000. Many foreign and domestic natural gas workers evacuated the town by boat, helicopter, and convey, but others could not be evacuated. Most communications with the town were cut off on 29 March. On 29 March, Islamic State of Iraq and the Levant claimed that its Islamic State's Central Africa Province was responsible for the attack and said they had killed 55 people, including Mozambican army soldiers; these claims could not be immediately independently verified.The attack on Palma raised fears of a possible humanitarian crisis.On 5 April, military forces of Mozambique recaptured Palma.\\n\\n\\n== References ==\""
      ]
     },
     "execution_count": 29,
     "metadata": {},
     "output_type": "execute_result"
    }
   ],
   "source": [
    "text_wiki"
   ]
  },
  {
   "cell_type": "code",
   "execution_count": null,
   "id": "b64d2915",
   "metadata": {},
   "outputs": [],
   "source": [
    "er_var.split(f'{input_text},')"
   ]
  }
 ],
 "metadata": {
  "kernelspec": {
   "display_name": "Python 3 (ipykernel)",
   "language": "python",
   "name": "python3"
  },
  "language_info": {
   "codemirror_mode": {
    "name": "ipython",
    "version": 3
   },
   "file_extension": ".py",
   "mimetype": "text/x-python",
   "name": "python",
   "nbconvert_exporter": "python",
   "pygments_lexer": "ipython3",
   "version": "3.7.11"
  }
 },
 "nbformat": 4,
 "nbformat_minor": 5
}
